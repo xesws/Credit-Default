{
 "cells": [
  {
   "cell_type": "code",
   "execution_count": 43,
   "metadata": {},
   "outputs": [],
   "source": [
    "import pandas as pd\n",
    "import numpy as np\n",
    "from sklearn.model_selection import train_test_split\n",
    "from sklearn.preprocessing import StandardScaler\n",
    "from sklearn.impute import SimpleImputer\n",
    "from sklearn.preprocessing import OneHotEncoder\n",
    "from sklearn.compose import ColumnTransformer\n",
    "from sklearn.pipeline import Pipeline\n",
    "from sklearn.ensemble import RandomForestClassifier\n",
    "from sklearn.neural_network import MLPClassifier\n",
    "from sklearn.metrics import precision_score, recall_score, f1_score, roc_auc_score, confusion_matrix\n",
    "from sklearn.preprocessing import OrdinalEncoder\n",
    "from category_encoders import TargetEncoder \n",
    "from sklearn.model_selection import train_test_split, GridSearchCV, RandomizedSearchCV\n",
    "from sklearn.ensemble import RandomForestClassifier, GradientBoostingClassifier, AdaBoostClassifier\n",
    "import xgboost\n",
    "from xgboost.sklearn import XGBClassifier\n",
    "from sklearn.tree import DecisionTreeClassifier\n",
    "\n",
    "app_train = pd.read_csv('application_train.csv')\n",
    "app_test = pd.read_csv('application_test.csv')\n",
    "credcard = pd.read_csv('credit_aggregates.csv')\n",
    "prev = pd.read_csv('previous_aggregates.csv')\n",
    "installments = pd.read_csv('installments_aggregates.csv')"
   ]
  },
  {
   "cell_type": "code",
   "execution_count": 44,
   "metadata": {},
   "outputs": [
    {
     "data": {
      "text/plain": [
       "(307511, 122)"
      ]
     },
     "execution_count": 44,
     "metadata": {},
     "output_type": "execute_result"
    }
   ],
   "source": [
    "#\n",
    "app_train.shape"
   ]
  },
  {
   "cell_type": "code",
   "execution_count": 45,
   "metadata": {},
   "outputs": [
    {
     "name": "stdout",
     "output_type": "stream",
     "text": [
      "(307511, 140)\n"
     ]
    },
    {
     "data": {
      "text/html": [
       "<div>\n",
       "<style scoped>\n",
       "    .dataframe tbody tr th:only-of-type {\n",
       "        vertical-align: middle;\n",
       "    }\n",
       "\n",
       "    .dataframe tbody tr th {\n",
       "        vertical-align: top;\n",
       "    }\n",
       "\n",
       "    .dataframe thead th {\n",
       "        text-align: right;\n",
       "    }\n",
       "</style>\n",
       "<table border=\"1\" class=\"dataframe\">\n",
       "  <thead>\n",
       "    <tr style=\"text-align: right;\">\n",
       "      <th></th>\n",
       "      <th>SK_ID_CURR</th>\n",
       "      <th>TARGET</th>\n",
       "      <th>NAME_CONTRACT_TYPE_x</th>\n",
       "      <th>CODE_GENDER</th>\n",
       "      <th>FLAG_OWN_CAR</th>\n",
       "      <th>FLAG_OWN_REALTY</th>\n",
       "      <th>CNT_CHILDREN</th>\n",
       "      <th>AMT_INCOME_TOTAL</th>\n",
       "      <th>AMT_CREDIT_x</th>\n",
       "      <th>AMT_ANNUITY_x</th>\n",
       "      <th>...</th>\n",
       "      <th>DAYS_LAST_DUE</th>\n",
       "      <th>DAYS_TERMINATION</th>\n",
       "      <th>TOTAL_ANNUITY</th>\n",
       "      <th>TOTAL_APPLICATION</th>\n",
       "      <th>TOTAL_PAYMENT</th>\n",
       "      <th>TOTAL_OVERDUE_DAYS</th>\n",
       "      <th>TOTAL_BALANCE</th>\n",
       "      <th>TOTAL_LIMIT</th>\n",
       "      <th>AVG_DIFF_RECEIV_BALANCE</th>\n",
       "      <th>AVG_RATIO_CASH</th>\n",
       "    </tr>\n",
       "  </thead>\n",
       "  <tbody>\n",
       "    <tr>\n",
       "      <th>0</th>\n",
       "      <td>100002</td>\n",
       "      <td>1</td>\n",
       "      <td>Cash loans</td>\n",
       "      <td>M</td>\n",
       "      <td>N</td>\n",
       "      <td>Y</td>\n",
       "      <td>0</td>\n",
       "      <td>202500.0</td>\n",
       "      <td>406597.5</td>\n",
       "      <td>24700.5</td>\n",
       "      <td>...</td>\n",
       "      <td>-25.0</td>\n",
       "      <td>-17.0</td>\n",
       "      <td>9251.775</td>\n",
       "      <td>179055.0</td>\n",
       "      <td>219625.695</td>\n",
       "      <td>-388.0</td>\n",
       "      <td>0.0</td>\n",
       "      <td>0.0</td>\n",
       "      <td>0.0</td>\n",
       "      <td>0.0</td>\n",
       "    </tr>\n",
       "    <tr>\n",
       "      <th>1</th>\n",
       "      <td>100003</td>\n",
       "      <td>0</td>\n",
       "      <td>Cash loans</td>\n",
       "      <td>F</td>\n",
       "      <td>N</td>\n",
       "      <td>N</td>\n",
       "      <td>0</td>\n",
       "      <td>270000.0</td>\n",
       "      <td>1293502.5</td>\n",
       "      <td>35698.5</td>\n",
       "      <td>...</td>\n",
       "      <td>-536.0</td>\n",
       "      <td>-527.0</td>\n",
       "      <td>169661.970</td>\n",
       "      <td>1452573.0</td>\n",
       "      <td>1618864.650</td>\n",
       "      <td>-179.0</td>\n",
       "      <td>0.0</td>\n",
       "      <td>0.0</td>\n",
       "      <td>0.0</td>\n",
       "      <td>0.0</td>\n",
       "    </tr>\n",
       "    <tr>\n",
       "      <th>2</th>\n",
       "      <td>100004</td>\n",
       "      <td>0</td>\n",
       "      <td>Revolving loans</td>\n",
       "      <td>M</td>\n",
       "      <td>Y</td>\n",
       "      <td>Y</td>\n",
       "      <td>0</td>\n",
       "      <td>67500.0</td>\n",
       "      <td>135000.0</td>\n",
       "      <td>6750.0</td>\n",
       "      <td>...</td>\n",
       "      <td>-724.0</td>\n",
       "      <td>-714.0</td>\n",
       "      <td>5357.250</td>\n",
       "      <td>20106.0</td>\n",
       "      <td>21288.465</td>\n",
       "      <td>-23.0</td>\n",
       "      <td>0.0</td>\n",
       "      <td>0.0</td>\n",
       "      <td>0.0</td>\n",
       "      <td>0.0</td>\n",
       "    </tr>\n",
       "    <tr>\n",
       "      <th>3</th>\n",
       "      <td>100006</td>\n",
       "      <td>0</td>\n",
       "      <td>Cash loans</td>\n",
       "      <td>F</td>\n",
       "      <td>N</td>\n",
       "      <td>Y</td>\n",
       "      <td>0</td>\n",
       "      <td>135000.0</td>\n",
       "      <td>312682.5</td>\n",
       "      <td>29686.5</td>\n",
       "      <td>...</td>\n",
       "      <td>-151.0</td>\n",
       "      <td>-143.0</td>\n",
       "      <td>141907.050</td>\n",
       "      <td>2625259.5</td>\n",
       "      <td>1007153.415</td>\n",
       "      <td>-310.0</td>\n",
       "      <td>0.0</td>\n",
       "      <td>1620000.0</td>\n",
       "      <td>-270000.0</td>\n",
       "      <td>0.0</td>\n",
       "    </tr>\n",
       "    <tr>\n",
       "      <th>4</th>\n",
       "      <td>100007</td>\n",
       "      <td>0</td>\n",
       "      <td>Cash loans</td>\n",
       "      <td>M</td>\n",
       "      <td>N</td>\n",
       "      <td>Y</td>\n",
       "      <td>0</td>\n",
       "      <td>121500.0</td>\n",
       "      <td>513000.0</td>\n",
       "      <td>21865.5</td>\n",
       "      <td>...</td>\n",
       "      <td>365243.0</td>\n",
       "      <td>365243.0</td>\n",
       "      <td>73672.830</td>\n",
       "      <td>999832.5</td>\n",
       "      <td>806127.975</td>\n",
       "      <td>-240.0</td>\n",
       "      <td>0.0</td>\n",
       "      <td>0.0</td>\n",
       "      <td>0.0</td>\n",
       "      <td>0.0</td>\n",
       "    </tr>\n",
       "  </tbody>\n",
       "</table>\n",
       "<p>5 rows × 140 columns</p>\n",
       "</div>"
      ],
      "text/plain": [
       "   SK_ID_CURR  TARGET NAME_CONTRACT_TYPE_x CODE_GENDER FLAG_OWN_CAR  \\\n",
       "0      100002       1           Cash loans           M            N   \n",
       "1      100003       0           Cash loans           F            N   \n",
       "2      100004       0      Revolving loans           M            Y   \n",
       "3      100006       0           Cash loans           F            N   \n",
       "4      100007       0           Cash loans           M            N   \n",
       "\n",
       "  FLAG_OWN_REALTY  CNT_CHILDREN  AMT_INCOME_TOTAL  AMT_CREDIT_x  \\\n",
       "0               Y             0          202500.0      406597.5   \n",
       "1               N             0          270000.0     1293502.5   \n",
       "2               Y             0           67500.0      135000.0   \n",
       "3               Y             0          135000.0      312682.5   \n",
       "4               Y             0          121500.0      513000.0   \n",
       "\n",
       "   AMT_ANNUITY_x  ...  DAYS_LAST_DUE DAYS_TERMINATION TOTAL_ANNUITY  \\\n",
       "0        24700.5  ...          -25.0            -17.0      9251.775   \n",
       "1        35698.5  ...         -536.0           -527.0    169661.970   \n",
       "2         6750.0  ...         -724.0           -714.0      5357.250   \n",
       "3        29686.5  ...         -151.0           -143.0    141907.050   \n",
       "4        21865.5  ...       365243.0         365243.0     73672.830   \n",
       "\n",
       "  TOTAL_APPLICATION TOTAL_PAYMENT TOTAL_OVERDUE_DAYS  TOTAL_BALANCE  \\\n",
       "0          179055.0    219625.695             -388.0            0.0   \n",
       "1         1452573.0   1618864.650             -179.0            0.0   \n",
       "2           20106.0     21288.465              -23.0            0.0   \n",
       "3         2625259.5   1007153.415             -310.0            0.0   \n",
       "4          999832.5    806127.975             -240.0            0.0   \n",
       "\n",
       "   TOTAL_LIMIT  AVG_DIFF_RECEIV_BALANCE  AVG_RATIO_CASH  \n",
       "0          0.0                      0.0             0.0  \n",
       "1          0.0                      0.0             0.0  \n",
       "2          0.0                      0.0             0.0  \n",
       "3    1620000.0                -270000.0             0.0  \n",
       "4          0.0                      0.0             0.0  \n",
       "\n",
       "[5 rows x 140 columns]"
      ]
     },
     "execution_count": 45,
     "metadata": {},
     "output_type": "execute_result"
    }
   ],
   "source": [
    "#combined data\n",
    "app = app_train.merge(prev, on=\"SK_ID_CURR\", how='left').merge(installments, on='SK_ID_CURR', how='left').merge(credcard, on='SK_ID_CURR', how='left').fillna(0)\n",
    "print(app.shape)\n",
    "app.head()"
   ]
  },
  {
   "cell_type": "code",
   "execution_count": 46,
   "metadata": {},
   "outputs": [
    {
     "name": "stdout",
     "output_type": "stream",
     "text": [
      "(307511, 136)\n"
     ]
    }
   ],
   "source": [
    "#imbalance\n",
    "app['TARGET'].shape[0] - np.sum(app['TARGET'])\n",
    "app = app.drop(columns=['CNT_FAM_MEMBERS','LIVE_REGION_NOT_WORK_REGION', 'REG_REGION_NOT_WORK_REGION', 'OBS_60_CNT_SOCIAL_CIRCLE'])\n",
    "print(app.shape)"
   ]
  },
  {
   "cell_type": "code",
   "execution_count": 47,
   "metadata": {},
   "outputs": [
    {
     "data": {
      "text/plain": [
       "89"
      ]
     },
     "execution_count": 47,
     "metadata": {},
     "output_type": "execute_result"
    }
   ],
   "source": [
    "#pre-process\n",
    "#continuous\n",
    "all_numerical_cols = list(app.select_dtypes(exclude='object').columns)\n",
    "cont_cols = [col for col in all_numerical_cols if col != \"TARGET\" and col[:5]!='FLAG_']\n",
    "# app_test = app_test.drop(columns=['CNT_FAM_MEMBERS','LIVE_REGION_NOT_WORK_REGION', 'REG_REGION_NOT_WORK_REGION', 'OBS_60_CNT_SOCIAL_CIRCLE'])\n",
    "cols_to_remove = ['AMT_CREDIT', 'CNT_FAM_MEMBERS', 'REG_REGION_NOT_WORK_REGION', 'LIVE_REGION_NOT_WORK_REGION', 'OBS_60_CNT_SOCIAL_CIRCLE','SK_ID_CURR']\n",
    "cont= list(set(cont_cols) - set(cols_to_remove))\n",
    "len(cont)"
   ]
  },
  {
   "cell_type": "code",
   "execution_count": 48,
   "metadata": {},
   "outputs": [],
   "source": [
    "\n",
    "app['Employed/Birth'] = app['DAYS_EMPLOYED']/app['DAYS_BIRTH'] \n",
    "app['Flag_Greater_30'] = (app['DAYS_BIRTH']/-365.25).apply(lambda x: 1 if x > 30 else 0)\n",
    "app['Flag_Employment_Greater_5'] = (app['DAYS_EMPLOYED']/-365.25).apply(lambda x: 1 if x > 5 else 0)\n"
   ]
  },
  {
   "cell_type": "code",
   "execution_count": 49,
   "metadata": {},
   "outputs": [],
   "source": [
    "#set X1 and Y1 and try to train\n",
    "cat_col = app.select_dtypes('object')\n",
    "enc = TargetEncoder()\n",
    "app[cat_col.columns] = enc.fit_transform(app[cat_col.columns], app['TARGET'])"
   ]
  },
  {
   "cell_type": "code",
   "execution_count": 50,
   "metadata": {},
   "outputs": [
    {
     "name": "stdout",
     "output_type": "stream",
     "text": [
      "(307511, 139)\n"
     ]
    }
   ],
   "source": [
    "#deal with the nas\n",
    "#drop some columns\n",
    "k = 0\n",
    "for i in cat_col:\n",
    "    if np.sum(app[i].isna().sum())/app.shape[0] >= 0.4:\n",
    "        app = app.drop(columns=[i])\n",
    "    app[i].fillna(app[i].mode(), inplace=True)\n",
    "for i in cont_cols:\n",
    "    if np.sum(app[i].isna().sum())/app.shape[0] >= 0.4:\n",
    "        app = app.drop(columns=[i])\n",
    "    app[i].fillna(app[i].median(), inplace=True)\n",
    "    sc = StandardScaler().fit(app[[i]])\n",
    "    app[i] = sc.transform(app[[i]])\n",
    "for i in app.columns:\n",
    "    if max(app[i])>5 and i not in cat_col:\n",
    "        sc = StandardScaler().fit(app[[i]])\n",
    "        app[i] = sc.transform(app[[i]])\n",
    "print(app.shape)"
   ]
  },
  {
   "cell_type": "code",
   "execution_count": 51,
   "metadata": {},
   "outputs": [
    {
     "data": {
      "text/plain": [
       "0"
      ]
     },
     "execution_count": 51,
     "metadata": {},
     "output_type": "execute_result"
    }
   ],
   "source": [
    "#na checks zero!!!\n",
    "app.isna().sum().sum()"
   ]
  },
  {
   "cell_type": "code",
   "execution_count": 52,
   "metadata": {},
   "outputs": [
    {
     "data": {
      "text/plain": [
       "0         0.073674\n",
       "1         0.073674\n",
       "2         0.073674\n",
       "3         0.073674\n",
       "4         0.073674\n",
       "            ...   \n",
       "307506    0.073674\n",
       "307507    0.073674\n",
       "307508    0.073674\n",
       "307509    0.073674\n",
       "307510    0.124919\n",
       "Name: NAME_CONTRACT_STATUS, Length: 307511, dtype: float64"
      ]
     },
     "execution_count": 52,
     "metadata": {},
     "output_type": "execute_result"
    }
   ],
   "source": [
    "app['NAME_CONTRACT_STATUS']"
   ]
  },
  {
   "cell_type": "code",
   "execution_count": 53,
   "metadata": {},
   "outputs": [
    {
     "name": "stdout",
     "output_type": "stream",
     "text": [
      "(190001, 139) (70001, 139)\n",
      "(277287, 137) (102180, 137)\n",
      "(47511, 137)\n"
     ]
    }
   ],
   "source": [
    "#over sampling and onehot encode\n",
    "def posi_extend(X, y):\n",
    "    more_posi = (int) ((y.shape[0] - np.sum(y))*0.5)\n",
    "    posi_idx = [i for i in range(len(y)) if y.iloc[i] == 1]\n",
    "    indices = np.random.choice(posi_idx, size=more_posi, replace=True)\n",
    "    X_ex = X.iloc[indices]\n",
    "    y_ex = y.iloc[indices]\n",
    "    X = pd.concat([X, X_ex], axis=0)\n",
    "    y = pd.concat([y, y_ex], axis=0)\n",
    "    return X, y\n",
    "\n",
    "#two stages of training \n",
    "train1 = app.loc[:190000,:]\n",
    "train2 = app.loc[190000:260000,:]\n",
    "print(train1.shape, train2.shape)\n",
    "\n",
    "Y1 = train1.iloc[:,1]\n",
    "X1 = train1.drop([\"TARGET\", \"SK_ID_CURR\"],axis=1)\n",
    "Y2 = train2.iloc[:,1]\n",
    "X2 = train2.drop([\"TARGET\", \"SK_ID_CURR\"],axis=1)\n",
    "\n",
    "X1, Y1 = posi_extend(X1, Y1)\n",
    "X2, Y2 = posi_extend(X2, Y2)\n",
    "print(X1.shape, X2.shape)\n",
    "\n",
    "#final test set, imbalanced\n",
    "test_data = app.loc[260000:,:]\n",
    "YTest = test_data.iloc[:,1]\n",
    "XTest = test_data.drop([\"TARGET\", \"SK_ID_CURR\"],axis=1)\n",
    "print(XTest.shape)"
   ]
  },
  {
   "cell_type": "code",
   "execution_count": 54,
   "metadata": {},
   "outputs": [
    {
     "data": {
      "text/html": [
       "<div>\n",
       "<style scoped>\n",
       "    .dataframe tbody tr th:only-of-type {\n",
       "        vertical-align: middle;\n",
       "    }\n",
       "\n",
       "    .dataframe tbody tr th {\n",
       "        vertical-align: top;\n",
       "    }\n",
       "\n",
       "    .dataframe thead th {\n",
       "        text-align: right;\n",
       "    }\n",
       "</style>\n",
       "<table border=\"1\" class=\"dataframe\">\n",
       "  <thead>\n",
       "    <tr style=\"text-align: right;\">\n",
       "      <th></th>\n",
       "      <th>NAME_CONTRACT_TYPE_x</th>\n",
       "      <th>CODE_GENDER</th>\n",
       "      <th>FLAG_OWN_CAR</th>\n",
       "      <th>FLAG_OWN_REALTY</th>\n",
       "      <th>CNT_CHILDREN</th>\n",
       "      <th>AMT_INCOME_TOTAL</th>\n",
       "      <th>AMT_CREDIT_x</th>\n",
       "      <th>AMT_ANNUITY_x</th>\n",
       "      <th>AMT_GOODS_PRICE</th>\n",
       "      <th>NAME_TYPE_SUITE</th>\n",
       "      <th>...</th>\n",
       "      <th>TOTAL_APPLICATION</th>\n",
       "      <th>TOTAL_PAYMENT</th>\n",
       "      <th>TOTAL_OVERDUE_DAYS</th>\n",
       "      <th>TOTAL_BALANCE</th>\n",
       "      <th>TOTAL_LIMIT</th>\n",
       "      <th>AVG_DIFF_RECEIV_BALANCE</th>\n",
       "      <th>AVG_RATIO_CASH</th>\n",
       "      <th>Employed/Birth</th>\n",
       "      <th>Flag_Greater_30</th>\n",
       "      <th>Flag_Employment_Greater_5</th>\n",
       "    </tr>\n",
       "  </thead>\n",
       "  <tbody>\n",
       "    <tr>\n",
       "      <th>0</th>\n",
       "      <td>0.083459</td>\n",
       "      <td>0.101419</td>\n",
       "      <td>0.085002</td>\n",
       "      <td>0.079616</td>\n",
       "      <td>-0.577538</td>\n",
       "      <td>0.142129</td>\n",
       "      <td>-0.478095</td>\n",
       "      <td>-0.166065</td>\n",
       "      <td>-0.505662</td>\n",
       "      <td>0.081830</td>\n",
       "      <td>...</td>\n",
       "      <td>-0.494912</td>\n",
       "      <td>-0.468572</td>\n",
       "      <td>-0.114705</td>\n",
       "      <td>-0.249347</td>\n",
       "      <td>-0.366327</td>\n",
       "      <td>0.306694</td>\n",
       "      <td>-0.227351</td>\n",
       "      <td>0.067329</td>\n",
       "      <td>0</td>\n",
       "      <td>0</td>\n",
       "    </tr>\n",
       "    <tr>\n",
       "      <th>1</th>\n",
       "      <td>0.083459</td>\n",
       "      <td>0.069993</td>\n",
       "      <td>0.085002</td>\n",
       "      <td>0.083249</td>\n",
       "      <td>-0.577538</td>\n",
       "      <td>0.426792</td>\n",
       "      <td>1.725450</td>\n",
       "      <td>0.592710</td>\n",
       "      <td>1.600480</td>\n",
       "      <td>0.074946</td>\n",
       "      <td>...</td>\n",
       "      <td>0.376084</td>\n",
       "      <td>1.077965</td>\n",
       "      <td>0.299068</td>\n",
       "      <td>-0.249347</td>\n",
       "      <td>-0.366327</td>\n",
       "      <td>0.306694</td>\n",
       "      <td>-0.227351</td>\n",
       "      <td>0.070862</td>\n",
       "      <td>1</td>\n",
       "      <td>0</td>\n",
       "    </tr>\n",
       "    <tr>\n",
       "      <th>2</th>\n",
       "      <td>0.054783</td>\n",
       "      <td>0.101419</td>\n",
       "      <td>0.072437</td>\n",
       "      <td>0.079616</td>\n",
       "      <td>-0.577538</td>\n",
       "      <td>-0.427196</td>\n",
       "      <td>-1.152888</td>\n",
       "      <td>-1.404507</td>\n",
       "      <td>-1.090025</td>\n",
       "      <td>0.081830</td>\n",
       "      <td>...</td>\n",
       "      <td>-0.603622</td>\n",
       "      <td>-0.687788</td>\n",
       "      <td>0.607912</td>\n",
       "      <td>-0.249347</td>\n",
       "      <td>-0.366327</td>\n",
       "      <td>0.306694</td>\n",
       "      <td>-0.227351</td>\n",
       "      <td>0.011814</td>\n",
       "      <td>1</td>\n",
       "      <td>0</td>\n",
       "    </tr>\n",
       "    <tr>\n",
       "      <th>3</th>\n",
       "      <td>0.083459</td>\n",
       "      <td>0.069993</td>\n",
       "      <td>0.085002</td>\n",
       "      <td>0.079616</td>\n",
       "      <td>-0.577538</td>\n",
       "      <td>-0.142533</td>\n",
       "      <td>-0.711430</td>\n",
       "      <td>0.177929</td>\n",
       "      <td>-0.651753</td>\n",
       "      <td>0.081830</td>\n",
       "      <td>...</td>\n",
       "      <td>1.178119</td>\n",
       "      <td>0.401858</td>\n",
       "      <td>0.039717</td>\n",
       "      <td>-0.249347</td>\n",
       "      <td>1.786412</td>\n",
       "      <td>-2.385819</td>\n",
       "      <td>-0.227351</td>\n",
       "      <td>0.159905</td>\n",
       "      <td>1</td>\n",
       "      <td>1</td>\n",
       "    </tr>\n",
       "    <tr>\n",
       "      <th>4</th>\n",
       "      <td>0.083459</td>\n",
       "      <td>0.101419</td>\n",
       "      <td>0.085002</td>\n",
       "      <td>0.079616</td>\n",
       "      <td>-0.577538</td>\n",
       "      <td>-0.199466</td>\n",
       "      <td>-0.213734</td>\n",
       "      <td>-0.361658</td>\n",
       "      <td>-0.067390</td>\n",
       "      <td>0.081830</td>\n",
       "      <td>...</td>\n",
       "      <td>0.066442</td>\n",
       "      <td>0.179671</td>\n",
       "      <td>0.178301</td>\n",
       "      <td>-0.249347</td>\n",
       "      <td>-0.366327</td>\n",
       "      <td>0.306694</td>\n",
       "      <td>-0.227351</td>\n",
       "      <td>0.152418</td>\n",
       "      <td>1</td>\n",
       "      <td>1</td>\n",
       "    </tr>\n",
       "    <tr>\n",
       "      <th>5</th>\n",
       "      <td>0.083459</td>\n",
       "      <td>0.101419</td>\n",
       "      <td>0.085002</td>\n",
       "      <td>0.079616</td>\n",
       "      <td>-0.577538</td>\n",
       "      <td>-0.294354</td>\n",
       "      <td>-0.269648</td>\n",
       "      <td>0.028286</td>\n",
       "      <td>-0.225655</td>\n",
       "      <td>0.078716</td>\n",
       "      <td>...</td>\n",
       "      <td>-0.060765</td>\n",
       "      <td>0.347108</td>\n",
       "      <td>2.462960</td>\n",
       "      <td>-0.249347</td>\n",
       "      <td>-0.366327</td>\n",
       "      <td>0.306694</td>\n",
       "      <td>-0.227351</td>\n",
       "      <td>0.093737</td>\n",
       "      <td>1</td>\n",
       "      <td>0</td>\n",
       "    </tr>\n",
       "    <tr>\n",
       "      <th>6</th>\n",
       "      <td>0.083459</td>\n",
       "      <td>0.069993</td>\n",
       "      <td>0.072437</td>\n",
       "      <td>0.079616</td>\n",
       "      <td>0.807273</td>\n",
       "      <td>0.009287</td>\n",
       "      <td>2.389375</td>\n",
       "      <td>0.979238</td>\n",
       "      <td>2.318760</td>\n",
       "      <td>0.081830</td>\n",
       "      <td>...</td>\n",
       "      <td>-0.281589</td>\n",
       "      <td>-0.171952</td>\n",
       "      <td>-0.213694</td>\n",
       "      <td>-0.249347</td>\n",
       "      <td>-0.366327</td>\n",
       "      <td>0.306694</td>\n",
       "      <td>-0.227351</td>\n",
       "      <td>0.227174</td>\n",
       "      <td>1</td>\n",
       "      <td>1</td>\n",
       "    </tr>\n",
       "    <tr>\n",
       "      <th>7</th>\n",
       "      <td>0.083459</td>\n",
       "      <td>0.101419</td>\n",
       "      <td>0.072437</td>\n",
       "      <td>0.079616</td>\n",
       "      <td>-0.577538</td>\n",
       "      <td>0.806342</td>\n",
       "      <td>2.313036</td>\n",
       "      <td>1.032638</td>\n",
       "      <td>2.683987</td>\n",
       "      <td>0.081830</td>\n",
       "      <td>...</td>\n",
       "      <td>-0.438997</td>\n",
       "      <td>-0.407930</td>\n",
       "      <td>0.417854</td>\n",
       "      <td>-0.249347</td>\n",
       "      <td>-0.366327</td>\n",
       "      <td>0.306694</td>\n",
       "      <td>-0.227351</td>\n",
       "      <td>0.023820</td>\n",
       "      <td>1</td>\n",
       "      <td>0</td>\n",
       "    </tr>\n",
       "    <tr>\n",
       "      <th>8</th>\n",
       "      <td>0.083459</td>\n",
       "      <td>0.069993</td>\n",
       "      <td>0.085002</td>\n",
       "      <td>0.079616</td>\n",
       "      <td>-0.577538</td>\n",
       "      <td>-0.237421</td>\n",
       "      <td>1.044955</td>\n",
       "      <td>0.463557</td>\n",
       "      <td>1.016117</td>\n",
       "      <td>0.073768</td>\n",
       "      <td>...</td>\n",
       "      <td>0.098948</td>\n",
       "      <td>0.916475</td>\n",
       "      <td>1.461195</td>\n",
       "      <td>-0.249347</td>\n",
       "      <td>0.231656</td>\n",
       "      <td>-0.590810</td>\n",
       "      <td>-0.227351</td>\n",
       "      <td>-18.172198</td>\n",
       "      <td>1</td>\n",
       "      <td>0</td>\n",
       "    </tr>\n",
       "    <tr>\n",
       "      <th>9</th>\n",
       "      <td>0.054783</td>\n",
       "      <td>0.101419</td>\n",
       "      <td>0.085002</td>\n",
       "      <td>0.079616</td>\n",
       "      <td>-0.577538</td>\n",
       "      <td>-0.142533</td>\n",
       "      <td>-0.482064</td>\n",
       "      <td>-0.473114</td>\n",
       "      <td>-0.359571</td>\n",
       "      <td>0.081830</td>\n",
       "      <td>...</td>\n",
       "      <td>-0.414603</td>\n",
       "      <td>-0.156846</td>\n",
       "      <td>-1.751978</td>\n",
       "      <td>-0.249347</td>\n",
       "      <td>-0.366327</td>\n",
       "      <td>0.306694</td>\n",
       "      <td>-0.227351</td>\n",
       "      <td>0.139540</td>\n",
       "      <td>1</td>\n",
       "      <td>1</td>\n",
       "    </tr>\n",
       "  </tbody>\n",
       "</table>\n",
       "<p>10 rows × 137 columns</p>\n",
       "</div>"
      ],
      "text/plain": [
       "   NAME_CONTRACT_TYPE_x  CODE_GENDER  FLAG_OWN_CAR  FLAG_OWN_REALTY  \\\n",
       "0              0.083459     0.101419      0.085002         0.079616   \n",
       "1              0.083459     0.069993      0.085002         0.083249   \n",
       "2              0.054783     0.101419      0.072437         0.079616   \n",
       "3              0.083459     0.069993      0.085002         0.079616   \n",
       "4              0.083459     0.101419      0.085002         0.079616   \n",
       "5              0.083459     0.101419      0.085002         0.079616   \n",
       "6              0.083459     0.069993      0.072437         0.079616   \n",
       "7              0.083459     0.101419      0.072437         0.079616   \n",
       "8              0.083459     0.069993      0.085002         0.079616   \n",
       "9              0.054783     0.101419      0.085002         0.079616   \n",
       "\n",
       "   CNT_CHILDREN  AMT_INCOME_TOTAL  AMT_CREDIT_x  AMT_ANNUITY_x  \\\n",
       "0     -0.577538          0.142129     -0.478095      -0.166065   \n",
       "1     -0.577538          0.426792      1.725450       0.592710   \n",
       "2     -0.577538         -0.427196     -1.152888      -1.404507   \n",
       "3     -0.577538         -0.142533     -0.711430       0.177929   \n",
       "4     -0.577538         -0.199466     -0.213734      -0.361658   \n",
       "5     -0.577538         -0.294354     -0.269648       0.028286   \n",
       "6      0.807273          0.009287      2.389375       0.979238   \n",
       "7     -0.577538          0.806342      2.313036       1.032638   \n",
       "8     -0.577538         -0.237421      1.044955       0.463557   \n",
       "9     -0.577538         -0.142533     -0.482064      -0.473114   \n",
       "\n",
       "   AMT_GOODS_PRICE  NAME_TYPE_SUITE  ...  TOTAL_APPLICATION  TOTAL_PAYMENT  \\\n",
       "0        -0.505662         0.081830  ...          -0.494912      -0.468572   \n",
       "1         1.600480         0.074946  ...           0.376084       1.077965   \n",
       "2        -1.090025         0.081830  ...          -0.603622      -0.687788   \n",
       "3        -0.651753         0.081830  ...           1.178119       0.401858   \n",
       "4        -0.067390         0.081830  ...           0.066442       0.179671   \n",
       "5        -0.225655         0.078716  ...          -0.060765       0.347108   \n",
       "6         2.318760         0.081830  ...          -0.281589      -0.171952   \n",
       "7         2.683987         0.081830  ...          -0.438997      -0.407930   \n",
       "8         1.016117         0.073768  ...           0.098948       0.916475   \n",
       "9        -0.359571         0.081830  ...          -0.414603      -0.156846   \n",
       "\n",
       "   TOTAL_OVERDUE_DAYS  TOTAL_BALANCE  TOTAL_LIMIT  AVG_DIFF_RECEIV_BALANCE  \\\n",
       "0           -0.114705      -0.249347    -0.366327                 0.306694   \n",
       "1            0.299068      -0.249347    -0.366327                 0.306694   \n",
       "2            0.607912      -0.249347    -0.366327                 0.306694   \n",
       "3            0.039717      -0.249347     1.786412                -2.385819   \n",
       "4            0.178301      -0.249347    -0.366327                 0.306694   \n",
       "5            2.462960      -0.249347    -0.366327                 0.306694   \n",
       "6           -0.213694      -0.249347    -0.366327                 0.306694   \n",
       "7            0.417854      -0.249347    -0.366327                 0.306694   \n",
       "8            1.461195      -0.249347     0.231656                -0.590810   \n",
       "9           -1.751978      -0.249347    -0.366327                 0.306694   \n",
       "\n",
       "   AVG_RATIO_CASH  Employed/Birth  Flag_Greater_30  Flag_Employment_Greater_5  \n",
       "0       -0.227351        0.067329                0                          0  \n",
       "1       -0.227351        0.070862                1                          0  \n",
       "2       -0.227351        0.011814                1                          0  \n",
       "3       -0.227351        0.159905                1                          1  \n",
       "4       -0.227351        0.152418                1                          1  \n",
       "5       -0.227351        0.093737                1                          0  \n",
       "6       -0.227351        0.227174                1                          1  \n",
       "7       -0.227351        0.023820                1                          0  \n",
       "8       -0.227351      -18.172198                1                          0  \n",
       "9       -0.227351        0.139540                1                          1  \n",
       "\n",
       "[10 rows x 137 columns]"
      ]
     },
     "execution_count": 54,
     "metadata": {},
     "output_type": "execute_result"
    }
   ],
   "source": [
    "X1.head(10)"
   ]
  },
  {
   "cell_type": "code",
   "execution_count": 58,
   "metadata": {},
   "outputs": [
    {
     "name": "stdout",
     "output_type": "stream",
     "text": [
      "-------------------------RandomForestClassifier(random_state=42, max_depth=15)\n",
      "auc: 0.7410044593032554 F1: 0.2439798125450613\n",
      "-------------------------DecisionTreeClassifier(random_state=42, max_depth=15)\n",
      "auc: 0.6059797279227317 F1: 0.22962503873566778\n",
      "-------------------------XGBClassifier(max_depth=5)\n",
      "auc: 0.7581080961135571 F1: 0.3049335199440168\n"
     ]
    }
   ],
   "source": [
    "\n",
    "X_train, X_test, y_train, y_test = train_test_split(X1, Y1, test_size=0.3, random_state=42)\n",
    "print(\"-------------------------RandomForestClassifier(random_state=42, max_depth=15)\")\n",
    "#clf = RandomForestClassifier(random_state=42, max_depth=15) \n",
    "clf = RandomForestClassifier(random_state=42, max_depth=15)\n",
    "# clf = MLPClassifier(max_iter=100, hidden_layer_sizes=(512,128,32,32,32,16),alpha=0.1,learning_rate_init=0.001) #imbalanced test: AUC 0.662085296871909, F1 0.216791319919941\n",
    "clf.fit(X_train, y_train)\n",
    "y_pred = clf.predict_proba(XTest)\n",
    "print(\"auc: \"+ str(roc_auc_score(YTest, y_pred[:,1])), \"F1: \"+str(f1_score(YTest, clf.predict(XTest))))\n",
    "\n",
    "print(\"-------------------------DecisionTreeClassifier(random_state=42, max_depth=15)\")\n",
    "clf = DecisionTreeClassifier(random_state=42, max_depth=15)\n",
    "clf.fit(X_train, y_train)\n",
    "y_pred = clf.predict_proba(XTest)\n",
    "print(\"auc: \"+ str(roc_auc_score(YTest, y_pred[:,1])), \"F1: \"+str(f1_score(YTest, clf.predict(XTest))))\n",
    "\n",
    "print(\"-------------------------XGBClassifier(max_depth=5)\")\n",
    "clf = XGBClassifier(max_depth=5)\n",
    "clf.fit(X_train, y_train)\n",
    "y_pred = clf.predict_proba(XTest)\n",
    "print(\"auc: \"+ str(roc_auc_score(YTest, y_pred[:,1])), \"F1: \"+str(f1_score(YTest, clf.predict(XTest))))"
   ]
  },
  {
   "cell_type": "code",
   "execution_count": 38,
   "metadata": {},
   "outputs": [],
   "source": [
    "from sklearn.linear_model import LogisticRegression\n",
    "from sklearn.linear_model import LinearRegression\n",
    "from sklearn.model_selection import train_test_split\n",
    "from sklearn.linear_model import Lasso\n",
    "from sklearn.metrics import mean_squared_error, accuracy_score\n",
    "from sklearn.metrics import confusion_matrix\n",
    "\n",
    "def linear_regression(X1, Y1, X2, y2, models, XTest, YTest, alpha=0.01, num_iterations=1000):\n",
    "    \n",
    "    y_hats = []\n",
    "    #models train on predictions\n",
    "    ms = []\n",
    "    X_train, X_test, y_train, y_test = train_test_split(X1, Y1, test_size=0.3, random_state=42)\n",
    "    for i in range(len(models)):\n",
    "        m = models[i]\n",
    "        # print(str(m)[:80])\n",
    "        m.fit(X_train, y_train)\n",
    "        print(roc_auc_score(y2, m.predict_proba(X2)[:,1]))\n",
    "        y_hat = m.predict_proba(X2)[:,1]\n",
    "        \n",
    "        \n",
    "        y_hats.append(y_hat)\n",
    "        ms.append(m)\n",
    "    y_hats = np.array(y_hats)\n",
    "    lr = LogisticRegression()\n",
    "    lr.fit(y_hats.T , y2)\n",
    "    #检查回归方式是不是有问题\n",
    "    print(lr.coef_)\n",
    "    print(np.sqrt(mean_squared_error(y2, lr.predict(y_hats.T))))\n",
    "\n",
    "    #pred\n",
    "    input = []\n",
    "    for m in ms:\n",
    "        input.append(m.predict_proba(XTest)[:,1])\n",
    "    input = np.array(input)\n",
    "    y_pred = lr.predict_proba(input.T)[:,1]\n",
    "    print(np.sum(lr.predict(input.T)))\n",
    "    print(np.sum(YTest))\n",
    "\n",
    "    return roc_auc_score(YTest, y_pred), f1_score(YTest, lr.predict(input.T)), confusion_matrix(YTest, lr.predict(input.T))\n"
   ]
  },
  {
   "cell_type": "code",
   "execution_count": 65,
   "metadata": {},
   "outputs": [],
   "source": [
    "def lasso_reg(X1, Y1, X2, y2, models, XTest, YTest):\n",
    "    y_hats = []\n",
    "    #models train on predictions\n",
    "    ms = []\n",
    "    X_train, X_test, y_train, y_test = train_test_split(X1, Y1, test_size=0.3, random_state=42)\n",
    "    for i in range(len(models)):\n",
    "        m = models[i]\n",
    "        # print(m)\n",
    "        m.fit(X_train, y_train)\n",
    "        print(roc_auc_score(y2, m.predict_proba(X2)[:,1]))\n",
    "        y_hat = m.predict_proba(X2)[:,1]\n",
    "        y_hats.append(y_hat)\n",
    "        ms.append(m)\n",
    "    y_hats = np.array(y_hats)\n",
    "    lr = Lasso(alpha=0.01)\n",
    "    lr.fit(y_hats.T , y2)\n",
    "    print(lr.coef_)\n",
    "\n",
    "    #pred\n",
    "    input = []\n",
    "    for m in ms:\n",
    "        input.append(m.predict_proba(XTest)[:,1])\n",
    "    input = np.array(input)\n",
    "    z = lr.predict(input.T)\n",
    "    # h = 1 / (1 + np.exp(-z))\n",
    "    y_pred = z\n",
    "    cate = (z > 0.5).astype(int)\n",
    "    return roc_auc_score(YTest, y_pred),f1_score(YTest, cate)\n"
   ]
  },
  {
   "cell_type": "code",
   "execution_count": 66,
   "metadata": {},
   "outputs": [
    {
     "name": "stdout",
     "output_type": "stream",
     "text": [
      "------------lasso:\n",
      "0.7053870302106444\n",
      "0.7585223183421224\n",
      "0.7215461150485806\n",
      "0.7281333425638858\n",
      "0.7391792462851594\n",
      "[0.         0.59575384 0.00421324 0.         0.17940482]\n",
      "(0.7617303554286934, 0.3064949504308348)\n",
      "------------linear:\n",
      "0.7053870302106444\n",
      "0.7585223183421224\n",
      "0.7215461150485806\n",
      "0.7281333425638858\n"
     ]
    },
    {
     "name": "stderr",
     "output_type": "stream",
     "text": [
      "/Library/Python/3.9/site-packages/sklearn/neural_network/_multilayer_perceptron.py:686: ConvergenceWarning: Stochastic Optimizer: Maximum iterations (50) reached and the optimization hasn't converged yet.\n",
      "  warnings.warn(\n"
     ]
    },
    {
     "name": "stdout",
     "output_type": "stream",
     "text": [
      "0.7327859130796845\n",
      "[[0.45386972 2.81817713 0.46605892 0.33761294 1.12754903]]\n",
      "0.5288690630102654\n",
      "8291\n",
      "3754\n",
      "(0.7645341750267062, 0.3081776670817767, array([[37322,  6435],\n",
      "       [ 1898,  1856]]))\n"
     ]
    }
   ],
   "source": [
    "#lasso test\n",
    "from sklearn.naive_bayes import GaussianNB\n",
    "from sklearn.discriminant_analysis import QuadraticDiscriminantAnalysis\n",
    "import xgboost\n",
    "from xgboost.sklearn import XGBClassifier\n",
    "from sklearn.tree import DecisionTreeClassifier\n",
    "\n",
    "models = [DecisionTreeClassifier(random_state=42,max_depth=5),\n",
    "        XGBClassifier(max_depth=5, seed=42),\n",
    "        XGBClassifier(max_depth=10, seed=42),\n",
    "        XGBClassifier(max_depth=15, seed=42),\n",
    "        MLPClassifier(hidden_layer_sizes=(16,16),max_iter=50,early_stopping=True)]\n",
    "print(\"------------lasso:\")\n",
    "print(lasso_reg(X1, Y1, X2, Y2, models, XTest, YTest))\n",
    "print(\"------------linear:\")\n",
    "print(linear_regression(X1, Y1, X2, Y2, models, XTest, YTest))\n",
    "\n",
    " "
   ]
  },
  {
   "cell_type": "code",
   "execution_count": 74,
   "metadata": {},
   "outputs": [
    {
     "name": "stdout",
     "output_type": "stream",
     "text": [
      "DecisionTreeClassifier(max_depth=5, random_state=42)\n",
      "0.7021386816700232\n",
      "XGBClassifier(base_score=None, booster=None, callbacks=None,\n",
      "              colsa\n",
      "0.764363105298356\n",
      "DecisionTreeClassifier(max_depth=5, random_state=12)\n",
      "0.7021386816700232\n",
      "RandomForestClassifier(max_depth=15, random_state=42)\n",
      "0.734737733782985\n",
      "DecisionTreeClassifier(criterion='entropy', max_depth=20, min_samples_leaf=50,\n",
      " \n",
      "0.6596407268330272\n",
      "DecisionTreeClassifier(max_depth=5, max_features=50, random_state=123)\n",
      "0.6988240469045279\n",
      "DecisionTreeClassifier(max_depth=5, max_features=50, min_samples_leaf=50,\n",
      "      \n",
      "0.6908915699924272\n",
      "DecisionTreeClassifier(max_depth=30, min_samples_leaf=50, random_state=333)\n",
      "0.6563516040713042\n",
      "DecisionTreeClassifier(max_depth=15, random_state=42)\n",
      "0.6010761375655819\n",
      "DecisionTreeClassifier(max_depth=25, max_features=10, random_state=1)\n",
      "0.5560322398371429\n",
      "DecisionTreeClassifier(max_depth=5, min_samples_leaf=100, random_state=12)\n",
      "0.7021386816700232\n",
      "DecisionTreeClassifier(max_depth=15, min_samples_leaf=50, random_state=42)\n",
      "0.6625331839480759\n",
      "DecisionTreeClassifier(criterion='entropy', max_depth=15, random_state=123)\n",
      "0.6273229694163462\n",
      "XGBClassifier(base_score=None, booster=None, callbacks=None,\n",
      "              colsa\n",
      "0.7450530318474322\n",
      "XGBClassifier(base_score=None, booster=None, callbacks=None,\n",
      "              colsa\n",
      "0.7420810395200428\n",
      "XGBClassifier(base_score=None, booster=None, callbacks=None,\n",
      "              colsa\n",
      "0.7020946695607133\n",
      "XGBClassifier(base_score=None, booster=None, callbacks=None,\n",
      "              colsa\n",
      "0.7504035039729027\n",
      "MLPClassifier(early_stopping=True, hidden_layer_sizes=(10, 100, 10),\n",
      "           \n"
     ]
    },
    {
     "name": "stderr",
     "output_type": "stream",
     "text": [
      "/Library/Python/3.9/site-packages/sklearn/neural_network/_multilayer_perceptron.py:686: ConvergenceWarning: Stochastic Optimizer: Maximum iterations (30) reached and the optimization hasn't converged yet.\n",
      "  warnings.warn(\n"
     ]
    },
    {
     "name": "stdout",
     "output_type": "stream",
     "text": [
      "0.7316327084751513\n",
      "MLPClassifier(early_stopping=True, hidden_layer_sizes=(128, 256, 256, 32),\n",
      "     \n"
     ]
    },
    {
     "name": "stderr",
     "output_type": "stream",
     "text": [
      "/Library/Python/3.9/site-packages/sklearn/neural_network/_multilayer_perceptron.py:686: ConvergenceWarning: Stochastic Optimizer: Maximum iterations (50) reached and the optimization hasn't converged yet.\n",
      "  warnings.warn(\n"
     ]
    },
    {
     "name": "stdout",
     "output_type": "stream",
     "text": [
      "0.6539525240491142\n",
      "MLPClassifier(early_stopping=True, hidden_layer_sizes=(128, 32, 32),\n",
      "           \n"
     ]
    },
    {
     "name": "stderr",
     "output_type": "stream",
     "text": [
      "/Library/Python/3.9/site-packages/sklearn/neural_network/_multilayer_perceptron.py:686: ConvergenceWarning: Stochastic Optimizer: Maximum iterations (50) reached and the optimization hasn't converged yet.\n",
      "  warnings.warn(\n"
     ]
    },
    {
     "name": "stdout",
     "output_type": "stream",
     "text": [
      "0.6697174790349543\n",
      "MLPClassifier(alpha=0.1, early_stopping=True, hidden_layer_sizes=(100, 32),\n",
      "    \n"
     ]
    },
    {
     "name": "stderr",
     "output_type": "stream",
     "text": [
      "/Library/Python/3.9/site-packages/sklearn/neural_network/_multilayer_perceptron.py:686: ConvergenceWarning: Stochastic Optimizer: Maximum iterations (50) reached and the optimization hasn't converged yet.\n",
      "  warnings.warn(\n"
     ]
    },
    {
     "name": "stdout",
     "output_type": "stream",
     "text": [
      "0.7035463097647384\n",
      "MLPClassifier(early_stopping=True, hidden_layer_sizes=(128, 128, 128),\n",
      "         \n"
     ]
    },
    {
     "name": "stderr",
     "output_type": "stream",
     "text": [
      "/Library/Python/3.9/site-packages/sklearn/neural_network/_multilayer_perceptron.py:686: ConvergenceWarning: Stochastic Optimizer: Maximum iterations (10) reached and the optimization hasn't converged yet.\n",
      "  warnings.warn(\n"
     ]
    },
    {
     "name": "stdout",
     "output_type": "stream",
     "text": [
      "0.6782903479130538\n",
      "MLPClassifier(alpha=0.1, early_stopping=True,\n",
      "              hidden_layer_sizes=(\n"
     ]
    },
    {
     "name": "stderr",
     "output_type": "stream",
     "text": [
      "/Library/Python/3.9/site-packages/sklearn/neural_network/_multilayer_perceptron.py:686: ConvergenceWarning: Stochastic Optimizer: Maximum iterations (10) reached and the optimization hasn't converged yet.\n",
      "  warnings.warn(\n"
     ]
    },
    {
     "name": "stdout",
     "output_type": "stream",
     "text": [
      "0.735677518356733\n",
      "MLPClassifier(early_stopping=True, hidden_layer_sizes=(32, 256, 128, 10),\n",
      "      \n"
     ]
    },
    {
     "name": "stderr",
     "output_type": "stream",
     "text": [
      "/Library/Python/3.9/site-packages/sklearn/neural_network/_multilayer_perceptron.py:686: ConvergenceWarning: Stochastic Optimizer: Maximum iterations (10) reached and the optimization hasn't converged yet.\n",
      "  warnings.warn(\n"
     ]
    },
    {
     "name": "stdout",
     "output_type": "stream",
     "text": [
      "0.7212198017307636\n",
      "MLPClassifier(early_stopping=True, hidden_layer_sizes=(32, 128, 128, 32),\n",
      "      \n"
     ]
    },
    {
     "name": "stderr",
     "output_type": "stream",
     "text": [
      "/Library/Python/3.9/site-packages/sklearn/neural_network/_multilayer_perceptron.py:686: ConvergenceWarning: Stochastic Optimizer: Maximum iterations (10) reached and the optimization hasn't converged yet.\n",
      "  warnings.warn(\n"
     ]
    },
    {
     "name": "stdout",
     "output_type": "stream",
     "text": [
      "0.6901519531754277\n",
      "MLPClassifier(hidden_layer_sizes=(128, 256, 256, 32), learning_rate_init=0.01,\n",
      " \n"
     ]
    },
    {
     "name": "stderr",
     "output_type": "stream",
     "text": [
      "/Library/Python/3.9/site-packages/sklearn/neural_network/_multilayer_perceptron.py:686: ConvergenceWarning: Stochastic Optimizer: Maximum iterations (50) reached and the optimization hasn't converged yet.\n",
      "  warnings.warn(\n"
     ]
    },
    {
     "name": "stdout",
     "output_type": "stream",
     "text": [
      "0.6393188101331588\n",
      "MLPClassifier(early_stopping=True, hidden_layer_sizes=(32, 64, 64, 32),\n",
      "        \n"
     ]
    },
    {
     "name": "stderr",
     "output_type": "stream",
     "text": [
      "/Library/Python/3.9/site-packages/sklearn/neural_network/_multilayer_perceptron.py:686: ConvergenceWarning: Stochastic Optimizer: Maximum iterations (10) reached and the optimization hasn't converged yet.\n",
      "  warnings.warn(\n"
     ]
    },
    {
     "name": "stdout",
     "output_type": "stream",
     "text": [
      "0.7131538259668451\n",
      "MLPClassifier(early_stopping=True, hidden_layer_sizes=(128, 32, 32, 10),\n",
      "       \n"
     ]
    },
    {
     "name": "stderr",
     "output_type": "stream",
     "text": [
      "/Library/Python/3.9/site-packages/sklearn/neural_network/_multilayer_perceptron.py:686: ConvergenceWarning: Stochastic Optimizer: Maximum iterations (10) reached and the optimization hasn't converged yet.\n",
      "  warnings.warn(\n"
     ]
    },
    {
     "name": "stdout",
     "output_type": "stream",
     "text": [
      "0.7125015974170672\n",
      "MLPClassifier(alpha=0.1, early_stopping=True,\n",
      "              hidden_layer_sizes=(\n"
     ]
    },
    {
     "name": "stderr",
     "output_type": "stream",
     "text": [
      "/Library/Python/3.9/site-packages/sklearn/neural_network/_multilayer_perceptron.py:686: ConvergenceWarning: Stochastic Optimizer: Maximum iterations (10) reached and the optimization hasn't converged yet.\n",
      "  warnings.warn(\n"
     ]
    },
    {
     "name": "stdout",
     "output_type": "stream",
     "text": [
      "0.7367544878765635\n",
      "MLPClassifier(alpha=0.1, early_stopping=True,\n",
      "              hidden_layer_sizes=(\n"
     ]
    },
    {
     "name": "stderr",
     "output_type": "stream",
     "text": [
      "/Library/Python/3.9/site-packages/sklearn/neural_network/_multilayer_perceptron.py:686: ConvergenceWarning: Stochastic Optimizer: Maximum iterations (10) reached and the optimization hasn't converged yet.\n",
      "  warnings.warn(\n"
     ]
    },
    {
     "name": "stdout",
     "output_type": "stream",
     "text": [
      "0.7344970167298057\n",
      "MLPClassifier(early_stopping=True, hidden_layer_sizes=(5, 100, 100),\n",
      "           \n"
     ]
    },
    {
     "name": "stderr",
     "output_type": "stream",
     "text": [
      "/Library/Python/3.9/site-packages/sklearn/neural_network/_multilayer_perceptron.py:686: ConvergenceWarning: Stochastic Optimizer: Maximum iterations (10) reached and the optimization hasn't converged yet.\n",
      "  warnings.warn(\n"
     ]
    },
    {
     "name": "stdout",
     "output_type": "stream",
     "text": [
      "0.7415083439230881\n",
      "MLPClassifier(hidden_layer_sizes=(10,), max_iter=50)\n"
     ]
    },
    {
     "name": "stderr",
     "output_type": "stream",
     "text": [
      "/Library/Python/3.9/site-packages/sklearn/neural_network/_multilayer_perceptron.py:686: ConvergenceWarning: Stochastic Optimizer: Maximum iterations (50) reached and the optimization hasn't converged yet.\n",
      "  warnings.warn(\n"
     ]
    },
    {
     "name": "stdout",
     "output_type": "stream",
     "text": [
      "0.7502932912949629\n",
      "MLPClassifier(hidden_layer_sizes=(10,), max_iter=50)\n"
     ]
    },
    {
     "name": "stderr",
     "output_type": "stream",
     "text": [
      "/Library/Python/3.9/site-packages/sklearn/neural_network/_multilayer_perceptron.py:686: ConvergenceWarning: Stochastic Optimizer: Maximum iterations (50) reached and the optimization hasn't converged yet.\n",
      "  warnings.warn(\n"
     ]
    },
    {
     "name": "stdout",
     "output_type": "stream",
     "text": [
      "0.7489105014570607\n",
      "MLPClassifier(hidden_layer_sizes=(5, 5), max_iter=50)\n"
     ]
    },
    {
     "name": "stderr",
     "output_type": "stream",
     "text": [
      "/Library/Python/3.9/site-packages/sklearn/neural_network/_multilayer_perceptron.py:686: ConvergenceWarning: Stochastic Optimizer: Maximum iterations (50) reached and the optimization hasn't converged yet.\n",
      "  warnings.warn(\n"
     ]
    },
    {
     "name": "stdout",
     "output_type": "stream",
     "text": [
      "0.7523846825837326\n",
      "MLPClassifier(hidden_layer_sizes=(10, 10, 1), max_iter=50)\n"
     ]
    },
    {
     "name": "stderr",
     "output_type": "stream",
     "text": [
      "/Library/Python/3.9/site-packages/sklearn/neural_network/_multilayer_perceptron.py:686: ConvergenceWarning: Stochastic Optimizer: Maximum iterations (50) reached and the optimization hasn't converged yet.\n",
      "  warnings.warn(\n"
     ]
    },
    {
     "name": "stdout",
     "output_type": "stream",
     "text": [
      "0.7434592856741813\n",
      "MLPClassifier(alpha=0.1, early_stopping=True, hidden_layer_sizes=(5, 100, 100),\n",
      "\n",
      "0.7436898511272121\n",
      "MLPClassifier(max_iter=50)\n"
     ]
    },
    {
     "name": "stderr",
     "output_type": "stream",
     "text": [
      "/Library/Python/3.9/site-packages/sklearn/neural_network/_multilayer_perceptron.py:686: ConvergenceWarning: Stochastic Optimizer: Maximum iterations (50) reached and the optimization hasn't converged yet.\n",
      "  warnings.warn(\n"
     ]
    },
    {
     "name": "stdout",
     "output_type": "stream",
     "text": [
      "0.7125477573002212\n",
      "MLPClassifier(early_stopping=True, hidden_layer_sizes=(10, 32), max_iter=50)\n",
      "0.7427723492962759\n",
      "MLPClassifier(hidden_layer_sizes=(5, 100), max_iter=50)\n"
     ]
    },
    {
     "name": "stderr",
     "output_type": "stream",
     "text": [
      "/Library/Python/3.9/site-packages/sklearn/neural_network/_multilayer_perceptron.py:686: ConvergenceWarning: Stochastic Optimizer: Maximum iterations (50) reached and the optimization hasn't converged yet.\n",
      "  warnings.warn(\n"
     ]
    },
    {
     "name": "stdout",
     "output_type": "stream",
     "text": [
      "0.7496201811084742\n",
      "MLPClassifier(hidden_layer_sizes=(10,), learning_rate='adaptive', max_iter=50)\n"
     ]
    },
    {
     "name": "stderr",
     "output_type": "stream",
     "text": [
      "/Library/Python/3.9/site-packages/sklearn/neural_network/_multilayer_perceptron.py:686: ConvergenceWarning: Stochastic Optimizer: Maximum iterations (50) reached and the optimization hasn't converged yet.\n",
      "  warnings.warn(\n"
     ]
    },
    {
     "name": "stdout",
     "output_type": "stream",
     "text": [
      "0.74697188085349\n",
      "MLPClassifier(hidden_layer_sizes=(30,), max_iter=50)\n"
     ]
    },
    {
     "name": "stderr",
     "output_type": "stream",
     "text": [
      "/Library/Python/3.9/site-packages/sklearn/neural_network/_multilayer_perceptron.py:686: ConvergenceWarning: Stochastic Optimizer: Maximum iterations (50) reached and the optimization hasn't converged yet.\n",
      "  warnings.warn(\n"
     ]
    },
    {
     "name": "stdout",
     "output_type": "stream",
     "text": [
      "0.7377030761457195\n",
      "MLPClassifier(hidden_layer_sizes=(10,), max_iter=50)\n"
     ]
    },
    {
     "name": "stderr",
     "output_type": "stream",
     "text": [
      "/Library/Python/3.9/site-packages/sklearn/neural_network/_multilayer_perceptron.py:686: ConvergenceWarning: Stochastic Optimizer: Maximum iterations (50) reached and the optimization hasn't converged yet.\n",
      "  warnings.warn(\n"
     ]
    },
    {
     "name": "stdout",
     "output_type": "stream",
     "text": [
      "0.7474414459211851\n",
      "MLPClassifier(early_stopping=True, hidden_layer_sizes=(32, 128, 128, 16),\n",
      "      \n"
     ]
    },
    {
     "name": "stderr",
     "output_type": "stream",
     "text": [
      "/Library/Python/3.9/site-packages/sklearn/neural_network/_multilayer_perceptron.py:686: ConvergenceWarning: Stochastic Optimizer: Maximum iterations (50) reached and the optimization hasn't converged yet.\n",
      "  warnings.warn(\n"
     ]
    },
    {
     "name": "stdout",
     "output_type": "stream",
     "text": [
      "0.659669622155754\n",
      "MLPClassifier(hidden_layer_sizes=(8,), max_iter=50)\n"
     ]
    },
    {
     "name": "stderr",
     "output_type": "stream",
     "text": [
      "/Library/Python/3.9/site-packages/sklearn/neural_network/_multilayer_perceptron.py:686: ConvergenceWarning: Stochastic Optimizer: Maximum iterations (50) reached and the optimization hasn't converged yet.\n",
      "  warnings.warn(\n"
     ]
    },
    {
     "name": "stdout",
     "output_type": "stream",
     "text": [
      "0.7471257455558553\n",
      "MLPClassifier(hidden_layer_sizes=(32,), max_iter=50)\n"
     ]
    },
    {
     "name": "stderr",
     "output_type": "stream",
     "text": [
      "/Library/Python/3.9/site-packages/sklearn/neural_network/_multilayer_perceptron.py:686: ConvergenceWarning: Stochastic Optimizer: Maximum iterations (50) reached and the optimization hasn't converged yet.\n",
      "  warnings.warn(\n"
     ]
    },
    {
     "name": "stdout",
     "output_type": "stream",
     "text": [
      "0.7388881847228932\n",
      "MLPClassifier(hidden_layer_sizes=(80,), max_iter=30)\n"
     ]
    },
    {
     "name": "stderr",
     "output_type": "stream",
     "text": [
      "/Library/Python/3.9/site-packages/sklearn/neural_network/_multilayer_perceptron.py:686: ConvergenceWarning: Stochastic Optimizer: Maximum iterations (30) reached and the optimization hasn't converged yet.\n",
      "  warnings.warn(\n"
     ]
    },
    {
     "name": "stdout",
     "output_type": "stream",
     "text": [
      "0.72361698683963\n",
      "MLPClassifier(hidden_layer_sizes=(10,), max_iter=50)\n"
     ]
    },
    {
     "name": "stderr",
     "output_type": "stream",
     "text": [
      "/Library/Python/3.9/site-packages/sklearn/neural_network/_multilayer_perceptron.py:686: ConvergenceWarning: Stochastic Optimizer: Maximum iterations (50) reached and the optimization hasn't converged yet.\n",
      "  warnings.warn(\n"
     ]
    },
    {
     "name": "stdout",
     "output_type": "stream",
     "text": [
      "0.7546486436802423\n",
      "MLPClassifier(alpha=0.1, early_stopping=True, hidden_layer_sizes=(128, 16, 16),\n",
      "\n"
     ]
    },
    {
     "name": "stderr",
     "output_type": "stream",
     "text": [
      "/Library/Python/3.9/site-packages/sklearn/neural_network/_multilayer_perceptron.py:686: ConvergenceWarning: Stochastic Optimizer: Maximum iterations (30) reached and the optimization hasn't converged yet.\n",
      "  warnings.warn(\n"
     ]
    },
    {
     "name": "stdout",
     "output_type": "stream",
     "text": [
      "0.7009990770997715\n",
      "MLPClassifier(hidden_layer_sizes=(10,), max_iter=50)\n"
     ]
    },
    {
     "name": "stderr",
     "output_type": "stream",
     "text": [
      "/Library/Python/3.9/site-packages/sklearn/neural_network/_multilayer_perceptron.py:686: ConvergenceWarning: Stochastic Optimizer: Maximum iterations (50) reached and the optimization hasn't converged yet.\n",
      "  warnings.warn(\n"
     ]
    },
    {
     "name": "stdout",
     "output_type": "stream",
     "text": [
      "0.7547628515954876\n",
      "MLPClassifier(early_stopping=True, hidden_layer_sizes=(500,),\n",
      "              lear\n"
     ]
    },
    {
     "name": "stderr",
     "output_type": "stream",
     "text": [
      "/Library/Python/3.9/site-packages/sklearn/neural_network/_multilayer_perceptron.py:686: ConvergenceWarning: Stochastic Optimizer: Maximum iterations (50) reached and the optimization hasn't converged yet.\n",
      "  warnings.warn(\n"
     ]
    },
    {
     "name": "stdout",
     "output_type": "stream",
     "text": [
      "0.6693271412690227\n",
      "MLPClassifier(early_stopping=True, hidden_layer_sizes=(10, 128, 128),\n",
      "          \n"
     ]
    },
    {
     "name": "stderr",
     "output_type": "stream",
     "text": [
      "/Library/Python/3.9/site-packages/sklearn/neural_network/_multilayer_perceptron.py:686: ConvergenceWarning: Stochastic Optimizer: Maximum iterations (50) reached and the optimization hasn't converged yet.\n",
      "  warnings.warn(\n"
     ]
    },
    {
     "name": "stdout",
     "output_type": "stream",
     "text": [
      "0.6807084699140982\n",
      "MLPClassifier(hidden_layer_sizes=(10, 30), learning_rate='adaptive',\n",
      "           \n"
     ]
    },
    {
     "name": "stderr",
     "output_type": "stream",
     "text": [
      "/Library/Python/3.9/site-packages/sklearn/neural_network/_multilayer_perceptron.py:686: ConvergenceWarning: Stochastic Optimizer: Maximum iterations (50) reached and the optimization hasn't converged yet.\n",
      "  warnings.warn(\n"
     ]
    },
    {
     "name": "stdout",
     "output_type": "stream",
     "text": [
      "0.746103111263383\n",
      "MLPClassifier(hidden_layer_sizes=(10, 32), max_iter=50)\n"
     ]
    },
    {
     "name": "stderr",
     "output_type": "stream",
     "text": [
      "/Library/Python/3.9/site-packages/sklearn/neural_network/_multilayer_perceptron.py:686: ConvergenceWarning: Stochastic Optimizer: Maximum iterations (50) reached and the optimization hasn't converged yet.\n",
      "  warnings.warn(\n"
     ]
    },
    {
     "name": "stdout",
     "output_type": "stream",
     "text": [
      "0.7433250348139433\n",
      "MLPClassifier(hidden_layer_sizes=(5, 32), learning_rate='adaptive', max_iter=50)\n"
     ]
    },
    {
     "name": "stderr",
     "output_type": "stream",
     "text": [
      "/Library/Python/3.9/site-packages/sklearn/neural_network/_multilayer_perceptron.py:686: ConvergenceWarning: Stochastic Optimizer: Maximum iterations (50) reached and the optimization hasn't converged yet.\n",
      "  warnings.warn(\n"
     ]
    },
    {
     "name": "stdout",
     "output_type": "stream",
     "text": [
      "0.7488997595066801\n",
      "MLPClassifier(hidden_layer_sizes=(32,), max_iter=50)\n"
     ]
    },
    {
     "name": "stderr",
     "output_type": "stream",
     "text": [
      "/Library/Python/3.9/site-packages/sklearn/neural_network/_multilayer_perceptron.py:686: ConvergenceWarning: Stochastic Optimizer: Maximum iterations (50) reached and the optimization hasn't converged yet.\n",
      "  warnings.warn(\n"
     ]
    },
    {
     "name": "stdout",
     "output_type": "stream",
     "text": [
      "0.737514077798932\n",
      "MLPClassifier(early_stopping=True, hidden_layer_sizes=(5, 32, 32),\n",
      "             \n",
      "0.7472410990463426\n",
      "MLPClassifier(early_stopping=True, hidden_layer_sizes=(32, 32, 10),\n",
      "            \n",
      "0.7273052001208493\n",
      "MLPClassifier(early_stopping=True, hidden_layer_sizes=(32, 64),\n",
      "              le\n"
     ]
    },
    {
     "name": "stderr",
     "output_type": "stream",
     "text": [
      "/Library/Python/3.9/site-packages/sklearn/neural_network/_multilayer_perceptron.py:686: ConvergenceWarning: Stochastic Optimizer: Maximum iterations (50) reached and the optimization hasn't converged yet.\n",
      "  warnings.warn(\n"
     ]
    },
    {
     "name": "stdout",
     "output_type": "stream",
     "text": [
      "0.7034152898087462\n",
      "MLPClassifier(hidden_layer_sizes=(32, 16), max_iter=50)\n"
     ]
    },
    {
     "name": "stderr",
     "output_type": "stream",
     "text": [
      "/Library/Python/3.9/site-packages/sklearn/neural_network/_multilayer_perceptron.py:686: ConvergenceWarning: Stochastic Optimizer: Maximum iterations (50) reached and the optimization hasn't converged yet.\n",
      "  warnings.warn(\n"
     ]
    },
    {
     "name": "stdout",
     "output_type": "stream",
     "text": [
      "0.7192503580254368\n",
      "MLPClassifier(hidden_layer_sizes=(16, 32), learning_rate='adaptive',\n",
      "           \n"
     ]
    },
    {
     "name": "stderr",
     "output_type": "stream",
     "text": [
      "/Library/Python/3.9/site-packages/sklearn/neural_network/_multilayer_perceptron.py:686: ConvergenceWarning: Stochastic Optimizer: Maximum iterations (30) reached and the optimization hasn't converged yet.\n",
      "  warnings.warn(\n"
     ]
    },
    {
     "name": "stdout",
     "output_type": "stream",
     "text": [
      "0.7366672686623138\n",
      "MLPClassifier(hidden_layer_sizes=(32, 32), max_iter=50)\n"
     ]
    },
    {
     "name": "stderr",
     "output_type": "stream",
     "text": [
      "/Library/Python/3.9/site-packages/sklearn/neural_network/_multilayer_perceptron.py:686: ConvergenceWarning: Stochastic Optimizer: Maximum iterations (50) reached and the optimization hasn't converged yet.\n",
      "  warnings.warn(\n"
     ]
    },
    {
     "name": "stdout",
     "output_type": "stream",
     "text": [
      "0.720368908208614\n",
      "MLPClassifier(hidden_layer_sizes=(64,), learning_rate='adaptive', max_iter=30)\n"
     ]
    },
    {
     "name": "stderr",
     "output_type": "stream",
     "text": [
      "/Library/Python/3.9/site-packages/sklearn/neural_network/_multilayer_perceptron.py:686: ConvergenceWarning: Stochastic Optimizer: Maximum iterations (30) reached and the optimization hasn't converged yet.\n",
      "  warnings.warn(\n"
     ]
    },
    {
     "name": "stdout",
     "output_type": "stream",
     "text": [
      "0.7247219815626383\n",
      "MLPClassifier(hidden_layer_sizes=(64, 5), max_iter=50)\n"
     ]
    },
    {
     "name": "stderr",
     "output_type": "stream",
     "text": [
      "/Library/Python/3.9/site-packages/sklearn/neural_network/_multilayer_perceptron.py:686: ConvergenceWarning: Stochastic Optimizer: Maximum iterations (50) reached and the optimization hasn't converged yet.\n",
      "  warnings.warn(\n"
     ]
    },
    {
     "name": "stdout",
     "output_type": "stream",
     "text": [
      "0.7100328240234122\n",
      "MLPClassifier(early_stopping=True, hidden_layer_sizes=(64, 10),\n",
      "              le\n"
     ]
    },
    {
     "name": "stderr",
     "output_type": "stream",
     "text": [
      "/Library/Python/3.9/site-packages/sklearn/neural_network/_multilayer_perceptron.py:686: ConvergenceWarning: Stochastic Optimizer: Maximum iterations (50) reached and the optimization hasn't converged yet.\n",
      "  warnings.warn(\n"
     ]
    },
    {
     "name": "stdout",
     "output_type": "stream",
     "text": [
      "0.7022080474114881\n",
      "MLPClassifier(hidden_layer_sizes=(32,), max_iter=50)\n"
     ]
    },
    {
     "name": "stderr",
     "output_type": "stream",
     "text": [
      "/Library/Python/3.9/site-packages/sklearn/neural_network/_multilayer_perceptron.py:686: ConvergenceWarning: Stochastic Optimizer: Maximum iterations (50) reached and the optimization hasn't converged yet.\n",
      "  warnings.warn(\n"
     ]
    },
    {
     "name": "stdout",
     "output_type": "stream",
     "text": [
      "0.7440277126322439\n",
      "MLPClassifier(alpha=0.1, early_stopping=True, hidden_layer_sizes=(64, 16, 16),\n",
      " \n"
     ]
    },
    {
     "name": "stderr",
     "output_type": "stream",
     "text": [
      "/Library/Python/3.9/site-packages/sklearn/neural_network/_multilayer_perceptron.py:686: ConvergenceWarning: Stochastic Optimizer: Maximum iterations (30) reached and the optimization hasn't converged yet.\n",
      "  warnings.warn(\n"
     ]
    },
    {
     "name": "stdout",
     "output_type": "stream",
     "text": [
      "0.7183805979451352\n",
      "MLPClassifier(hidden_layer_sizes=(32,), max_iter=50)\n"
     ]
    },
    {
     "name": "stderr",
     "output_type": "stream",
     "text": [
      "/Library/Python/3.9/site-packages/sklearn/neural_network/_multilayer_perceptron.py:686: ConvergenceWarning: Stochastic Optimizer: Maximum iterations (50) reached and the optimization hasn't converged yet.\n",
      "  warnings.warn(\n"
     ]
    },
    {
     "name": "stdout",
     "output_type": "stream",
     "text": [
      "0.7366828416659692\n",
      "MLPClassifier(hidden_layer_sizes=(8, 8, 8), max_iter=50)\n"
     ]
    },
    {
     "name": "stderr",
     "output_type": "stream",
     "text": [
      "/Library/Python/3.9/site-packages/sklearn/neural_network/_multilayer_perceptron.py:686: ConvergenceWarning: Stochastic Optimizer: Maximum iterations (50) reached and the optimization hasn't converged yet.\n",
      "  warnings.warn(\n"
     ]
    },
    {
     "name": "stdout",
     "output_type": "stream",
     "text": [
      "0.739502571288718\n",
      "MLPClassifier(hidden_layer_sizes=(8, 16), max_iter=50)\n"
     ]
    },
    {
     "name": "stderr",
     "output_type": "stream",
     "text": [
      "/Library/Python/3.9/site-packages/sklearn/neural_network/_multilayer_perceptron.py:686: ConvergenceWarning: Stochastic Optimizer: Maximum iterations (50) reached and the optimization hasn't converged yet.\n",
      "  warnings.warn(\n"
     ]
    },
    {
     "name": "stdout",
     "output_type": "stream",
     "text": [
      "0.7445367360603632\n",
      "MLPClassifier(hidden_layer_sizes=(10, 8), max_iter=50)\n"
     ]
    },
    {
     "name": "stderr",
     "output_type": "stream",
     "text": [
      "/Library/Python/3.9/site-packages/sklearn/neural_network/_multilayer_perceptron.py:686: ConvergenceWarning: Stochastic Optimizer: Maximum iterations (50) reached and the optimization hasn't converged yet.\n",
      "  warnings.warn(\n"
     ]
    },
    {
     "name": "stdout",
     "output_type": "stream",
     "text": [
      "0.7464741560386357\n",
      "MLPClassifier(hidden_layer_sizes=(8, 32, 32, 8), max_iter=50)\n"
     ]
    },
    {
     "name": "stderr",
     "output_type": "stream",
     "text": [
      "/Library/Python/3.9/site-packages/sklearn/neural_network/_multilayer_perceptron.py:686: ConvergenceWarning: Stochastic Optimizer: Maximum iterations (50) reached and the optimization hasn't converged yet.\n",
      "  warnings.warn(\n"
     ]
    },
    {
     "name": "stdout",
     "output_type": "stream",
     "text": [
      "0.7320632241550433\n",
      "MLPClassifier(hidden_layer_sizes=(64, 8, 8), max_iter=50)\n"
     ]
    },
    {
     "name": "stderr",
     "output_type": "stream",
     "text": [
      "/Library/Python/3.9/site-packages/sklearn/neural_network/_multilayer_perceptron.py:686: ConvergenceWarning: Stochastic Optimizer: Maximum iterations (50) reached and the optimization hasn't converged yet.\n",
      "  warnings.warn(\n"
     ]
    },
    {
     "name": "stdout",
     "output_type": "stream",
     "text": [
      "0.6947920008304375\n",
      "MLPClassifier(hidden_layer_sizes=(10,), max_iter=50)\n"
     ]
    },
    {
     "name": "stderr",
     "output_type": "stream",
     "text": [
      "/Library/Python/3.9/site-packages/sklearn/neural_network/_multilayer_perceptron.py:686: ConvergenceWarning: Stochastic Optimizer: Maximum iterations (50) reached and the optimization hasn't converged yet.\n",
      "  warnings.warn(\n"
     ]
    },
    {
     "name": "stdout",
     "output_type": "stream",
     "text": [
      "0.7492760200693706\n",
      "MLPClassifier(hidden_layer_sizes=(128,), max_iter=50)\n"
     ]
    },
    {
     "name": "stderr",
     "output_type": "stream",
     "text": [
      "/Library/Python/3.9/site-packages/sklearn/neural_network/_multilayer_perceptron.py:686: ConvergenceWarning: Stochastic Optimizer: Maximum iterations (50) reached and the optimization hasn't converged yet.\n",
      "  warnings.warn(\n"
     ]
    },
    {
     "name": "stdout",
     "output_type": "stream",
     "text": [
      "0.6940174440712668\n",
      "MLPClassifier(early_stopping=True, hidden_layer_sizes=(16, 16, 128),\n",
      "           \n",
      "0.7239509430772244\n",
      "MLPClassifier(hidden_layer_sizes=(10,), max_iter=50)\n"
     ]
    },
    {
     "name": "stderr",
     "output_type": "stream",
     "text": [
      "/Library/Python/3.9/site-packages/sklearn/neural_network/_multilayer_perceptron.py:686: ConvergenceWarning: Stochastic Optimizer: Maximum iterations (50) reached and the optimization hasn't converged yet.\n",
      "  warnings.warn(\n"
     ]
    },
    {
     "name": "stdout",
     "output_type": "stream",
     "text": [
      "0.7480826036581183\n",
      "MLPClassifier(hidden_layer_sizes=(10,), max_iter=50)\n"
     ]
    },
    {
     "name": "stderr",
     "output_type": "stream",
     "text": [
      "/Library/Python/3.9/site-packages/sklearn/neural_network/_multilayer_perceptron.py:686: ConvergenceWarning: Stochastic Optimizer: Maximum iterations (50) reached and the optimization hasn't converged yet.\n",
      "  warnings.warn(\n"
     ]
    },
    {
     "name": "stdout",
     "output_type": "stream",
     "text": [
      "0.7489126065054879\n",
      "MLPClassifier(hidden_layer_sizes=(10,), max_iter=50)\n"
     ]
    },
    {
     "name": "stderr",
     "output_type": "stream",
     "text": [
      "/Library/Python/3.9/site-packages/sklearn/neural_network/_multilayer_perceptron.py:686: ConvergenceWarning: Stochastic Optimizer: Maximum iterations (50) reached and the optimization hasn't converged yet.\n",
      "  warnings.warn(\n"
     ]
    },
    {
     "name": "stdout",
     "output_type": "stream",
     "text": [
      "0.7458816892549893\n",
      "MLPClassifier(hidden_layer_sizes=(10,), max_iter=50)\n"
     ]
    },
    {
     "name": "stderr",
     "output_type": "stream",
     "text": [
      "/Library/Python/3.9/site-packages/sklearn/neural_network/_multilayer_perceptron.py:686: ConvergenceWarning: Stochastic Optimizer: Maximum iterations (50) reached and the optimization hasn't converged yet.\n",
      "  warnings.warn(\n"
     ]
    },
    {
     "name": "stdout",
     "output_type": "stream",
     "text": [
      "0.7486916680337842\n",
      "MLPClassifier(alpha=0.1, early_stopping=True,\n",
      "              hidden_layer_sizes=(\n"
     ]
    },
    {
     "name": "stderr",
     "output_type": "stream",
     "text": [
      "/Library/Python/3.9/site-packages/sklearn/neural_network/_multilayer_perceptron.py:686: ConvergenceWarning: Stochastic Optimizer: Maximum iterations (30) reached and the optimization hasn't converged yet.\n",
      "  warnings.warn(\n"
     ]
    },
    {
     "name": "stdout",
     "output_type": "stream",
     "text": [
      "0.7459382741398782\n",
      "MLPClassifier(hidden_layer_sizes=(10,), learning_rate='adaptive', max_iter=50)\n"
     ]
    },
    {
     "name": "stderr",
     "output_type": "stream",
     "text": [
      "/Library/Python/3.9/site-packages/sklearn/neural_network/_multilayer_perceptron.py:686: ConvergenceWarning: Stochastic Optimizer: Maximum iterations (50) reached and the optimization hasn't converged yet.\n",
      "  warnings.warn(\n"
     ]
    },
    {
     "name": "stdout",
     "output_type": "stream",
     "text": [
      "0.750987951729856\n",
      "MLPClassifier(hidden_layer_sizes=(10,), max_iter=50)\n"
     ]
    },
    {
     "name": "stderr",
     "output_type": "stream",
     "text": [
      "/Library/Python/3.9/site-packages/sklearn/neural_network/_multilayer_perceptron.py:686: ConvergenceWarning: Stochastic Optimizer: Maximum iterations (50) reached and the optimization hasn't converged yet.\n",
      "  warnings.warn(\n"
     ]
    },
    {
     "name": "stdout",
     "output_type": "stream",
     "text": [
      "0.7485376860419328\n",
      "MLPClassifier(hidden_layer_sizes=(128,), max_iter=50)\n"
     ]
    },
    {
     "name": "stderr",
     "output_type": "stream",
     "text": [
      "/Library/Python/3.9/site-packages/sklearn/neural_network/_multilayer_perceptron.py:686: ConvergenceWarning: Stochastic Optimizer: Maximum iterations (50) reached and the optimization hasn't converged yet.\n",
      "  warnings.warn(\n"
     ]
    },
    {
     "name": "stdout",
     "output_type": "stream",
     "text": [
      "0.6965771086001007\n",
      "MLPClassifier(hidden_layer_sizes=(10, 32, 10), max_iter=50)\n"
     ]
    },
    {
     "name": "stderr",
     "output_type": "stream",
     "text": [
      "/Library/Python/3.9/site-packages/sklearn/neural_network/_multilayer_perceptron.py:686: ConvergenceWarning: Stochastic Optimizer: Maximum iterations (50) reached and the optimization hasn't converged yet.\n",
      "  warnings.warn(\n"
     ]
    },
    {
     "name": "stdout",
     "output_type": "stream",
     "text": [
      "0.7403377915668108\n",
      "MLPClassifier(hidden_layer_sizes=(10, 20, 10), max_iter=50)\n"
     ]
    },
    {
     "name": "stderr",
     "output_type": "stream",
     "text": [
      "/Library/Python/3.9/site-packages/sklearn/neural_network/_multilayer_perceptron.py:686: ConvergenceWarning: Stochastic Optimizer: Maximum iterations (50) reached and the optimization hasn't converged yet.\n",
      "  warnings.warn(\n"
     ]
    },
    {
     "name": "stdout",
     "output_type": "stream",
     "text": [
      "0.7392749865497512\n",
      "MLPClassifier(hidden_layer_sizes=(128, 10), max_iter=50)\n"
     ]
    },
    {
     "name": "stderr",
     "output_type": "stream",
     "text": [
      "/Library/Python/3.9/site-packages/sklearn/neural_network/_multilayer_perceptron.py:686: ConvergenceWarning: Stochastic Optimizer: Maximum iterations (50) reached and the optimization hasn't converged yet.\n",
      "  warnings.warn(\n"
     ]
    },
    {
     "name": "stdout",
     "output_type": "stream",
     "text": [
      "0.6823018290936687\n",
      "MLPClassifier(hidden_layer_sizes=(64, 10), max_iter=50)\n"
     ]
    },
    {
     "name": "stderr",
     "output_type": "stream",
     "text": [
      "/Library/Python/3.9/site-packages/sklearn/neural_network/_multilayer_perceptron.py:686: ConvergenceWarning: Stochastic Optimizer: Maximum iterations (50) reached and the optimization hasn't converged yet.\n",
      "  warnings.warn(\n"
     ]
    },
    {
     "name": "stdout",
     "output_type": "stream",
     "text": [
      "0.7072217699198207\n",
      "MLPClassifier(early_stopping=True, hidden_layer_sizes=(128,),\n",
      "              lear\n"
     ]
    },
    {
     "name": "stderr",
     "output_type": "stream",
     "text": [
      "/Library/Python/3.9/site-packages/sklearn/neural_network/_multilayer_perceptron.py:686: ConvergenceWarning: Stochastic Optimizer: Maximum iterations (50) reached and the optimization hasn't converged yet.\n",
      "  warnings.warn(\n"
     ]
    },
    {
     "name": "stdout",
     "output_type": "stream",
     "text": [
      "0.6972187753446455\n",
      "MLPClassifier(early_stopping=True, hidden_layer_sizes=(100, 10), max_iter=30)\n"
     ]
    },
    {
     "name": "stderr",
     "output_type": "stream",
     "text": [
      "/Library/Python/3.9/site-packages/sklearn/neural_network/_multilayer_perceptron.py:686: ConvergenceWarning: Stochastic Optimizer: Maximum iterations (30) reached and the optimization hasn't converged yet.\n",
      "  warnings.warn(\n"
     ]
    },
    {
     "name": "stdout",
     "output_type": "stream",
     "text": [
      "0.7017778455990821\n",
      "MLPClassifier(hidden_layer_sizes=(10,), max_iter=50)\n"
     ]
    },
    {
     "name": "stderr",
     "output_type": "stream",
     "text": [
      "/Library/Python/3.9/site-packages/sklearn/neural_network/_multilayer_perceptron.py:686: ConvergenceWarning: Stochastic Optimizer: Maximum iterations (50) reached and the optimization hasn't converged yet.\n",
      "  warnings.warn(\n"
     ]
    },
    {
     "name": "stdout",
     "output_type": "stream",
     "text": [
      "0.7476728880669059\n",
      "MLPClassifier(hidden_layer_sizes=(10,), max_iter=50)\n"
     ]
    },
    {
     "name": "stderr",
     "output_type": "stream",
     "text": [
      "/Library/Python/3.9/site-packages/sklearn/neural_network/_multilayer_perceptron.py:686: ConvergenceWarning: Stochastic Optimizer: Maximum iterations (50) reached and the optimization hasn't converged yet.\n",
      "  warnings.warn(\n"
     ]
    },
    {
     "name": "stdout",
     "output_type": "stream",
     "text": [
      "0.744606226280687\n",
      "MLPClassifier(hidden_layer_sizes=(10,), max_iter=50)\n"
     ]
    },
    {
     "name": "stderr",
     "output_type": "stream",
     "text": [
      "/Library/Python/3.9/site-packages/sklearn/neural_network/_multilayer_perceptron.py:686: ConvergenceWarning: Stochastic Optimizer: Maximum iterations (50) reached and the optimization hasn't converged yet.\n",
      "  warnings.warn(\n"
     ]
    },
    {
     "name": "stdout",
     "output_type": "stream",
     "text": [
      "0.7459940595664847\n",
      "MLPClassifier(hidden_layer_sizes=(10, 10), learning_rate='adaptive',\n",
      "           \n"
     ]
    },
    {
     "name": "stderr",
     "output_type": "stream",
     "text": [
      "/Library/Python/3.9/site-packages/sklearn/neural_network/_multilayer_perceptron.py:686: ConvergenceWarning: Stochastic Optimizer: Maximum iterations (50) reached and the optimization hasn't converged yet.\n",
      "  warnings.warn(\n"
     ]
    },
    {
     "name": "stdout",
     "output_type": "stream",
     "text": [
      "0.7466140053663683\n",
      "MLPClassifier(hidden_layer_sizes=(10,), max_iter=50)\n"
     ]
    },
    {
     "name": "stderr",
     "output_type": "stream",
     "text": [
      "/Library/Python/3.9/site-packages/sklearn/neural_network/_multilayer_perceptron.py:686: ConvergenceWarning: Stochastic Optimizer: Maximum iterations (50) reached and the optimization hasn't converged yet.\n",
      "  warnings.warn(\n"
     ]
    },
    {
     "name": "stdout",
     "output_type": "stream",
     "text": [
      "0.749933619902455\n",
      "MLPClassifier(alpha=0.1, early_stopping=True, hidden_layer_sizes=(128, 32, 32),\n",
      "\n"
     ]
    },
    {
     "name": "stderr",
     "output_type": "stream",
     "text": [
      "/Library/Python/3.9/site-packages/sklearn/neural_network/_multilayer_perceptron.py:686: ConvergenceWarning: Stochastic Optimizer: Maximum iterations (50) reached and the optimization hasn't converged yet.\n",
      "  warnings.warn(\n"
     ]
    },
    {
     "name": "stdout",
     "output_type": "stream",
     "text": [
      "0.683830293910986\n",
      "MLPClassifier(hidden_layer_sizes=(10,), max_iter=50)\n"
     ]
    },
    {
     "name": "stderr",
     "output_type": "stream",
     "text": [
      "/Library/Python/3.9/site-packages/sklearn/neural_network/_multilayer_perceptron.py:686: ConvergenceWarning: Stochastic Optimizer: Maximum iterations (50) reached and the optimization hasn't converged yet.\n",
      "  warnings.warn(\n"
     ]
    },
    {
     "name": "stdout",
     "output_type": "stream",
     "text": [
      "0.749768346897533\n",
      "MLPClassifier(alpha=0.1, hidden_layer_sizes=(32, 8), max_iter=50)\n"
     ]
    },
    {
     "name": "stderr",
     "output_type": "stream",
     "text": [
      "/Library/Python/3.9/site-packages/sklearn/neural_network/_multilayer_perceptron.py:686: ConvergenceWarning: Stochastic Optimizer: Maximum iterations (50) reached and the optimization hasn't converged yet.\n",
      "  warnings.warn(\n"
     ]
    },
    {
     "name": "stdout",
     "output_type": "stream",
     "text": [
      "0.72534480639831\n",
      "MLPClassifier(hidden_layer_sizes=(12, 12), max_iter=50)\n"
     ]
    },
    {
     "name": "stderr",
     "output_type": "stream",
     "text": [
      "/Library/Python/3.9/site-packages/sklearn/neural_network/_multilayer_perceptron.py:686: ConvergenceWarning: Stochastic Optimizer: Maximum iterations (50) reached and the optimization hasn't converged yet.\n",
      "  warnings.warn(\n"
     ]
    },
    {
     "name": "stdout",
     "output_type": "stream",
     "text": [
      "0.7447025002021693\n",
      "MLPClassifier(hidden_layer_sizes=(4, 8, 8), max_iter=50)\n"
     ]
    },
    {
     "name": "stderr",
     "output_type": "stream",
     "text": [
      "/Library/Python/3.9/site-packages/sklearn/neural_network/_multilayer_perceptron.py:686: ConvergenceWarning: Stochastic Optimizer: Maximum iterations (50) reached and the optimization hasn't converged yet.\n",
      "  warnings.warn(\n"
     ]
    },
    {
     "name": "stdout",
     "output_type": "stream",
     "text": [
      "0.7515701572240622\n",
      "MLPClassifier(hidden_layer_sizes=(10, 8, 8), max_iter=50)\n"
     ]
    },
    {
     "name": "stderr",
     "output_type": "stream",
     "text": [
      "/Library/Python/3.9/site-packages/sklearn/neural_network/_multilayer_perceptron.py:686: ConvergenceWarning: Stochastic Optimizer: Maximum iterations (50) reached and the optimization hasn't converged yet.\n",
      "  warnings.warn(\n"
     ]
    },
    {
     "name": "stdout",
     "output_type": "stream",
     "text": [
      "0.746635186491819\n",
      "MLPClassifier(early_stopping=True, hidden_layer_sizes=(8, 32, 32),\n",
      "             \n",
      "0.7371789548287977\n",
      "MLPClassifier(learning_rate='adaptive', max_iter=50)\n"
     ]
    },
    {
     "name": "stderr",
     "output_type": "stream",
     "text": [
      "/Library/Python/3.9/site-packages/sklearn/neural_network/_multilayer_perceptron.py:686: ConvergenceWarning: Stochastic Optimizer: Maximum iterations (50) reached and the optimization hasn't converged yet.\n",
      "  warnings.warn(\n"
     ]
    },
    {
     "name": "stdout",
     "output_type": "stream",
     "text": [
      "0.7061396567116933\n",
      "MLPClassifier(early_stopping=True, hidden_layer_sizes=(10, 32, 32, 10),\n",
      "        \n"
     ]
    },
    {
     "name": "stderr",
     "output_type": "stream",
     "text": [
      "/Library/Python/3.9/site-packages/sklearn/neural_network/_multilayer_perceptron.py:686: ConvergenceWarning: Stochastic Optimizer: Maximum iterations (50) reached and the optimization hasn't converged yet.\n",
      "  warnings.warn(\n"
     ]
    },
    {
     "name": "stdout",
     "output_type": "stream",
     "text": [
      "0.7323935183314199\n",
      "MLPClassifier(early_stopping=True, hidden_layer_sizes=(8, 32, 32),\n",
      "             \n"
     ]
    },
    {
     "name": "stderr",
     "output_type": "stream",
     "text": [
      "/Library/Python/3.9/site-packages/sklearn/neural_network/_multilayer_perceptron.py:686: ConvergenceWarning: Stochastic Optimizer: Maximum iterations (50) reached and the optimization hasn't converged yet.\n",
      "  warnings.warn(\n"
     ]
    },
    {
     "name": "stdout",
     "output_type": "stream",
     "text": [
      "0.7336855004308702\n",
      "MLPClassifier(max_iter=50)\n"
     ]
    },
    {
     "name": "stderr",
     "output_type": "stream",
     "text": [
      "/Library/Python/3.9/site-packages/sklearn/neural_network/_multilayer_perceptron.py:686: ConvergenceWarning: Stochastic Optimizer: Maximum iterations (50) reached and the optimization hasn't converged yet.\n",
      "  warnings.warn(\n"
     ]
    },
    {
     "name": "stdout",
     "output_type": "stream",
     "text": [
      "0.7082515674981831\n",
      "MLPClassifier(hidden_layer_sizes=(256,), max_iter=50)\n"
     ]
    },
    {
     "name": "stderr",
     "output_type": "stream",
     "text": [
      "/Library/Python/3.9/site-packages/sklearn/neural_network/_multilayer_perceptron.py:686: ConvergenceWarning: Stochastic Optimizer: Maximum iterations (50) reached and the optimization hasn't converged yet.\n",
      "  warnings.warn(\n"
     ]
    },
    {
     "name": "stdout",
     "output_type": "stream",
     "text": [
      "0.678230430445643\n",
      "MLPClassifier(hidden_layer_sizes=(32, 32), max_iter=50)\n"
     ]
    },
    {
     "name": "stderr",
     "output_type": "stream",
     "text": [
      "/Library/Python/3.9/site-packages/sklearn/neural_network/_multilayer_perceptron.py:686: ConvergenceWarning: Stochastic Optimizer: Maximum iterations (50) reached and the optimization hasn't converged yet.\n",
      "  warnings.warn(\n"
     ]
    },
    {
     "name": "stdout",
     "output_type": "stream",
     "text": [
      "0.7208911085250584\n",
      "MLPClassifier(hidden_layer_sizes=(10, 32), max_iter=100)\n"
     ]
    },
    {
     "name": "stderr",
     "output_type": "stream",
     "text": [
      "/Library/Python/3.9/site-packages/sklearn/neural_network/_multilayer_perceptron.py:686: ConvergenceWarning: Stochastic Optimizer: Maximum iterations (100) reached and the optimization hasn't converged yet.\n",
      "  warnings.warn(\n"
     ]
    },
    {
     "name": "stdout",
     "output_type": "stream",
     "text": [
      "0.7366660678316048\n",
      "MLPClassifier(hidden_layer_sizes=(10,), max_iter=50)\n"
     ]
    },
    {
     "name": "stderr",
     "output_type": "stream",
     "text": [
      "/Library/Python/3.9/site-packages/sklearn/neural_network/_multilayer_perceptron.py:686: ConvergenceWarning: Stochastic Optimizer: Maximum iterations (50) reached and the optimization hasn't converged yet.\n",
      "  warnings.warn(\n"
     ]
    },
    {
     "name": "stdout",
     "output_type": "stream",
     "text": [
      "0.7490545538976855\n",
      "MLPClassifier(early_stopping=True, hidden_layer_sizes=(16, 32, 32),\n",
      "            \n",
      "0.723343886796155\n",
      "MLPClassifier(hidden_layer_sizes=(16,), max_iter=50)\n"
     ]
    },
    {
     "name": "stderr",
     "output_type": "stream",
     "text": [
      "/Library/Python/3.9/site-packages/sklearn/neural_network/_multilayer_perceptron.py:686: ConvergenceWarning: Stochastic Optimizer: Maximum iterations (50) reached and the optimization hasn't converged yet.\n",
      "  warnings.warn(\n"
     ]
    },
    {
     "name": "stdout",
     "output_type": "stream",
     "text": [
      "0.7472096942216022\n",
      "MLPClassifier(hidden_layer_sizes=(32, 16), max_iter=50)\n"
     ]
    },
    {
     "name": "stderr",
     "output_type": "stream",
     "text": [
      "/Library/Python/3.9/site-packages/sklearn/neural_network/_multilayer_perceptron.py:686: ConvergenceWarning: Stochastic Optimizer: Maximum iterations (50) reached and the optimization hasn't converged yet.\n",
      "  warnings.warn(\n"
     ]
    },
    {
     "name": "stdout",
     "output_type": "stream",
     "text": [
      "0.7222109011735487\n",
      "MLPClassifier(hidden_layer_sizes=(32, 32), max_iter=50)\n"
     ]
    },
    {
     "name": "stderr",
     "output_type": "stream",
     "text": [
      "/Library/Python/3.9/site-packages/sklearn/neural_network/_multilayer_perceptron.py:686: ConvergenceWarning: Stochastic Optimizer: Maximum iterations (50) reached and the optimization hasn't converged yet.\n",
      "  warnings.warn(\n"
     ]
    },
    {
     "name": "stdout",
     "output_type": "stream",
     "text": [
      "0.7177930803258923\n",
      "MLPClassifier(hidden_layer_sizes=(32, 32), max_iter=100)\n"
     ]
    },
    {
     "name": "stderr",
     "output_type": "stream",
     "text": [
      "/Library/Python/3.9/site-packages/sklearn/neural_network/_multilayer_perceptron.py:686: ConvergenceWarning: Stochastic Optimizer: Maximum iterations (100) reached and the optimization hasn't converged yet.\n",
      "  warnings.warn(\n"
     ]
    },
    {
     "name": "stdout",
     "output_type": "stream",
     "text": [
      "0.7126246100547737\n",
      "MLPClassifier(hidden_layer_sizes=(16, 16, 10), max_iter=50)\n"
     ]
    },
    {
     "name": "stderr",
     "output_type": "stream",
     "text": [
      "/Library/Python/3.9/site-packages/sklearn/neural_network/_multilayer_perceptron.py:686: ConvergenceWarning: Stochastic Optimizer: Maximum iterations (50) reached and the optimization hasn't converged yet.\n",
      "  warnings.warn(\n"
     ]
    },
    {
     "name": "stdout",
     "output_type": "stream",
     "text": [
      "0.7292246752185938\n",
      "MLPClassifier(early_stopping=True, hidden_layer_sizes=(256, 10), max_iter=50)\n"
     ]
    },
    {
     "name": "stderr",
     "output_type": "stream",
     "text": [
      "/Library/Python/3.9/site-packages/sklearn/neural_network/_multilayer_perceptron.py:686: ConvergenceWarning: Stochastic Optimizer: Maximum iterations (50) reached and the optimization hasn't converged yet.\n",
      "  warnings.warn(\n"
     ]
    },
    {
     "name": "stdout",
     "output_type": "stream",
     "text": [
      "0.6639535885857432\n",
      "MLPClassifier(early_stopping=True, hidden_layer_sizes=(32, 128, 128, 16),\n",
      "      \n",
      "0.6461980931929063\n",
      "MLPClassifier(early_stopping=True, hidden_layer_sizes=(128,),\n",
      "              lear\n"
     ]
    },
    {
     "name": "stderr",
     "output_type": "stream",
     "text": [
      "/Library/Python/3.9/site-packages/sklearn/neural_network/_multilayer_perceptron.py:686: ConvergenceWarning: Stochastic Optimizer: Maximum iterations (50) reached and the optimization hasn't converged yet.\n",
      "  warnings.warn(\n"
     ]
    },
    {
     "name": "stdout",
     "output_type": "stream",
     "text": [
      "0.7059211182581221\n",
      "MLPClassifier(early_stopping=True, hidden_layer_sizes=(16, 128), max_iter=50)\n"
     ]
    },
    {
     "name": "stderr",
     "output_type": "stream",
     "text": [
      "/Library/Python/3.9/site-packages/sklearn/neural_network/_multilayer_perceptron.py:686: ConvergenceWarning: Stochastic Optimizer: Maximum iterations (50) reached and the optimization hasn't converged yet.\n",
      "  warnings.warn(\n"
     ]
    },
    {
     "name": "stdout",
     "output_type": "stream",
     "text": [
      "0.7190302358556895\n",
      "MLPClassifier(early_stopping=True, hidden_layer_sizes=(64, 32),\n",
      "              le\n"
     ]
    },
    {
     "name": "stderr",
     "output_type": "stream",
     "text": [
      "/Library/Python/3.9/site-packages/sklearn/neural_network/_multilayer_perceptron.py:686: ConvergenceWarning: Stochastic Optimizer: Maximum iterations (50) reached and the optimization hasn't converged yet.\n",
      "  warnings.warn(\n"
     ]
    },
    {
     "name": "stdout",
     "output_type": "stream",
     "text": [
      "0.6929345129178974\n",
      "MLPClassifier(early_stopping=True, hidden_layer_sizes=(64, 64),\n",
      "              le\n"
     ]
    },
    {
     "name": "stderr",
     "output_type": "stream",
     "text": [
      "/Library/Python/3.9/site-packages/sklearn/neural_network/_multilayer_perceptron.py:686: ConvergenceWarning: Stochastic Optimizer: Maximum iterations (50) reached and the optimization hasn't converged yet.\n",
      "  warnings.warn(\n"
     ]
    },
    {
     "name": "stdout",
     "output_type": "stream",
     "text": [
      "0.6857678320003873\n",
      "MLPClassifier(hidden_layer_sizes=(32,), learning_rate='adaptive', max_iter=50)\n"
     ]
    },
    {
     "name": "stderr",
     "output_type": "stream",
     "text": [
      "/Library/Python/3.9/site-packages/sklearn/neural_network/_multilayer_perceptron.py:686: ConvergenceWarning: Stochastic Optimizer: Maximum iterations (50) reached and the optimization hasn't converged yet.\n",
      "  warnings.warn(\n"
     ]
    },
    {
     "name": "stdout",
     "output_type": "stream",
     "text": [
      "0.7349229673632256\n",
      "MLPClassifier(hidden_layer_sizes=(32,), max_iter=50)\n"
     ]
    },
    {
     "name": "stderr",
     "output_type": "stream",
     "text": [
      "/Library/Python/3.9/site-packages/sklearn/neural_network/_multilayer_perceptron.py:686: ConvergenceWarning: Stochastic Optimizer: Maximum iterations (50) reached and the optimization hasn't converged yet.\n",
      "  warnings.warn(\n"
     ]
    },
    {
     "name": "stdout",
     "output_type": "stream",
     "text": [
      "0.7380658465688308\n",
      "MLPClassifier(hidden_layer_sizes=(10, 32), max_iter=50)\n"
     ]
    },
    {
     "name": "stderr",
     "output_type": "stream",
     "text": [
      "/Library/Python/3.9/site-packages/sklearn/neural_network/_multilayer_perceptron.py:686: ConvergenceWarning: Stochastic Optimizer: Maximum iterations (50) reached and the optimization hasn't converged yet.\n",
      "  warnings.warn(\n"
     ]
    },
    {
     "name": "stdout",
     "output_type": "stream",
     "text": [
      "0.7417296324145539\n",
      "MLPClassifier(hidden_layer_sizes=(128,), learning_rate='adaptive', max_iter=100)\n"
     ]
    },
    {
     "name": "stderr",
     "output_type": "stream",
     "text": [
      "/Library/Python/3.9/site-packages/sklearn/neural_network/_multilayer_perceptron.py:686: ConvergenceWarning: Stochastic Optimizer: Maximum iterations (100) reached and the optimization hasn't converged yet.\n",
      "  warnings.warn(\n"
     ]
    },
    {
     "name": "stdout",
     "output_type": "stream",
     "text": [
      "0.6780980864125469\n",
      "MLPClassifier(hidden_layer_sizes=(16,), max_iter=50)\n"
     ]
    },
    {
     "name": "stderr",
     "output_type": "stream",
     "text": [
      "/Library/Python/3.9/site-packages/sklearn/neural_network/_multilayer_perceptron.py:686: ConvergenceWarning: Stochastic Optimizer: Maximum iterations (50) reached and the optimization hasn't converged yet.\n",
      "  warnings.warn(\n"
     ]
    },
    {
     "name": "stdout",
     "output_type": "stream",
     "text": [
      "0.7438513244457751\n",
      "MLPClassifier(hidden_layer_sizes=(32,), max_iter=30)\n"
     ]
    },
    {
     "name": "stderr",
     "output_type": "stream",
     "text": [
      "/Library/Python/3.9/site-packages/sklearn/neural_network/_multilayer_perceptron.py:686: ConvergenceWarning: Stochastic Optimizer: Maximum iterations (30) reached and the optimization hasn't converged yet.\n",
      "  warnings.warn(\n"
     ]
    },
    {
     "name": "stdout",
     "output_type": "stream",
     "text": [
      "0.7418918735581579\n",
      "MLPClassifier(hidden_layer_sizes=(10,), max_iter=30)\n"
     ]
    },
    {
     "name": "stderr",
     "output_type": "stream",
     "text": [
      "/Library/Python/3.9/site-packages/sklearn/neural_network/_multilayer_perceptron.py:686: ConvergenceWarning: Stochastic Optimizer: Maximum iterations (30) reached and the optimization hasn't converged yet.\n",
      "  warnings.warn(\n"
     ]
    },
    {
     "name": "stdout",
     "output_type": "stream",
     "text": [
      "0.7491742306662998\n",
      "MLPClassifier(early_stopping=True, hidden_layer_sizes=(64, 10),\n",
      "              le\n"
     ]
    },
    {
     "name": "stderr",
     "output_type": "stream",
     "text": [
      "/Library/Python/3.9/site-packages/sklearn/neural_network/_multilayer_perceptron.py:686: ConvergenceWarning: Stochastic Optimizer: Maximum iterations (50) reached and the optimization hasn't converged yet.\n",
      "  warnings.warn(\n"
     ]
    },
    {
     "name": "stdout",
     "output_type": "stream",
     "text": [
      "0.704983916928814\n",
      "MLPClassifier(early_stopping=True, hidden_layer_sizes=(128,), max_iter=50)\n"
     ]
    },
    {
     "name": "stderr",
     "output_type": "stream",
     "text": [
      "/Library/Python/3.9/site-packages/sklearn/neural_network/_multilayer_perceptron.py:686: ConvergenceWarning: Stochastic Optimizer: Maximum iterations (50) reached and the optimization hasn't converged yet.\n",
      "  warnings.warn(\n"
     ]
    },
    {
     "name": "stdout",
     "output_type": "stream",
     "text": [
      "0.7037377865965302\n",
      "MLPClassifier(hidden_layer_sizes=(10,), learning_rate='adaptive', max_iter=50)\n"
     ]
    },
    {
     "name": "stderr",
     "output_type": "stream",
     "text": [
      "/Library/Python/3.9/site-packages/sklearn/neural_network/_multilayer_perceptron.py:686: ConvergenceWarning: Stochastic Optimizer: Maximum iterations (50) reached and the optimization hasn't converged yet.\n",
      "  warnings.warn(\n"
     ]
    },
    {
     "name": "stdout",
     "output_type": "stream",
     "text": [
      "0.7496587126560075\n",
      "MLPClassifier(early_stopping=True, hidden_layer_sizes=(32, 16, 16),\n",
      "            \n"
     ]
    },
    {
     "name": "stderr",
     "output_type": "stream",
     "text": [
      "/Library/Python/3.9/site-packages/sklearn/neural_network/_multilayer_perceptron.py:686: ConvergenceWarning: Stochastic Optimizer: Maximum iterations (50) reached and the optimization hasn't converged yet.\n",
      "  warnings.warn(\n"
     ]
    },
    {
     "name": "stdout",
     "output_type": "stream",
     "text": [
      "0.7173576286278791\n",
      "MLPClassifier(early_stopping=True, hidden_layer_sizes=(128,),\n",
      "              lear\n"
     ]
    },
    {
     "name": "stderr",
     "output_type": "stream",
     "text": [
      "/Library/Python/3.9/site-packages/sklearn/neural_network/_multilayer_perceptron.py:686: ConvergenceWarning: Stochastic Optimizer: Maximum iterations (50) reached and the optimization hasn't converged yet.\n",
      "  warnings.warn(\n"
     ]
    },
    {
     "name": "stdout",
     "output_type": "stream",
     "text": [
      "0.7045841951823645\n",
      "MLPClassifier(early_stopping=True, hidden_layer_sizes=(16, 32, 64),\n",
      "            \n"
     ]
    },
    {
     "name": "stderr",
     "output_type": "stream",
     "text": [
      "/Library/Python/3.9/site-packages/sklearn/neural_network/_multilayer_perceptron.py:686: ConvergenceWarning: Stochastic Optimizer: Maximum iterations (50) reached and the optimization hasn't converged yet.\n",
      "  warnings.warn(\n"
     ]
    },
    {
     "name": "stdout",
     "output_type": "stream",
     "text": [
      "0.7128957480156398\n",
      "[[-1.18619170e-01  3.33534462e+00 -1.18619170e-01 -9.62284555e-01\n",
      "   4.05784984e-02 -1.33235846e-01  1.27732770e-01 -9.61221113e-03\n",
      "   5.36169437e-02  5.10671823e-02 -1.18619170e-01  8.69197759e-03\n",
      "   2.61242239e-02  4.25919467e-01  3.12821168e-01 -3.32127508e-01\n",
      "   2.92956210e-01  2.30274178e-01 -3.08887773e-02  5.43047477e-02\n",
      "  -1.04504936e-01  2.79741729e-03  8.75800384e-02 -2.77885039e-01\n",
      "  -6.65948490e-02 -1.01717575e-01  1.30489682e-01  2.00536664e-02\n",
      "  -1.01154818e+00  7.87749942e-02  6.07527762e-01  5.12011157e-02\n",
      "  -6.37185671e-03  1.88357671e-02 -1.56227963e-01 -4.36519595e-01\n",
      "   1.60526191e-01  1.87514780e-01  1.25070810e-01 -1.07797905e-01\n",
      "   7.28183052e-02 -1.14772580e-01 -7.68724800e-04 -1.34544091e-01\n",
      "   2.42694084e-01  5.52140532e-02  3.91833718e-01  6.46273281e-02\n",
      "   6.17242207e-01 -8.01804020e-02 -8.34318810e-02  2.95558845e-01\n",
      "  -6.58547905e-02  4.53934416e-01  8.67337562e-02 -1.14658674e-01\n",
      "   1.34173171e-01 -1.48430733e-01 -3.66083656e-02  8.49319249e-02\n",
      "   1.99028835e-01  4.46328564e-02  4.99758775e-02 -2.16691386e-02\n",
      "   3.73580054e-01  6.42696847e-02  1.03384480e-01 -1.40306827e-02\n",
      "  -5.51853702e-01  4.87873816e-01  8.76441234e-02 -2.47074237e-01\n",
      "   3.62544305e-01 -2.87314559e-02 -5.03208057e-02  3.31121780e-01\n",
      "  -1.69848929e-01 -4.22995179e-01 -4.28020057e-01  5.76829236e-01\n",
      "   3.84962977e-01 -3.95622133e-01 -9.19597555e-02  2.29201936e-01\n",
      "  -3.21477413e-01 -4.74547146e-02  3.45919703e-02 -1.67054477e-01\n",
      "   5.18018595e-02 -1.10122121e-01 -6.24950091e-02 -2.26596920e-01\n",
      "   3.58949112e-01  2.12667552e-01  8.32626626e-02 -1.03130380e-01\n",
      "  -2.15427281e-01  2.08003373e-01  4.33847803e-01 -4.38577008e-02\n",
      "  -4.25752099e-02  1.84060797e-02  1.55910303e-01  1.29703808e-02\n",
      "   1.42994975e-01  6.31865835e-02  7.34082264e-02 -2.86104714e-01\n",
      "  -3.51925817e-01 -2.83044751e-01 -1.46599103e-01 -1.22593837e-01\n",
      "   7.37526388e-04  1.02678704e-01 -1.13686107e-01 -5.93278768e-02\n",
      "   1.27979836e-02 -1.35022077e-01  2.94001649e-02 -3.89954679e-02\n",
      "   1.20085280e-02 -1.36847418e-01  3.47502624e-02  9.21993456e-02\n",
      "  -6.28274889e-02 -4.36184144e-02  3.22020308e-01  5.34137421e-01\n",
      "  -1.07978610e-02 -1.26862944e-03  3.25656534e-01 -5.65465985e-03\n",
      "   6.67720392e-02 -1.91856962e-01]]\n",
      "0.5245676947665006\n",
      "8530\n",
      "3754\n",
      "(0.76729769967911, 0.30869423640507976, array([[37123,  6634],\n",
      "       [ 1858,  1896]]))\n",
      "DecisionTreeClassifier(max_depth=5, random_state=42)\n",
      "0.7021386816700232\n",
      "XGBClassifier(base_score=None, booster=None, callbacks=None,\n",
      "              colsample_bylevel=None, colsample_bynode=None,\n",
      "              colsample_bytree=None, early_stopping_rounds=None,\n",
      "              enable_categorical=False, eval_metric=None, feature_types=None,\n",
      "              gamma=None, gpu_id=None, grow_policy=None, importance_type=None,\n",
      "              interaction_constraints=None, learning_rate=0.1, max_bin=None,\n",
      "              max_cat_threshold=None, max_cat_to_onehot=None,\n",
      "              max_delta_step=None, max_depth=5, max_leaves=None,\n",
      "              min_child_weight=None, missing=nan, monotone_constraints=None,\n",
      "              n_estimators=100, n_jobs=None, num_parallel_tree=None,\n",
      "              predictor=None, random_state=None, ...)\n",
      "0.764363105298356\n",
      "DecisionTreeClassifier(max_depth=5, random_state=12)\n",
      "0.7021386816700232\n",
      "RandomForestClassifier(max_depth=15, random_state=42)\n",
      "0.734737733782985\n",
      "DecisionTreeClassifier(criterion='entropy', max_depth=20, min_samples_leaf=50,\n",
      "                       random_state=42)\n",
      "0.6596407268330272\n",
      "DecisionTreeClassifier(max_depth=5, max_features=50, random_state=123)\n",
      "0.6988240469045279\n",
      "DecisionTreeClassifier(max_depth=5, max_features=50, min_samples_leaf=50,\n",
      "                       random_state=42)\n",
      "0.6908915699924272\n",
      "DecisionTreeClassifier(max_depth=30, min_samples_leaf=50, random_state=333)\n",
      "0.6563516040713042\n",
      "DecisionTreeClassifier(max_depth=15, random_state=42)\n",
      "0.6010761375655819\n",
      "DecisionTreeClassifier(max_depth=25, max_features=10, random_state=1)\n",
      "0.5560322398371429\n",
      "DecisionTreeClassifier(max_depth=5, min_samples_leaf=100, random_state=12)\n",
      "0.7021386816700232\n",
      "DecisionTreeClassifier(max_depth=15, min_samples_leaf=50, random_state=42)\n",
      "0.6625331839480759\n",
      "DecisionTreeClassifier(criterion='entropy', max_depth=15, random_state=123)\n",
      "0.6273229694163462\n",
      "XGBClassifier(base_score=None, booster=None, callbacks=None,\n",
      "              colsample_bylevel=None, colsample_bynode=None,\n",
      "              colsample_bytree=None, early_stopping_rounds=None,\n",
      "              enable_categorical=False, eval_metric=None, feature_types=None,\n",
      "              gamma=None, gpu_id=None, grow_policy=None, importance_type=None,\n",
      "              interaction_constraints=None, learning_rate=0.1, max_bin=None,\n",
      "              max_cat_threshold=None, max_cat_to_onehot=None,\n",
      "              max_delta_step=None, max_depth=15, max_leaves=None,\n",
      "              min_child_weight=None, missing=nan, monotone_constraints=None,\n",
      "              n_estimators=100, n_jobs=None, num_parallel_tree=None,\n",
      "              predictor=None, random_state=None, ...)\n",
      "0.7450530318474322\n",
      "XGBClassifier(base_score=None, booster=None, callbacks=None,\n",
      "              colsample_bylevel=None, colsample_bynode=None,\n",
      "              colsample_bytree=None, early_stopping_rounds=None,\n",
      "              enable_categorical=False, eval_metric=None, feature_types=None,\n",
      "              gamma=None, gpu_id=None, grow_policy=None, importance_type=None,\n",
      "              interaction_constraints=None, learning_rate=0.01, max_bin=None,\n",
      "              max_cat_threshold=None, max_cat_to_onehot=None,\n",
      "              max_delta_step=None, max_depth=10, max_leaves=None,\n",
      "              min_child_weight=None, missing=nan, monotone_constraints=None,\n",
      "              n_estimators=100, n_jobs=None, num_parallel_tree=None,\n",
      "              predictor=None, random_state=None, ...)\n",
      "0.7420810395200428\n",
      "XGBClassifier(base_score=None, booster=None, callbacks=None,\n",
      "              colsample_bylevel=None, colsample_bynode=None,\n",
      "              colsample_bytree=None, early_stopping_rounds=None,\n",
      "              enable_categorical=False, eval_metric=None, feature_types=None,\n",
      "              gamma=None, gpu_id=None, grow_policy=None, importance_type=None,\n",
      "              interaction_constraints=None, learning_rate=0.01, max_bin=None,\n",
      "              max_cat_threshold=None, max_cat_to_onehot=None,\n",
      "              max_delta_step=None, max_depth=25, max_leaves=None,\n",
      "              min_child_weight=None, missing=nan, monotone_constraints=None,\n",
      "              n_estimators=100, n_jobs=None, num_parallel_tree=None,\n",
      "              predictor=None, random_state=None, ...)\n",
      "0.7020946695607133\n",
      "XGBClassifier(base_score=None, booster=None, callbacks=None,\n",
      "              colsample_bylevel=None, colsample_bynode=None,\n",
      "              colsample_bytree=None, early_stopping_rounds=None,\n",
      "              enable_categorical=False, eval_metric=None, feature_types=None,\n",
      "              gamma=None, gpu_id=None, grow_policy=None, importance_type=None,\n",
      "              interaction_constraints=None, learning_rate=0.1, max_bin=None,\n",
      "              max_cat_threshold=None, max_cat_to_onehot=None,\n",
      "              max_delta_step=None, max_depth=50, max_leaves=None,\n",
      "              min_child_weight=None, missing=nan, monotone_constraints=None,\n",
      "              n_estimators=1000, n_jobs=None, num_parallel_tree=None,\n",
      "              predictor=None, random_state=None, ...)\n",
      "0.7504035039729027\n",
      "MLPClassifier(early_stopping=True, hidden_layer_sizes=(10, 100, 10),\n",
      "              learning_rate='adaptive', max_iter=30)\n"
     ]
    },
    {
     "name": "stderr",
     "output_type": "stream",
     "text": [
      "/Library/Python/3.9/site-packages/sklearn/neural_network/_multilayer_perceptron.py:686: ConvergenceWarning: Stochastic Optimizer: Maximum iterations (30) reached and the optimization hasn't converged yet.\n",
      "  warnings.warn(\n"
     ]
    },
    {
     "name": "stdout",
     "output_type": "stream",
     "text": [
      "0.7317698928050018\n",
      "MLPClassifier(early_stopping=True, hidden_layer_sizes=(128, 256, 256, 32),\n",
      "              max_iter=50)\n"
     ]
    },
    {
     "name": "stderr",
     "output_type": "stream",
     "text": [
      "/Library/Python/3.9/site-packages/sklearn/neural_network/_multilayer_perceptron.py:686: ConvergenceWarning: Stochastic Optimizer: Maximum iterations (50) reached and the optimization hasn't converged yet.\n",
      "  warnings.warn(\n"
     ]
    },
    {
     "name": "stdout",
     "output_type": "stream",
     "text": [
      "0.6417026603929037\n",
      "MLPClassifier(early_stopping=True, hidden_layer_sizes=(128, 32, 32),\n",
      "              max_iter=50)\n"
     ]
    },
    {
     "name": "stderr",
     "output_type": "stream",
     "text": [
      "/Library/Python/3.9/site-packages/sklearn/neural_network/_multilayer_perceptron.py:686: ConvergenceWarning: Stochastic Optimizer: Maximum iterations (50) reached and the optimization hasn't converged yet.\n",
      "  warnings.warn(\n"
     ]
    },
    {
     "name": "stdout",
     "output_type": "stream",
     "text": [
      "0.6681225351121545\n",
      "MLPClassifier(alpha=0.1, early_stopping=True, hidden_layer_sizes=(100, 32),\n",
      "              max_iter=50)\n"
     ]
    },
    {
     "name": "stderr",
     "output_type": "stream",
     "text": [
      "/Library/Python/3.9/site-packages/sklearn/neural_network/_multilayer_perceptron.py:686: ConvergenceWarning: Stochastic Optimizer: Maximum iterations (50) reached and the optimization hasn't converged yet.\n",
      "  warnings.warn(\n"
     ]
    },
    {
     "name": "stdout",
     "output_type": "stream",
     "text": [
      "0.7021072047461419\n",
      "MLPClassifier(early_stopping=True, hidden_layer_sizes=(128, 128, 128),\n",
      "              max_iter=10)\n"
     ]
    },
    {
     "name": "stderr",
     "output_type": "stream",
     "text": [
      "/Library/Python/3.9/site-packages/sklearn/neural_network/_multilayer_perceptron.py:686: ConvergenceWarning: Stochastic Optimizer: Maximum iterations (10) reached and the optimization hasn't converged yet.\n",
      "  warnings.warn(\n"
     ]
    },
    {
     "name": "stdout",
     "output_type": "stream",
     "text": [
      "0.6828372484076233\n",
      "MLPClassifier(alpha=0.1, early_stopping=True,\n",
      "              hidden_layer_sizes=(32, 256, 256, 32), learning_rate='adaptive',\n",
      "              max_iter=10)\n"
     ]
    },
    {
     "name": "stderr",
     "output_type": "stream",
     "text": [
      "/Library/Python/3.9/site-packages/sklearn/neural_network/_multilayer_perceptron.py:686: ConvergenceWarning: Stochastic Optimizer: Maximum iterations (10) reached and the optimization hasn't converged yet.\n",
      "  warnings.warn(\n"
     ]
    },
    {
     "name": "stdout",
     "output_type": "stream",
     "text": [
      "0.7332386048942567\n",
      "MLPClassifier(early_stopping=True, hidden_layer_sizes=(32, 256, 128, 10),\n",
      "              learning_rate_init=0.01, max_iter=10)\n"
     ]
    },
    {
     "name": "stderr",
     "output_type": "stream",
     "text": [
      "/Library/Python/3.9/site-packages/sklearn/neural_network/_multilayer_perceptron.py:686: ConvergenceWarning: Stochastic Optimizer: Maximum iterations (10) reached and the optimization hasn't converged yet.\n",
      "  warnings.warn(\n"
     ]
    },
    {
     "name": "stdout",
     "output_type": "stream",
     "text": [
      "0.7237363530273289\n",
      "MLPClassifier(early_stopping=True, hidden_layer_sizes=(32, 128, 128, 32),\n",
      "              learning_rate='adaptive', max_iter=10)\n"
     ]
    },
    {
     "name": "stderr",
     "output_type": "stream",
     "text": [
      "/Library/Python/3.9/site-packages/sklearn/neural_network/_multilayer_perceptron.py:686: ConvergenceWarning: Stochastic Optimizer: Maximum iterations (10) reached and the optimization hasn't converged yet.\n",
      "  warnings.warn(\n"
     ]
    },
    {
     "name": "stdout",
     "output_type": "stream",
     "text": [
      "0.6887798724222007\n",
      "MLPClassifier(hidden_layer_sizes=(128, 256, 256, 32), learning_rate_init=0.01,\n",
      "              max_iter=50)\n"
     ]
    },
    {
     "name": "stderr",
     "output_type": "stream",
     "text": [
      "/Library/Python/3.9/site-packages/sklearn/neural_network/_multilayer_perceptron.py:686: ConvergenceWarning: Stochastic Optimizer: Maximum iterations (50) reached and the optimization hasn't converged yet.\n",
      "  warnings.warn(\n"
     ]
    },
    {
     "name": "stdout",
     "output_type": "stream",
     "text": [
      "0.6588783127195166\n",
      "MLPClassifier(early_stopping=True, hidden_layer_sizes=(32, 64, 64, 32),\n",
      "              learning_rate='adaptive', max_iter=10)\n"
     ]
    },
    {
     "name": "stderr",
     "output_type": "stream",
     "text": [
      "/Library/Python/3.9/site-packages/sklearn/neural_network/_multilayer_perceptron.py:686: ConvergenceWarning: Stochastic Optimizer: Maximum iterations (10) reached and the optimization hasn't converged yet.\n",
      "  warnings.warn(\n"
     ]
    },
    {
     "name": "stdout",
     "output_type": "stream",
     "text": [
      "0.7146804663266947\n",
      "MLPClassifier(early_stopping=True, hidden_layer_sizes=(128, 32, 32, 10),\n",
      "              learning_rate='adaptive', max_iter=10)\n"
     ]
    },
    {
     "name": "stderr",
     "output_type": "stream",
     "text": [
      "/Library/Python/3.9/site-packages/sklearn/neural_network/_multilayer_perceptron.py:686: ConvergenceWarning: Stochastic Optimizer: Maximum iterations (10) reached and the optimization hasn't converged yet.\n",
      "  warnings.warn(\n"
     ]
    },
    {
     "name": "stdout",
     "output_type": "stream",
     "text": [
      "0.6894756829513701\n",
      "MLPClassifier(alpha=0.1, early_stopping=True,\n",
      "              hidden_layer_sizes=(32, 64, 128, 32), learning_rate_init=0.01,\n",
      "              max_iter=10)\n"
     ]
    },
    {
     "name": "stderr",
     "output_type": "stream",
     "text": [
      "/Library/Python/3.9/site-packages/sklearn/neural_network/_multilayer_perceptron.py:686: ConvergenceWarning: Stochastic Optimizer: Maximum iterations (10) reached and the optimization hasn't converged yet.\n",
      "  warnings.warn(\n"
     ]
    },
    {
     "name": "stdout",
     "output_type": "stream",
     "text": [
      "0.73709344278253\n",
      "MLPClassifier(alpha=0.1, early_stopping=True,\n",
      "              hidden_layer_sizes=(32, 128, 128, 10), learning_rate='adaptive',\n",
      "              max_iter=10)\n"
     ]
    },
    {
     "name": "stderr",
     "output_type": "stream",
     "text": [
      "/Library/Python/3.9/site-packages/sklearn/neural_network/_multilayer_perceptron.py:686: ConvergenceWarning: Stochastic Optimizer: Maximum iterations (10) reached and the optimization hasn't converged yet.\n",
      "  warnings.warn(\n"
     ]
    },
    {
     "name": "stdout",
     "output_type": "stream",
     "text": [
      "0.7318448467434282\n",
      "MLPClassifier(early_stopping=True, hidden_layer_sizes=(5, 100, 100),\n",
      "              max_iter=10)\n"
     ]
    },
    {
     "name": "stderr",
     "output_type": "stream",
     "text": [
      "/Library/Python/3.9/site-packages/sklearn/neural_network/_multilayer_perceptron.py:686: ConvergenceWarning: Stochastic Optimizer: Maximum iterations (10) reached and the optimization hasn't converged yet.\n",
      "  warnings.warn(\n"
     ]
    },
    {
     "name": "stdout",
     "output_type": "stream",
     "text": [
      "0.7436828930465698\n",
      "MLPClassifier(hidden_layer_sizes=(10,), max_iter=50)\n"
     ]
    },
    {
     "name": "stderr",
     "output_type": "stream",
     "text": [
      "/Library/Python/3.9/site-packages/sklearn/neural_network/_multilayer_perceptron.py:686: ConvergenceWarning: Stochastic Optimizer: Maximum iterations (50) reached and the optimization hasn't converged yet.\n",
      "  warnings.warn(\n"
     ]
    },
    {
     "name": "stdout",
     "output_type": "stream",
     "text": [
      "0.7499904130737515\n",
      "MLPClassifier(hidden_layer_sizes=(10,), max_iter=50)\n"
     ]
    },
    {
     "name": "stderr",
     "output_type": "stream",
     "text": [
      "/Library/Python/3.9/site-packages/sklearn/neural_network/_multilayer_perceptron.py:686: ConvergenceWarning: Stochastic Optimizer: Maximum iterations (50) reached and the optimization hasn't converged yet.\n",
      "  warnings.warn(\n"
     ]
    },
    {
     "name": "stdout",
     "output_type": "stream",
     "text": [
      "0.7506819798187183\n",
      "MLPClassifier(hidden_layer_sizes=(5, 5), max_iter=50)\n"
     ]
    },
    {
     "name": "stderr",
     "output_type": "stream",
     "text": [
      "/Library/Python/3.9/site-packages/sklearn/neural_network/_multilayer_perceptron.py:686: ConvergenceWarning: Stochastic Optimizer: Maximum iterations (50) reached and the optimization hasn't converged yet.\n",
      "  warnings.warn(\n"
     ]
    },
    {
     "name": "stdout",
     "output_type": "stream",
     "text": [
      "0.7481752722117245\n",
      "MLPClassifier(hidden_layer_sizes=(10, 10, 1), max_iter=50)\n"
     ]
    },
    {
     "name": "stderr",
     "output_type": "stream",
     "text": [
      "/Library/Python/3.9/site-packages/sklearn/neural_network/_multilayer_perceptron.py:686: ConvergenceWarning: Stochastic Optimizer: Maximum iterations (50) reached and the optimization hasn't converged yet.\n",
      "  warnings.warn(\n"
     ]
    },
    {
     "name": "stdout",
     "output_type": "stream",
     "text": [
      "0.7430826886488324\n",
      "MLPClassifier(alpha=0.1, early_stopping=True, hidden_layer_sizes=(5, 100, 100),\n",
      "              max_iter=30)\n"
     ]
    },
    {
     "name": "stderr",
     "output_type": "stream",
     "text": [
      "/Library/Python/3.9/site-packages/sklearn/neural_network/_multilayer_perceptron.py:686: ConvergenceWarning: Stochastic Optimizer: Maximum iterations (30) reached and the optimization hasn't converged yet.\n",
      "  warnings.warn(\n"
     ]
    },
    {
     "name": "stdout",
     "output_type": "stream",
     "text": [
      "0.7448442935363728\n",
      "MLPClassifier(max_iter=50)\n"
     ]
    },
    {
     "name": "stderr",
     "output_type": "stream",
     "text": [
      "/Library/Python/3.9/site-packages/sklearn/neural_network/_multilayer_perceptron.py:686: ConvergenceWarning: Stochastic Optimizer: Maximum iterations (50) reached and the optimization hasn't converged yet.\n",
      "  warnings.warn(\n"
     ]
    },
    {
     "name": "stdout",
     "output_type": "stream",
     "text": [
      "0.704966384718299\n",
      "MLPClassifier(early_stopping=True, hidden_layer_sizes=(10, 32), max_iter=50)\n",
      "0.7426697172986844\n",
      "MLPClassifier(hidden_layer_sizes=(5, 100), max_iter=50)\n"
     ]
    },
    {
     "name": "stderr",
     "output_type": "stream",
     "text": [
      "/Library/Python/3.9/site-packages/sklearn/neural_network/_multilayer_perceptron.py:686: ConvergenceWarning: Stochastic Optimizer: Maximum iterations (50) reached and the optimization hasn't converged yet.\n",
      "  warnings.warn(\n"
     ]
    },
    {
     "name": "stdout",
     "output_type": "stream",
     "text": [
      "0.753580423627406\n",
      "MLPClassifier(hidden_layer_sizes=(10,), learning_rate='adaptive', max_iter=50)\n"
     ]
    },
    {
     "name": "stderr",
     "output_type": "stream",
     "text": [
      "/Library/Python/3.9/site-packages/sklearn/neural_network/_multilayer_perceptron.py:686: ConvergenceWarning: Stochastic Optimizer: Maximum iterations (50) reached and the optimization hasn't converged yet.\n",
      "  warnings.warn(\n"
     ]
    },
    {
     "name": "stdout",
     "output_type": "stream",
     "text": [
      "0.7476429324143604\n",
      "MLPClassifier(hidden_layer_sizes=(30,), max_iter=50)\n"
     ]
    },
    {
     "name": "stderr",
     "output_type": "stream",
     "text": [
      "/Library/Python/3.9/site-packages/sklearn/neural_network/_multilayer_perceptron.py:686: ConvergenceWarning: Stochastic Optimizer: Maximum iterations (50) reached and the optimization hasn't converged yet.\n",
      "  warnings.warn(\n"
     ]
    },
    {
     "name": "stdout",
     "output_type": "stream",
     "text": [
      "0.737448845536146\n",
      "MLPClassifier(hidden_layer_sizes=(10,), max_iter=50)\n"
     ]
    },
    {
     "name": "stderr",
     "output_type": "stream",
     "text": [
      "/Library/Python/3.9/site-packages/sklearn/neural_network/_multilayer_perceptron.py:686: ConvergenceWarning: Stochastic Optimizer: Maximum iterations (50) reached and the optimization hasn't converged yet.\n",
      "  warnings.warn(\n"
     ]
    },
    {
     "name": "stdout",
     "output_type": "stream",
     "text": [
      "0.7480119976470982\n",
      "MLPClassifier(early_stopping=True, hidden_layer_sizes=(32, 128, 128, 16),\n",
      "              learning_rate='adaptive', max_iter=50)\n"
     ]
    },
    {
     "name": "stderr",
     "output_type": "stream",
     "text": [
      "/Library/Python/3.9/site-packages/sklearn/neural_network/_multilayer_perceptron.py:686: ConvergenceWarning: Stochastic Optimizer: Maximum iterations (50) reached and the optimization hasn't converged yet.\n",
      "  warnings.warn(\n"
     ]
    },
    {
     "name": "stdout",
     "output_type": "stream",
     "text": [
      "0.6649683242221682\n",
      "MLPClassifier(hidden_layer_sizes=(8,), max_iter=50)\n"
     ]
    },
    {
     "name": "stderr",
     "output_type": "stream",
     "text": [
      "/Library/Python/3.9/site-packages/sklearn/neural_network/_multilayer_perceptron.py:686: ConvergenceWarning: Stochastic Optimizer: Maximum iterations (50) reached and the optimization hasn't converged yet.\n",
      "  warnings.warn(\n"
     ]
    },
    {
     "name": "stdout",
     "output_type": "stream",
     "text": [
      "0.747415262635381\n",
      "MLPClassifier(hidden_layer_sizes=(32,), max_iter=50)\n"
     ]
    },
    {
     "name": "stderr",
     "output_type": "stream",
     "text": [
      "/Library/Python/3.9/site-packages/sklearn/neural_network/_multilayer_perceptron.py:686: ConvergenceWarning: Stochastic Optimizer: Maximum iterations (50) reached and the optimization hasn't converged yet.\n",
      "  warnings.warn(\n"
     ]
    },
    {
     "name": "stdout",
     "output_type": "stream",
     "text": [
      "0.7392209557409886\n",
      "MLPClassifier(hidden_layer_sizes=(80,), max_iter=30)\n"
     ]
    },
    {
     "name": "stderr",
     "output_type": "stream",
     "text": [
      "/Library/Python/3.9/site-packages/sklearn/neural_network/_multilayer_perceptron.py:686: ConvergenceWarning: Stochastic Optimizer: Maximum iterations (30) reached and the optimization hasn't converged yet.\n",
      "  warnings.warn(\n"
     ]
    },
    {
     "name": "stdout",
     "output_type": "stream",
     "text": [
      "0.7227328858088019\n",
      "MLPClassifier(hidden_layer_sizes=(10,), max_iter=50)\n"
     ]
    },
    {
     "name": "stderr",
     "output_type": "stream",
     "text": [
      "/Library/Python/3.9/site-packages/sklearn/neural_network/_multilayer_perceptron.py:686: ConvergenceWarning: Stochastic Optimizer: Maximum iterations (50) reached and the optimization hasn't converged yet.\n",
      "  warnings.warn(\n"
     ]
    },
    {
     "name": "stdout",
     "output_type": "stream",
     "text": [
      "0.7465773859866538\n",
      "MLPClassifier(alpha=0.1, early_stopping=True, hidden_layer_sizes=(128, 16, 16),\n",
      "              learning_rate='adaptive', max_iter=30)\n"
     ]
    },
    {
     "name": "stderr",
     "output_type": "stream",
     "text": [
      "/Library/Python/3.9/site-packages/sklearn/neural_network/_multilayer_perceptron.py:686: ConvergenceWarning: Stochastic Optimizer: Maximum iterations (30) reached and the optimization hasn't converged yet.\n",
      "  warnings.warn(\n"
     ]
    },
    {
     "name": "stdout",
     "output_type": "stream",
     "text": [
      "0.7001419136226852\n",
      "MLPClassifier(hidden_layer_sizes=(10,), max_iter=50)\n"
     ]
    },
    {
     "name": "stderr",
     "output_type": "stream",
     "text": [
      "/Library/Python/3.9/site-packages/sklearn/neural_network/_multilayer_perceptron.py:686: ConvergenceWarning: Stochastic Optimizer: Maximum iterations (50) reached and the optimization hasn't converged yet.\n",
      "  warnings.warn(\n"
     ]
    },
    {
     "name": "stdout",
     "output_type": "stream",
     "text": [
      "0.7521395426282569\n",
      "MLPClassifier(early_stopping=True, hidden_layer_sizes=(500,),\n",
      "              learning_rate='adaptive', max_iter=50)\n"
     ]
    },
    {
     "name": "stderr",
     "output_type": "stream",
     "text": [
      "/Library/Python/3.9/site-packages/sklearn/neural_network/_multilayer_perceptron.py:686: ConvergenceWarning: Stochastic Optimizer: Maximum iterations (50) reached and the optimization hasn't converged yet.\n",
      "  warnings.warn(\n"
     ]
    },
    {
     "name": "stdout",
     "output_type": "stream",
     "text": [
      "0.664420896601124\n",
      "MLPClassifier(early_stopping=True, hidden_layer_sizes=(10, 128, 128),\n",
      "              learning_rate='adaptive', max_iter=50)\n"
     ]
    },
    {
     "name": "stderr",
     "output_type": "stream",
     "text": [
      "/Library/Python/3.9/site-packages/sklearn/neural_network/_multilayer_perceptron.py:686: ConvergenceWarning: Stochastic Optimizer: Maximum iterations (50) reached and the optimization hasn't converged yet.\n",
      "  warnings.warn(\n"
     ]
    },
    {
     "name": "stdout",
     "output_type": "stream",
     "text": [
      "0.6934223677506159\n",
      "MLPClassifier(hidden_layer_sizes=(10, 30), learning_rate='adaptive',\n",
      "              max_iter=50)\n"
     ]
    },
    {
     "name": "stderr",
     "output_type": "stream",
     "text": [
      "/Library/Python/3.9/site-packages/sklearn/neural_network/_multilayer_perceptron.py:686: ConvergenceWarning: Stochastic Optimizer: Maximum iterations (50) reached and the optimization hasn't converged yet.\n",
      "  warnings.warn(\n"
     ]
    },
    {
     "name": "stdout",
     "output_type": "stream",
     "text": [
      "0.7385701363083274\n",
      "MLPClassifier(hidden_layer_sizes=(10, 32), max_iter=50)\n"
     ]
    },
    {
     "name": "stderr",
     "output_type": "stream",
     "text": [
      "/Library/Python/3.9/site-packages/sklearn/neural_network/_multilayer_perceptron.py:686: ConvergenceWarning: Stochastic Optimizer: Maximum iterations (50) reached and the optimization hasn't converged yet.\n",
      "  warnings.warn(\n"
     ]
    },
    {
     "name": "stdout",
     "output_type": "stream",
     "text": [
      "0.7418211572416141\n",
      "MLPClassifier(hidden_layer_sizes=(5, 32), learning_rate='adaptive', max_iter=50)\n"
     ]
    },
    {
     "name": "stderr",
     "output_type": "stream",
     "text": [
      "/Library/Python/3.9/site-packages/sklearn/neural_network/_multilayer_perceptron.py:686: ConvergenceWarning: Stochastic Optimizer: Maximum iterations (50) reached and the optimization hasn't converged yet.\n",
      "  warnings.warn(\n"
     ]
    },
    {
     "name": "stdout",
     "output_type": "stream",
     "text": [
      "0.7502631185233517\n",
      "MLPClassifier(hidden_layer_sizes=(32,), max_iter=50)\n"
     ]
    },
    {
     "name": "stderr",
     "output_type": "stream",
     "text": [
      "/Library/Python/3.9/site-packages/sklearn/neural_network/_multilayer_perceptron.py:686: ConvergenceWarning: Stochastic Optimizer: Maximum iterations (50) reached and the optimization hasn't converged yet.\n",
      "  warnings.warn(\n"
     ]
    },
    {
     "name": "stdout",
     "output_type": "stream",
     "text": [
      "0.7351158344143536\n",
      "MLPClassifier(early_stopping=True, hidden_layer_sizes=(5, 32, 32),\n",
      "              learning_rate='adaptive', max_iter=50)\n",
      "0.7508295916152317\n",
      "MLPClassifier(early_stopping=True, hidden_layer_sizes=(32, 32, 10),\n",
      "              learning_rate='adaptive', max_iter=50)\n",
      "0.7124109422987344\n",
      "MLPClassifier(early_stopping=True, hidden_layer_sizes=(32, 64),\n",
      "              learning_rate='adaptive', max_iter=50)\n"
     ]
    },
    {
     "name": "stderr",
     "output_type": "stream",
     "text": [
      "/Library/Python/3.9/site-packages/sklearn/neural_network/_multilayer_perceptron.py:686: ConvergenceWarning: Stochastic Optimizer: Maximum iterations (50) reached and the optimization hasn't converged yet.\n",
      "  warnings.warn(\n"
     ]
    },
    {
     "name": "stdout",
     "output_type": "stream",
     "text": [
      "0.7047492426463835\n",
      "MLPClassifier(hidden_layer_sizes=(32, 16), max_iter=50)\n"
     ]
    },
    {
     "name": "stderr",
     "output_type": "stream",
     "text": [
      "/Library/Python/3.9/site-packages/sklearn/neural_network/_multilayer_perceptron.py:686: ConvergenceWarning: Stochastic Optimizer: Maximum iterations (50) reached and the optimization hasn't converged yet.\n",
      "  warnings.warn(\n"
     ]
    },
    {
     "name": "stdout",
     "output_type": "stream",
     "text": [
      "0.7242298258415545\n",
      "MLPClassifier(hidden_layer_sizes=(16, 32), learning_rate='adaptive',\n",
      "              max_iter=30)\n"
     ]
    },
    {
     "name": "stderr",
     "output_type": "stream",
     "text": [
      "/Library/Python/3.9/site-packages/sklearn/neural_network/_multilayer_perceptron.py:686: ConvergenceWarning: Stochastic Optimizer: Maximum iterations (30) reached and the optimization hasn't converged yet.\n",
      "  warnings.warn(\n"
     ]
    },
    {
     "name": "stdout",
     "output_type": "stream",
     "text": [
      "0.7348512839733021\n",
      "MLPClassifier(hidden_layer_sizes=(32, 32), max_iter=50)\n"
     ]
    },
    {
     "name": "stderr",
     "output_type": "stream",
     "text": [
      "/Library/Python/3.9/site-packages/sklearn/neural_network/_multilayer_perceptron.py:686: ConvergenceWarning: Stochastic Optimizer: Maximum iterations (50) reached and the optimization hasn't converged yet.\n",
      "  warnings.warn(\n"
     ]
    },
    {
     "name": "stdout",
     "output_type": "stream",
     "text": [
      "0.7128956863924423\n",
      "MLPClassifier(hidden_layer_sizes=(64,), learning_rate='adaptive', max_iter=30)\n"
     ]
    },
    {
     "name": "stderr",
     "output_type": "stream",
     "text": [
      "/Library/Python/3.9/site-packages/sklearn/neural_network/_multilayer_perceptron.py:686: ConvergenceWarning: Stochastic Optimizer: Maximum iterations (30) reached and the optimization hasn't converged yet.\n",
      "  warnings.warn(\n"
     ]
    },
    {
     "name": "stdout",
     "output_type": "stream",
     "text": [
      "0.7249236730556508\n",
      "MLPClassifier(hidden_layer_sizes=(64, 5), max_iter=50)\n"
     ]
    },
    {
     "name": "stderr",
     "output_type": "stream",
     "text": [
      "/Library/Python/3.9/site-packages/sklearn/neural_network/_multilayer_perceptron.py:686: ConvergenceWarning: Stochastic Optimizer: Maximum iterations (50) reached and the optimization hasn't converged yet.\n",
      "  warnings.warn(\n"
     ]
    },
    {
     "name": "stdout",
     "output_type": "stream",
     "text": [
      "0.7161215371252923\n",
      "MLPClassifier(early_stopping=True, hidden_layer_sizes=(64, 10),\n",
      "              learning_rate='adaptive', max_iter=50)\n",
      "0.7085850307501973\n",
      "MLPClassifier(hidden_layer_sizes=(32,), max_iter=50)\n"
     ]
    },
    {
     "name": "stderr",
     "output_type": "stream",
     "text": [
      "/Library/Python/3.9/site-packages/sklearn/neural_network/_multilayer_perceptron.py:686: ConvergenceWarning: Stochastic Optimizer: Maximum iterations (50) reached and the optimization hasn't converged yet.\n",
      "  warnings.warn(\n"
     ]
    },
    {
     "name": "stdout",
     "output_type": "stream",
     "text": [
      "0.7358769351321144\n",
      "MLPClassifier(alpha=0.1, early_stopping=True, hidden_layer_sizes=(64, 16, 16),\n",
      "              learning_rate='adaptive', max_iter=30)\n"
     ]
    },
    {
     "name": "stderr",
     "output_type": "stream",
     "text": [
      "/Library/Python/3.9/site-packages/sklearn/neural_network/_multilayer_perceptron.py:686: ConvergenceWarning: Stochastic Optimizer: Maximum iterations (30) reached and the optimization hasn't converged yet.\n",
      "  warnings.warn(\n"
     ]
    },
    {
     "name": "stdout",
     "output_type": "stream",
     "text": [
      "0.7165956635420676\n",
      "MLPClassifier(hidden_layer_sizes=(32,), max_iter=50)\n"
     ]
    },
    {
     "name": "stderr",
     "output_type": "stream",
     "text": [
      "/Library/Python/3.9/site-packages/sklearn/neural_network/_multilayer_perceptron.py:686: ConvergenceWarning: Stochastic Optimizer: Maximum iterations (50) reached and the optimization hasn't converged yet.\n",
      "  warnings.warn(\n"
     ]
    },
    {
     "name": "stdout",
     "output_type": "stream",
     "text": [
      "0.7388780123762682\n",
      "MLPClassifier(hidden_layer_sizes=(8, 8, 8), max_iter=50)\n"
     ]
    },
    {
     "name": "stderr",
     "output_type": "stream",
     "text": [
      "/Library/Python/3.9/site-packages/sklearn/neural_network/_multilayer_perceptron.py:686: ConvergenceWarning: Stochastic Optimizer: Maximum iterations (50) reached and the optimization hasn't converged yet.\n",
      "  warnings.warn(\n"
     ]
    },
    {
     "name": "stdout",
     "output_type": "stream",
     "text": [
      "0.7424937469174946\n",
      "MLPClassifier(hidden_layer_sizes=(8, 16), max_iter=50)\n"
     ]
    },
    {
     "name": "stderr",
     "output_type": "stream",
     "text": [
      "/Library/Python/3.9/site-packages/sklearn/neural_network/_multilayer_perceptron.py:686: ConvergenceWarning: Stochastic Optimizer: Maximum iterations (50) reached and the optimization hasn't converged yet.\n",
      "  warnings.warn(\n"
     ]
    },
    {
     "name": "stdout",
     "output_type": "stream",
     "text": [
      "0.7496981987468705\n",
      "MLPClassifier(hidden_layer_sizes=(10, 8), max_iter=50)\n"
     ]
    },
    {
     "name": "stderr",
     "output_type": "stream",
     "text": [
      "/Library/Python/3.9/site-packages/sklearn/neural_network/_multilayer_perceptron.py:686: ConvergenceWarning: Stochastic Optimizer: Maximum iterations (50) reached and the optimization hasn't converged yet.\n",
      "  warnings.warn(\n"
     ]
    },
    {
     "name": "stdout",
     "output_type": "stream",
     "text": [
      "0.7464785966062488\n",
      "MLPClassifier(hidden_layer_sizes=(8, 32, 32, 8), max_iter=50)\n"
     ]
    },
    {
     "name": "stderr",
     "output_type": "stream",
     "text": [
      "/Library/Python/3.9/site-packages/sklearn/neural_network/_multilayer_perceptron.py:686: ConvergenceWarning: Stochastic Optimizer: Maximum iterations (50) reached and the optimization hasn't converged yet.\n",
      "  warnings.warn(\n"
     ]
    },
    {
     "name": "stdout",
     "output_type": "stream",
     "text": [
      "0.7310103762142384\n",
      "MLPClassifier(hidden_layer_sizes=(64, 8, 8), max_iter=50)\n"
     ]
    },
    {
     "name": "stderr",
     "output_type": "stream",
     "text": [
      "/Library/Python/3.9/site-packages/sklearn/neural_network/_multilayer_perceptron.py:686: ConvergenceWarning: Stochastic Optimizer: Maximum iterations (50) reached and the optimization hasn't converged yet.\n",
      "  warnings.warn(\n"
     ]
    },
    {
     "name": "stdout",
     "output_type": "stream",
     "text": [
      "0.7091833780301723\n",
      "MLPClassifier(hidden_layer_sizes=(10,), max_iter=50)\n"
     ]
    },
    {
     "name": "stderr",
     "output_type": "stream",
     "text": [
      "/Library/Python/3.9/site-packages/sklearn/neural_network/_multilayer_perceptron.py:686: ConvergenceWarning: Stochastic Optimizer: Maximum iterations (50) reached and the optimization hasn't converged yet.\n",
      "  warnings.warn(\n"
     ]
    },
    {
     "name": "stdout",
     "output_type": "stream",
     "text": [
      "0.7385474304195592\n",
      "MLPClassifier(hidden_layer_sizes=(128,), max_iter=50)\n"
     ]
    },
    {
     "name": "stderr",
     "output_type": "stream",
     "text": [
      "/Library/Python/3.9/site-packages/sklearn/neural_network/_multilayer_perceptron.py:686: ConvergenceWarning: Stochastic Optimizer: Maximum iterations (50) reached and the optimization hasn't converged yet.\n",
      "  warnings.warn(\n"
     ]
    },
    {
     "name": "stdout",
     "output_type": "stream",
     "text": [
      "0.6998817856731091\n",
      "MLPClassifier(early_stopping=True, hidden_layer_sizes=(16, 16, 128),\n",
      "              learning_rate='adaptive', max_iter=50)\n"
     ]
    },
    {
     "name": "stderr",
     "output_type": "stream",
     "text": [
      "/Library/Python/3.9/site-packages/sklearn/neural_network/_multilayer_perceptron.py:686: ConvergenceWarning: Stochastic Optimizer: Maximum iterations (50) reached and the optimization hasn't converged yet.\n",
      "  warnings.warn(\n"
     ]
    },
    {
     "name": "stdout",
     "output_type": "stream",
     "text": [
      "0.7189105837363541\n",
      "MLPClassifier(hidden_layer_sizes=(10,), max_iter=50)\n"
     ]
    },
    {
     "name": "stderr",
     "output_type": "stream",
     "text": [
      "/Library/Python/3.9/site-packages/sklearn/neural_network/_multilayer_perceptron.py:686: ConvergenceWarning: Stochastic Optimizer: Maximum iterations (50) reached and the optimization hasn't converged yet.\n",
      "  warnings.warn(\n"
     ]
    },
    {
     "name": "stdout",
     "output_type": "stream",
     "text": [
      "0.7509239827426191\n",
      "MLPClassifier(hidden_layer_sizes=(10,), max_iter=50)\n"
     ]
    },
    {
     "name": "stderr",
     "output_type": "stream",
     "text": [
      "/Library/Python/3.9/site-packages/sklearn/neural_network/_multilayer_perceptron.py:686: ConvergenceWarning: Stochastic Optimizer: Maximum iterations (50) reached and the optimization hasn't converged yet.\n",
      "  warnings.warn(\n"
     ]
    },
    {
     "name": "stdout",
     "output_type": "stream",
     "text": [
      "0.7460127671367871\n",
      "MLPClassifier(hidden_layer_sizes=(10,), max_iter=50)\n"
     ]
    },
    {
     "name": "stderr",
     "output_type": "stream",
     "text": [
      "/Library/Python/3.9/site-packages/sklearn/neural_network/_multilayer_perceptron.py:686: ConvergenceWarning: Stochastic Optimizer: Maximum iterations (50) reached and the optimization hasn't converged yet.\n",
      "  warnings.warn(\n"
     ]
    },
    {
     "name": "stdout",
     "output_type": "stream",
     "text": [
      "0.7527199020968761\n",
      "MLPClassifier(hidden_layer_sizes=(10,), max_iter=50)\n"
     ]
    },
    {
     "name": "stderr",
     "output_type": "stream",
     "text": [
      "/Library/Python/3.9/site-packages/sklearn/neural_network/_multilayer_perceptron.py:686: ConvergenceWarning: Stochastic Optimizer: Maximum iterations (50) reached and the optimization hasn't converged yet.\n",
      "  warnings.warn(\n"
     ]
    },
    {
     "name": "stdout",
     "output_type": "stream",
     "text": [
      "0.7539626694458608\n",
      "MLPClassifier(alpha=0.1, early_stopping=True,\n",
      "              hidden_layer_sizes=(10, 64, 64, 64, 16), max_iter=30)\n"
     ]
    },
    {
     "name": "stderr",
     "output_type": "stream",
     "text": [
      "/Library/Python/3.9/site-packages/sklearn/neural_network/_multilayer_perceptron.py:686: ConvergenceWarning: Stochastic Optimizer: Maximum iterations (30) reached and the optimization hasn't converged yet.\n",
      "  warnings.warn(\n"
     ]
    },
    {
     "name": "stdout",
     "output_type": "stream",
     "text": [
      "0.7454507485804451\n",
      "MLPClassifier(hidden_layer_sizes=(10,), learning_rate='adaptive', max_iter=50)\n"
     ]
    },
    {
     "name": "stderr",
     "output_type": "stream",
     "text": [
      "/Library/Python/3.9/site-packages/sklearn/neural_network/_multilayer_perceptron.py:686: ConvergenceWarning: Stochastic Optimizer: Maximum iterations (50) reached and the optimization hasn't converged yet.\n",
      "  warnings.warn(\n"
     ]
    },
    {
     "name": "stdout",
     "output_type": "stream",
     "text": [
      "0.748156662006074\n",
      "MLPClassifier(hidden_layer_sizes=(10,), max_iter=50)\n"
     ]
    },
    {
     "name": "stderr",
     "output_type": "stream",
     "text": [
      "/Library/Python/3.9/site-packages/sklearn/neural_network/_multilayer_perceptron.py:686: ConvergenceWarning: Stochastic Optimizer: Maximum iterations (50) reached and the optimization hasn't converged yet.\n",
      "  warnings.warn(\n"
     ]
    },
    {
     "name": "stdout",
     "output_type": "stream",
     "text": [
      "0.7473117488098331\n",
      "MLPClassifier(hidden_layer_sizes=(128,), max_iter=50)\n"
     ]
    },
    {
     "name": "stderr",
     "output_type": "stream",
     "text": [
      "/Library/Python/3.9/site-packages/sklearn/neural_network/_multilayer_perceptron.py:686: ConvergenceWarning: Stochastic Optimizer: Maximum iterations (50) reached and the optimization hasn't converged yet.\n",
      "  warnings.warn(\n"
     ]
    },
    {
     "name": "stdout",
     "output_type": "stream",
     "text": [
      "0.7026371145354171\n",
      "MLPClassifier(hidden_layer_sizes=(10, 32, 10), max_iter=50)\n"
     ]
    },
    {
     "name": "stderr",
     "output_type": "stream",
     "text": [
      "/Library/Python/3.9/site-packages/sklearn/neural_network/_multilayer_perceptron.py:686: ConvergenceWarning: Stochastic Optimizer: Maximum iterations (50) reached and the optimization hasn't converged yet.\n",
      "  warnings.warn(\n"
     ]
    },
    {
     "name": "stdout",
     "output_type": "stream",
     "text": [
      "0.7388732057668619\n",
      "MLPClassifier(hidden_layer_sizes=(10, 20, 10), max_iter=50)\n"
     ]
    },
    {
     "name": "stderr",
     "output_type": "stream",
     "text": [
      "/Library/Python/3.9/site-packages/sklearn/neural_network/_multilayer_perceptron.py:686: ConvergenceWarning: Stochastic Optimizer: Maximum iterations (50) reached and the optimization hasn't converged yet.\n",
      "  warnings.warn(\n"
     ]
    },
    {
     "name": "stdout",
     "output_type": "stream",
     "text": [
      "0.7428680207482974\n",
      "MLPClassifier(hidden_layer_sizes=(128, 10), max_iter=50)\n"
     ]
    },
    {
     "name": "stderr",
     "output_type": "stream",
     "text": [
      "/Library/Python/3.9/site-packages/sklearn/neural_network/_multilayer_perceptron.py:686: ConvergenceWarning: Stochastic Optimizer: Maximum iterations (50) reached and the optimization hasn't converged yet.\n",
      "  warnings.warn(\n"
     ]
    },
    {
     "name": "stdout",
     "output_type": "stream",
     "text": [
      "0.6785049835641155\n",
      "MLPClassifier(hidden_layer_sizes=(64, 10), max_iter=50)\n"
     ]
    },
    {
     "name": "stderr",
     "output_type": "stream",
     "text": [
      "/Library/Python/3.9/site-packages/sklearn/neural_network/_multilayer_perceptron.py:686: ConvergenceWarning: Stochastic Optimizer: Maximum iterations (50) reached and the optimization hasn't converged yet.\n",
      "  warnings.warn(\n"
     ]
    },
    {
     "name": "stdout",
     "output_type": "stream",
     "text": [
      "0.716811016692559\n",
      "MLPClassifier(early_stopping=True, hidden_layer_sizes=(128,),\n",
      "              learning_rate='adaptive', max_iter=50)\n"
     ]
    },
    {
     "name": "stderr",
     "output_type": "stream",
     "text": [
      "/Library/Python/3.9/site-packages/sklearn/neural_network/_multilayer_perceptron.py:686: ConvergenceWarning: Stochastic Optimizer: Maximum iterations (50) reached and the optimization hasn't converged yet.\n",
      "  warnings.warn(\n"
     ]
    },
    {
     "name": "stdout",
     "output_type": "stream",
     "text": [
      "0.7056094149787939\n",
      "MLPClassifier(early_stopping=True, hidden_layer_sizes=(100, 10), max_iter=30)\n"
     ]
    },
    {
     "name": "stderr",
     "output_type": "stream",
     "text": [
      "/Library/Python/3.9/site-packages/sklearn/neural_network/_multilayer_perceptron.py:686: ConvergenceWarning: Stochastic Optimizer: Maximum iterations (30) reached and the optimization hasn't converged yet.\n",
      "  warnings.warn(\n"
     ]
    },
    {
     "name": "stdout",
     "output_type": "stream",
     "text": [
      "0.6980808037677653\n",
      "MLPClassifier(hidden_layer_sizes=(10,), max_iter=50)\n"
     ]
    },
    {
     "name": "stderr",
     "output_type": "stream",
     "text": [
      "/Library/Python/3.9/site-packages/sklearn/neural_network/_multilayer_perceptron.py:686: ConvergenceWarning: Stochastic Optimizer: Maximum iterations (50) reached and the optimization hasn't converged yet.\n",
      "  warnings.warn(\n"
     ]
    },
    {
     "name": "stdout",
     "output_type": "stream",
     "text": [
      "0.7485152387651837\n",
      "MLPClassifier(hidden_layer_sizes=(10,), max_iter=50)\n"
     ]
    },
    {
     "name": "stderr",
     "output_type": "stream",
     "text": [
      "/Library/Python/3.9/site-packages/sklearn/neural_network/_multilayer_perceptron.py:686: ConvergenceWarning: Stochastic Optimizer: Maximum iterations (50) reached and the optimization hasn't converged yet.\n",
      "  warnings.warn(\n"
     ]
    },
    {
     "name": "stdout",
     "output_type": "stream",
     "text": [
      "0.7491571491267692\n",
      "MLPClassifier(hidden_layer_sizes=(10,), max_iter=50)\n"
     ]
    },
    {
     "name": "stderr",
     "output_type": "stream",
     "text": [
      "/Library/Python/3.9/site-packages/sklearn/neural_network/_multilayer_perceptron.py:686: ConvergenceWarning: Stochastic Optimizer: Maximum iterations (50) reached and the optimization hasn't converged yet.\n",
      "  warnings.warn(\n"
     ]
    },
    {
     "name": "stdout",
     "output_type": "stream",
     "text": [
      "0.7476032532374786\n",
      "MLPClassifier(hidden_layer_sizes=(10, 10), learning_rate='adaptive',\n",
      "              max_iter=50)\n"
     ]
    },
    {
     "name": "stderr",
     "output_type": "stream",
     "text": [
      "/Library/Python/3.9/site-packages/sklearn/neural_network/_multilayer_perceptron.py:686: ConvergenceWarning: Stochastic Optimizer: Maximum iterations (50) reached and the optimization hasn't converged yet.\n",
      "  warnings.warn(\n"
     ]
    },
    {
     "name": "stdout",
     "output_type": "stream",
     "text": [
      "0.7447723238039916\n",
      "MLPClassifier(hidden_layer_sizes=(10,), max_iter=50)\n"
     ]
    },
    {
     "name": "stderr",
     "output_type": "stream",
     "text": [
      "/Library/Python/3.9/site-packages/sklearn/neural_network/_multilayer_perceptron.py:686: ConvergenceWarning: Stochastic Optimizer: Maximum iterations (50) reached and the optimization hasn't converged yet.\n",
      "  warnings.warn(\n"
     ]
    },
    {
     "name": "stdout",
     "output_type": "stream",
     "text": [
      "0.75213706332161\n",
      "MLPClassifier(alpha=0.1, early_stopping=True, hidden_layer_sizes=(128, 32, 32),\n",
      "              learning_rate='adaptive', max_iter=50)\n"
     ]
    },
    {
     "name": "stderr",
     "output_type": "stream",
     "text": [
      "/Library/Python/3.9/site-packages/sklearn/neural_network/_multilayer_perceptron.py:686: ConvergenceWarning: Stochastic Optimizer: Maximum iterations (50) reached and the optimization hasn't converged yet.\n",
      "  warnings.warn(\n"
     ]
    },
    {
     "name": "stdout",
     "output_type": "stream",
     "text": [
      "0.685945231628938\n",
      "MLPClassifier(hidden_layer_sizes=(10,), max_iter=50)\n"
     ]
    },
    {
     "name": "stderr",
     "output_type": "stream",
     "text": [
      "/Library/Python/3.9/site-packages/sklearn/neural_network/_multilayer_perceptron.py:686: ConvergenceWarning: Stochastic Optimizer: Maximum iterations (50) reached and the optimization hasn't converged yet.\n",
      "  warnings.warn(\n"
     ]
    },
    {
     "name": "stdout",
     "output_type": "stream",
     "text": [
      "0.7483018446161411\n",
      "MLPClassifier(alpha=0.1, hidden_layer_sizes=(32, 8), max_iter=50)\n"
     ]
    },
    {
     "name": "stderr",
     "output_type": "stream",
     "text": [
      "/Library/Python/3.9/site-packages/sklearn/neural_network/_multilayer_perceptron.py:686: ConvergenceWarning: Stochastic Optimizer: Maximum iterations (50) reached and the optimization hasn't converged yet.\n",
      "  warnings.warn(\n"
     ]
    },
    {
     "name": "stdout",
     "output_type": "stream",
     "text": [
      "0.735187878505393\n",
      "MLPClassifier(hidden_layer_sizes=(12, 12), max_iter=50)\n"
     ]
    },
    {
     "name": "stderr",
     "output_type": "stream",
     "text": [
      "/Library/Python/3.9/site-packages/sklearn/neural_network/_multilayer_perceptron.py:686: ConvergenceWarning: Stochastic Optimizer: Maximum iterations (50) reached and the optimization hasn't converged yet.\n",
      "  warnings.warn(\n"
     ]
    },
    {
     "name": "stdout",
     "output_type": "stream",
     "text": [
      "0.740836870037904\n",
      "MLPClassifier(hidden_layer_sizes=(4, 8, 8), max_iter=50)\n"
     ]
    },
    {
     "name": "stderr",
     "output_type": "stream",
     "text": [
      "/Library/Python/3.9/site-packages/sklearn/neural_network/_multilayer_perceptron.py:686: ConvergenceWarning: Stochastic Optimizer: Maximum iterations (50) reached and the optimization hasn't converged yet.\n",
      "  warnings.warn(\n"
     ]
    },
    {
     "name": "stdout",
     "output_type": "stream",
     "text": [
      "0.7506909969358004\n",
      "MLPClassifier(hidden_layer_sizes=(10, 8, 8), max_iter=50)\n"
     ]
    },
    {
     "name": "stderr",
     "output_type": "stream",
     "text": [
      "/Library/Python/3.9/site-packages/sklearn/neural_network/_multilayer_perceptron.py:686: ConvergenceWarning: Stochastic Optimizer: Maximum iterations (50) reached and the optimization hasn't converged yet.\n",
      "  warnings.warn(\n"
     ]
    },
    {
     "name": "stdout",
     "output_type": "stream",
     "text": [
      "0.7460945302331286\n",
      "MLPClassifier(early_stopping=True, hidden_layer_sizes=(8, 32, 32),\n",
      "              learning_rate='adaptive', max_iter=50)\n"
     ]
    },
    {
     "name": "stderr",
     "output_type": "stream",
     "text": [
      "/Library/Python/3.9/site-packages/sklearn/neural_network/_multilayer_perceptron.py:686: ConvergenceWarning: Stochastic Optimizer: Maximum iterations (50) reached and the optimization hasn't converged yet.\n",
      "  warnings.warn(\n"
     ]
    },
    {
     "name": "stdout",
     "output_type": "stream",
     "text": [
      "0.7317999895746696\n",
      "MLPClassifier(learning_rate='adaptive', max_iter=50)\n"
     ]
    },
    {
     "name": "stderr",
     "output_type": "stream",
     "text": [
      "/Library/Python/3.9/site-packages/sklearn/neural_network/_multilayer_perceptron.py:686: ConvergenceWarning: Stochastic Optimizer: Maximum iterations (50) reached and the optimization hasn't converged yet.\n",
      "  warnings.warn(\n"
     ]
    },
    {
     "name": "stdout",
     "output_type": "stream",
     "text": [
      "0.7099040921367437\n",
      "MLPClassifier(early_stopping=True, hidden_layer_sizes=(10, 32, 32, 10),\n",
      "              max_iter=50)\n"
     ]
    },
    {
     "name": "stderr",
     "output_type": "stream",
     "text": [
      "/Library/Python/3.9/site-packages/sklearn/neural_network/_multilayer_perceptron.py:686: ConvergenceWarning: Stochastic Optimizer: Maximum iterations (50) reached and the optimization hasn't converged yet.\n",
      "  warnings.warn(\n"
     ]
    },
    {
     "name": "stdout",
     "output_type": "stream",
     "text": [
      "0.7306966311529659\n",
      "MLPClassifier(early_stopping=True, hidden_layer_sizes=(8, 32, 32),\n",
      "              learning_rate='adaptive', max_iter=50)\n",
      "0.7313596700548739\n",
      "MLPClassifier(max_iter=50)\n"
     ]
    },
    {
     "name": "stderr",
     "output_type": "stream",
     "text": [
      "/Library/Python/3.9/site-packages/sklearn/neural_network/_multilayer_perceptron.py:686: ConvergenceWarning: Stochastic Optimizer: Maximum iterations (50) reached and the optimization hasn't converged yet.\n",
      "  warnings.warn(\n"
     ]
    },
    {
     "name": "stdout",
     "output_type": "stream",
     "text": [
      "0.7116222791680091\n",
      "MLPClassifier(hidden_layer_sizes=(256,), max_iter=50)\n"
     ]
    },
    {
     "name": "stderr",
     "output_type": "stream",
     "text": [
      "/Library/Python/3.9/site-packages/sklearn/neural_network/_multilayer_perceptron.py:686: ConvergenceWarning: Stochastic Optimizer: Maximum iterations (50) reached and the optimization hasn't converged yet.\n",
      "  warnings.warn(\n"
     ]
    },
    {
     "name": "stdout",
     "output_type": "stream",
     "text": [
      "0.676542465073726\n",
      "MLPClassifier(hidden_layer_sizes=(32, 32), max_iter=50)\n"
     ]
    },
    {
     "name": "stderr",
     "output_type": "stream",
     "text": [
      "/Library/Python/3.9/site-packages/sklearn/neural_network/_multilayer_perceptron.py:686: ConvergenceWarning: Stochastic Optimizer: Maximum iterations (50) reached and the optimization hasn't converged yet.\n",
      "  warnings.warn(\n"
     ]
    },
    {
     "name": "stdout",
     "output_type": "stream",
     "text": [
      "0.7083752473097082\n",
      "MLPClassifier(hidden_layer_sizes=(10, 32), max_iter=100)\n"
     ]
    },
    {
     "name": "stderr",
     "output_type": "stream",
     "text": [
      "/Library/Python/3.9/site-packages/sklearn/neural_network/_multilayer_perceptron.py:686: ConvergenceWarning: Stochastic Optimizer: Maximum iterations (100) reached and the optimization hasn't converged yet.\n",
      "  warnings.warn(\n"
     ]
    },
    {
     "name": "stdout",
     "output_type": "stream",
     "text": [
      "0.7370390878357487\n",
      "MLPClassifier(hidden_layer_sizes=(10,), max_iter=50)\n"
     ]
    },
    {
     "name": "stderr",
     "output_type": "stream",
     "text": [
      "/Library/Python/3.9/site-packages/sklearn/neural_network/_multilayer_perceptron.py:686: ConvergenceWarning: Stochastic Optimizer: Maximum iterations (50) reached and the optimization hasn't converged yet.\n",
      "  warnings.warn(\n"
     ]
    },
    {
     "name": "stdout",
     "output_type": "stream",
     "text": [
      "0.7495855490768797\n",
      "MLPClassifier(early_stopping=True, hidden_layer_sizes=(16, 32, 32),\n",
      "              learning_rate='adaptive', max_iter=50)\n",
      "0.7258404902528626\n",
      "MLPClassifier(hidden_layer_sizes=(16,), max_iter=50)\n"
     ]
    },
    {
     "name": "stderr",
     "output_type": "stream",
     "text": [
      "/Library/Python/3.9/site-packages/sklearn/neural_network/_multilayer_perceptron.py:686: ConvergenceWarning: Stochastic Optimizer: Maximum iterations (50) reached and the optimization hasn't converged yet.\n",
      "  warnings.warn(\n"
     ]
    },
    {
     "name": "stdout",
     "output_type": "stream",
     "text": [
      "0.7449895558457754\n",
      "MLPClassifier(hidden_layer_sizes=(32, 16), max_iter=50)\n"
     ]
    },
    {
     "name": "stderr",
     "output_type": "stream",
     "text": [
      "/Library/Python/3.9/site-packages/sklearn/neural_network/_multilayer_perceptron.py:686: ConvergenceWarning: Stochastic Optimizer: Maximum iterations (50) reached and the optimization hasn't converged yet.\n",
      "  warnings.warn(\n"
     ]
    },
    {
     "name": "stdout",
     "output_type": "stream",
     "text": [
      "0.7187190230970137\n",
      "MLPClassifier(hidden_layer_sizes=(32, 32), max_iter=50)\n"
     ]
    },
    {
     "name": "stderr",
     "output_type": "stream",
     "text": [
      "/Library/Python/3.9/site-packages/sklearn/neural_network/_multilayer_perceptron.py:686: ConvergenceWarning: Stochastic Optimizer: Maximum iterations (50) reached and the optimization hasn't converged yet.\n",
      "  warnings.warn(\n"
     ]
    },
    {
     "name": "stdout",
     "output_type": "stream",
     "text": [
      "0.7138873979589894\n",
      "MLPClassifier(hidden_layer_sizes=(32, 32), max_iter=100)\n"
     ]
    },
    {
     "name": "stderr",
     "output_type": "stream",
     "text": [
      "/Library/Python/3.9/site-packages/sklearn/neural_network/_multilayer_perceptron.py:686: ConvergenceWarning: Stochastic Optimizer: Maximum iterations (100) reached and the optimization hasn't converged yet.\n",
      "  warnings.warn(\n"
     ]
    },
    {
     "name": "stdout",
     "output_type": "stream",
     "text": [
      "0.706011462384718\n",
      "MLPClassifier(hidden_layer_sizes=(16, 16, 10), max_iter=50)\n"
     ]
    },
    {
     "name": "stderr",
     "output_type": "stream",
     "text": [
      "/Library/Python/3.9/site-packages/sklearn/neural_network/_multilayer_perceptron.py:686: ConvergenceWarning: Stochastic Optimizer: Maximum iterations (50) reached and the optimization hasn't converged yet.\n",
      "  warnings.warn(\n"
     ]
    },
    {
     "name": "stdout",
     "output_type": "stream",
     "text": [
      "0.7285402694999998\n",
      "MLPClassifier(early_stopping=True, hidden_layer_sizes=(256, 10), max_iter=50)\n"
     ]
    },
    {
     "name": "stderr",
     "output_type": "stream",
     "text": [
      "/Library/Python/3.9/site-packages/sklearn/neural_network/_multilayer_perceptron.py:686: ConvergenceWarning: Stochastic Optimizer: Maximum iterations (50) reached and the optimization hasn't converged yet.\n",
      "  warnings.warn(\n"
     ]
    },
    {
     "name": "stdout",
     "output_type": "stream",
     "text": [
      "0.6672990852756087\n",
      "MLPClassifier(early_stopping=True, hidden_layer_sizes=(32, 128, 128, 16),\n",
      "              learning_rate='adaptive', max_iter=100)\n",
      "0.6489377075236151\n",
      "MLPClassifier(early_stopping=True, hidden_layer_sizes=(128,),\n",
      "              learning_rate='adaptive', max_iter=50)\n"
     ]
    },
    {
     "name": "stderr",
     "output_type": "stream",
     "text": [
      "/Library/Python/3.9/site-packages/sklearn/neural_network/_multilayer_perceptron.py:686: ConvergenceWarning: Stochastic Optimizer: Maximum iterations (50) reached and the optimization hasn't converged yet.\n",
      "  warnings.warn(\n"
     ]
    },
    {
     "name": "stdout",
     "output_type": "stream",
     "text": [
      "0.7059072099024423\n",
      "MLPClassifier(early_stopping=True, hidden_layer_sizes=(16, 128), max_iter=50)\n"
     ]
    },
    {
     "name": "stderr",
     "output_type": "stream",
     "text": [
      "/Library/Python/3.9/site-packages/sklearn/neural_network/_multilayer_perceptron.py:686: ConvergenceWarning: Stochastic Optimizer: Maximum iterations (50) reached and the optimization hasn't converged yet.\n",
      "  warnings.warn(\n"
     ]
    },
    {
     "name": "stdout",
     "output_type": "stream",
     "text": [
      "0.7234965500515795\n",
      "MLPClassifier(early_stopping=True, hidden_layer_sizes=(64, 32),\n",
      "              learning_rate='adaptive', max_iter=50)\n"
     ]
    },
    {
     "name": "stderr",
     "output_type": "stream",
     "text": [
      "/Library/Python/3.9/site-packages/sklearn/neural_network/_multilayer_perceptron.py:686: ConvergenceWarning: Stochastic Optimizer: Maximum iterations (50) reached and the optimization hasn't converged yet.\n",
      "  warnings.warn(\n"
     ]
    },
    {
     "name": "stdout",
     "output_type": "stream",
     "text": [
      "0.6938776460961986\n",
      "MLPClassifier(early_stopping=True, hidden_layer_sizes=(64, 64),\n",
      "              learning_rate='adaptive', max_iter=50)\n"
     ]
    },
    {
     "name": "stderr",
     "output_type": "stream",
     "text": [
      "/Library/Python/3.9/site-packages/sklearn/neural_network/_multilayer_perceptron.py:686: ConvergenceWarning: Stochastic Optimizer: Maximum iterations (50) reached and the optimization hasn't converged yet.\n",
      "  warnings.warn(\n"
     ]
    },
    {
     "name": "stdout",
     "output_type": "stream",
     "text": [
      "0.6771529340474738\n",
      "MLPClassifier(hidden_layer_sizes=(32,), learning_rate='adaptive', max_iter=50)\n"
     ]
    },
    {
     "name": "stderr",
     "output_type": "stream",
     "text": [
      "/Library/Python/3.9/site-packages/sklearn/neural_network/_multilayer_perceptron.py:686: ConvergenceWarning: Stochastic Optimizer: Maximum iterations (50) reached and the optimization hasn't converged yet.\n",
      "  warnings.warn(\n"
     ]
    },
    {
     "name": "stdout",
     "output_type": "stream",
     "text": [
      "0.7339488833177392\n",
      "MLPClassifier(hidden_layer_sizes=(32,), max_iter=50)\n"
     ]
    },
    {
     "name": "stderr",
     "output_type": "stream",
     "text": [
      "/Library/Python/3.9/site-packages/sklearn/neural_network/_multilayer_perceptron.py:686: ConvergenceWarning: Stochastic Optimizer: Maximum iterations (50) reached and the optimization hasn't converged yet.\n",
      "  warnings.warn(\n"
     ]
    },
    {
     "name": "stdout",
     "output_type": "stream",
     "text": [
      "0.7361303100008851\n",
      "MLPClassifier(hidden_layer_sizes=(10, 32), max_iter=50)\n"
     ]
    },
    {
     "name": "stderr",
     "output_type": "stream",
     "text": [
      "/Library/Python/3.9/site-packages/sklearn/neural_network/_multilayer_perceptron.py:686: ConvergenceWarning: Stochastic Optimizer: Maximum iterations (50) reached and the optimization hasn't converged yet.\n",
      "  warnings.warn(\n"
     ]
    },
    {
     "name": "stdout",
     "output_type": "stream",
     "text": [
      "0.7393100895879853\n",
      "MLPClassifier(hidden_layer_sizes=(128,), learning_rate='adaptive', max_iter=100)\n"
     ]
    },
    {
     "name": "stderr",
     "output_type": "stream",
     "text": [
      "/Library/Python/3.9/site-packages/sklearn/neural_network/_multilayer_perceptron.py:686: ConvergenceWarning: Stochastic Optimizer: Maximum iterations (100) reached and the optimization hasn't converged yet.\n",
      "  warnings.warn(\n"
     ]
    },
    {
     "name": "stdout",
     "output_type": "stream",
     "text": [
      "0.6880077916831062\n",
      "MLPClassifier(hidden_layer_sizes=(16,), max_iter=50)\n"
     ]
    },
    {
     "name": "stderr",
     "output_type": "stream",
     "text": [
      "/Library/Python/3.9/site-packages/sklearn/neural_network/_multilayer_perceptron.py:686: ConvergenceWarning: Stochastic Optimizer: Maximum iterations (50) reached and the optimization hasn't converged yet.\n",
      "  warnings.warn(\n"
     ]
    },
    {
     "name": "stdout",
     "output_type": "stream",
     "text": [
      "0.7444825859080082\n",
      "MLPClassifier(hidden_layer_sizes=(32,), max_iter=30)\n"
     ]
    },
    {
     "name": "stderr",
     "output_type": "stream",
     "text": [
      "/Library/Python/3.9/site-packages/sklearn/neural_network/_multilayer_perceptron.py:686: ConvergenceWarning: Stochastic Optimizer: Maximum iterations (30) reached and the optimization hasn't converged yet.\n",
      "  warnings.warn(\n"
     ]
    },
    {
     "name": "stdout",
     "output_type": "stream",
     "text": [
      "0.7391921645614657\n",
      "MLPClassifier(hidden_layer_sizes=(10,), max_iter=30)\n"
     ]
    },
    {
     "name": "stderr",
     "output_type": "stream",
     "text": [
      "/Library/Python/3.9/site-packages/sklearn/neural_network/_multilayer_perceptron.py:686: ConvergenceWarning: Stochastic Optimizer: Maximum iterations (30) reached and the optimization hasn't converged yet.\n",
      "  warnings.warn(\n"
     ]
    },
    {
     "name": "stdout",
     "output_type": "stream",
     "text": [
      "0.7429606558199662\n",
      "MLPClassifier(early_stopping=True, hidden_layer_sizes=(64, 10),\n",
      "              learning_rate='adaptive', max_iter=50)\n",
      "0.7102928622085305\n",
      "MLPClassifier(early_stopping=True, hidden_layer_sizes=(128,), max_iter=50)\n"
     ]
    },
    {
     "name": "stderr",
     "output_type": "stream",
     "text": [
      "/Library/Python/3.9/site-packages/sklearn/neural_network/_multilayer_perceptron.py:686: ConvergenceWarning: Stochastic Optimizer: Maximum iterations (50) reached and the optimization hasn't converged yet.\n",
      "  warnings.warn(\n"
     ]
    },
    {
     "name": "stdout",
     "output_type": "stream",
     "text": [
      "0.7057542508556697\n",
      "MLPClassifier(hidden_layer_sizes=(10,), learning_rate='adaptive', max_iter=50)\n"
     ]
    },
    {
     "name": "stderr",
     "output_type": "stream",
     "text": [
      "/Library/Python/3.9/site-packages/sklearn/neural_network/_multilayer_perceptron.py:686: ConvergenceWarning: Stochastic Optimizer: Maximum iterations (50) reached and the optimization hasn't converged yet.\n",
      "  warnings.warn(\n"
     ]
    },
    {
     "name": "stdout",
     "output_type": "stream",
     "text": [
      "0.7511557835353494\n",
      "MLPClassifier(early_stopping=True, hidden_layer_sizes=(32, 16, 16),\n",
      "              learning_rate='adaptive', max_iter=50)\n",
      "0.7154266250623427\n",
      "MLPClassifier(early_stopping=True, hidden_layer_sizes=(128,),\n",
      "              learning_rate='adaptive', max_iter=50)\n"
     ]
    },
    {
     "name": "stderr",
     "output_type": "stream",
     "text": [
      "/Library/Python/3.9/site-packages/sklearn/neural_network/_multilayer_perceptron.py:686: ConvergenceWarning: Stochastic Optimizer: Maximum iterations (50) reached and the optimization hasn't converged yet.\n",
      "  warnings.warn(\n"
     ]
    },
    {
     "name": "stdout",
     "output_type": "stream",
     "text": [
      "0.7059590736287586\n",
      "MLPClassifier(early_stopping=True, hidden_layer_sizes=(16, 32, 64),\n",
      "              learning_rate='adaptive', max_iter=50)\n"
     ]
    },
    {
     "name": "stderr",
     "output_type": "stream",
     "text": [
      "/Library/Python/3.9/site-packages/sklearn/neural_network/_multilayer_perceptron.py:686: ConvergenceWarning: Stochastic Optimizer: Maximum iterations (50) reached and the optimization hasn't converged yet.\n",
      "  warnings.warn(\n"
     ]
    },
    {
     "name": "stdout",
     "output_type": "stream",
     "text": [
      "0.7142878998551196\n",
      "[-0.          0.56848205 -0.         -0.          0.         -0.\n",
      " -0.          0.          0.00167547  0.         -0.          0.\n",
      "  0.          0.05645391  0.          0.          0.          0.\n",
      " -0.          0.          0.          0.          0.          0.\n",
      "  0.          0.00633605  0.         -0.         -0.          0.\n",
      "  0.          0.          0.02253523  0.          0.          0.\n",
      "  0.          0.          0.0874611   0.          0.          0.\n",
      " -0.          0.          0.          0.03239539  0.          0.\n",
      "  0.05395341  0.00754705  0.          0.          0.          0.\n",
      "  0.          0.          0.         -0.          0.00606208  0.\n",
      "  0.          0.          0.00768253  0.          0.          0.\n",
      "  0.04880298  0.          0.03456688  0.          0.          0.00163733\n",
      "  0.          0.          0.          0.          0.          0.\n",
      "  0.07119361  0.          0.          0.          0.          0.\n",
      "  0.02537298  0.          0.          0.00077703  0.          0.\n",
      "  0.          0.          0.          0.          0.01017725  0.\n",
      "  0.01174386  0.          0.          0.         -0.          0.\n",
      "  0.          0.          0.03434243  0.         -0.          0.\n",
      "  0.          0.          0.          0.          0.         -0.\n",
      "  0.          0.00488799 -0.0067267   0.          0.         -0.\n",
      "  0.          0.          0.          0.          0.          0.\n",
      "  0.          0.          0.          0.          0.          0.\n",
      "  0.          0.        ]\n",
      "(0.7678550349669907, 0.8247353244511797)\n"
     ]
    }
   ],
   "source": [
    "from sklearn.naive_bayes import GaussianNB\n",
    "from sklearn.discriminant_analysis import QuadraticDiscriminantAnalysis\n",
    "import xgboost\n",
    "from xgboost.sklearn import XGBClassifier\n",
    "from sklearn.tree import DecisionTreeClassifier\n",
    "\n",
    "#aggregation without the bond K=136\n",
    "models = [DecisionTreeClassifier(random_state=42,max_depth=5),\n",
    "          MLPClassifier(hidden_layer_sizes=(10,100,10),max_iter=30,early_stopping=True,learning_rate='adaptive'),\n",
    "        MLPClassifier(hidden_layer_sizes=(128,256,256,32),max_iter=50,early_stopping=True),\n",
    "        MLPClassifier(hidden_layer_sizes=(128,32,32),max_iter=50,early_stopping=True),\n",
    "        MLPClassifier(hidden_layer_sizes=(100,32),max_iter=50,alpha=0.1,early_stopping=True),\n",
    "        MLPClassifier(hidden_layer_sizes=(128,128),max_iter=10,early_stopping=True),\n",
    "        XGBClassifier(max_depth=15, learning_rate=0.1, n_estimators=100, seed=42),\n",
    "        XGBClassifier(max_depth=10, learning_rate=0.01, n_estimators=100, seed=42),\n",
    "        XGBClassifier(max_depth=25, learning_rate=0.01, n_estimators=100, seed=42),\n",
    "        XGBClassifier(max_depth=50, learning_rate=0.1, n_estimators=1000, seed=42),\n",
    "        MLPClassifier(hidden_layer_sizes=(10,100,10),max_iter=30,early_stopping=True,learning_rate='adaptive'),\n",
    "        MLPClassifier(hidden_layer_sizes=(128,256,256,32),max_iter=50,early_stopping=True),\n",
    "        MLPClassifier(hidden_layer_sizes=(128,32,32),max_iter=50,early_stopping=True),\n",
    "        MLPClassifier(hidden_layer_sizes=(100,32),max_iter=50,alpha=0.1,early_stopping=True),\n",
    "        MLPClassifier(hidden_layer_sizes=(128,128,128),max_iter=10,early_stopping=True),\n",
    "        MLPClassifier(hidden_layer_sizes=(32,256,256,32),max_iter=10,early_stopping=True,learning_rate='adaptive',alpha=0.1),\n",
    "        MLPClassifier(hidden_layer_sizes=(32,256,128,10),max_iter=10,early_stopping=True,learning_rate_init=0.01),\n",
    "        MLPClassifier(hidden_layer_sizes=(32,128,128,32),max_iter=10,early_stopping=True,learning_rate='adaptive'),\n",
    "        MLPClassifier(hidden_layer_sizes=(128,256,256,32),max_iter=50,learning_rate_init=0.01),\n",
    "        MLPClassifier(hidden_layer_sizes=(32,64,64,32),max_iter=10,early_stopping=True,learning_rate='adaptive'),\n",
    "        MLPClassifier(hidden_layer_sizes=(128,32,32,10),max_iter=10,early_stopping=True,learning_rate='adaptive'),\n",
    "        MLPClassifier(hidden_layer_sizes=(32,64,128,32),max_iter=10,early_stopping=True,learning_rate_init=0.01,alpha=0.1),\n",
    "        MLPClassifier(hidden_layer_sizes=(32,128,128,10),max_iter=10,early_stopping=True,learning_rate='adaptive',alpha=0.1),\n",
    "        MLPClassifier(hidden_layer_sizes=(5,100,100),max_iter=10,early_stopping=True),\n",
    "        MLPClassifier(hidden_layer_sizes=(10,),max_iter=50),\n",
    "        MLPClassifier(hidden_layer_sizes=(10,),max_iter=50),\n",
    "        MLPClassifier(hidden_layer_sizes=(5,5),max_iter=50),\n",
    "        MLPClassifier(hidden_layer_sizes=(10,10,1),max_iter=50),\n",
    "        MLPClassifier(hidden_layer_sizes=(5,100,100),max_iter=30,early_stopping=True,alpha=0.1),\n",
    "        MLPClassifier(hidden_layer_sizes=(100,),max_iter=50),\n",
    "        MLPClassifier(hidden_layer_sizes=(10,32),max_iter=50,early_stopping=True),\n",
    "        MLPClassifier(hidden_layer_sizes=(5,100),max_iter=50),\n",
    "        MLPClassifier(hidden_layer_sizes=(10,),max_iter=50,learning_rate='adaptive'),\n",
    "        MLPClassifier(hidden_layer_sizes=(30,),max_iter=50),\n",
    "        MLPClassifier(hidden_layer_sizes=(10,),max_iter=50),\n",
    "        MLPClassifier(hidden_layer_sizes=(32,128,128,16),max_iter=50,early_stopping=True,learning_rate='adaptive'),\n",
    "        MLPClassifier(hidden_layer_sizes=(8,),max_iter=50),\n",
    "        MLPClassifier(hidden_layer_sizes=(32,),max_iter=50),\n",
    "        MLPClassifier(hidden_layer_sizes=(80,),max_iter=30),\n",
    "        MLPClassifier(hidden_layer_sizes=(10,),max_iter=50),\n",
    "        MLPClassifier(hidden_layer_sizes=(128,16,16),max_iter=30,early_stopping=True,learning_rate='adaptive',alpha=0.1),\n",
    "        MLPClassifier(hidden_layer_sizes=(10,),max_iter=50),\n",
    "        MLPClassifier(hidden_layer_sizes=(500,),max_iter=50,early_stopping=True,learning_rate='adaptive'),\n",
    "        MLPClassifier(hidden_layer_sizes=(10,128,128),max_iter=50,early_stopping=True,learning_rate='adaptive'),\n",
    "        MLPClassifier(hidden_layer_sizes=(10,30),max_iter=50,learning_rate='adaptive'),\n",
    "        MLPClassifier(hidden_layer_sizes=(10,32),max_iter=50),\n",
    "        MLPClassifier(hidden_layer_sizes=(5,32),max_iter=50,learning_rate='adaptive'),\n",
    "        MLPClassifier(hidden_layer_sizes=(32,),max_iter=50),\n",
    "        MLPClassifier(hidden_layer_sizes=(5,32,32),max_iter=50,early_stopping=True,learning_rate='adaptive'),\n",
    "        MLPClassifier(hidden_layer_sizes=(32,32,10),max_iter=50,early_stopping=True,learning_rate='adaptive'),\n",
    "        MLPClassifier(hidden_layer_sizes=(32,64),max_iter=50,early_stopping=True,learning_rate='adaptive'),\n",
    "        MLPClassifier(hidden_layer_sizes=(32,16),max_iter=50),\n",
    "        MLPClassifier(hidden_layer_sizes=(16,32),max_iter=30,learning_rate='adaptive'),\n",
    "        MLPClassifier(hidden_layer_sizes=(32,32),max_iter=50),\n",
    "        MLPClassifier(hidden_layer_sizes=(64,),max_iter=30,learning_rate='adaptive'),\n",
    "        MLPClassifier(hidden_layer_sizes=(64,5),max_iter=50),\n",
    "        MLPClassifier(hidden_layer_sizes=(64,10),max_iter=50,early_stopping=True,learning_rate='adaptive'),\n",
    "        MLPClassifier(hidden_layer_sizes=(32,),max_iter=50),\n",
    "        MLPClassifier(hidden_layer_sizes=(64,16,16),max_iter=30,early_stopping=True,learning_rate='adaptive',alpha=0.1),\n",
    "        MLPClassifier(hidden_layer_sizes=(32,),max_iter=50),\n",
    "        MLPClassifier(hidden_layer_sizes=(8,8,8,),max_iter=50),\n",
    "        MLPClassifier(hidden_layer_sizes=(8,16),max_iter=50),\n",
    "        MLPClassifier(hidden_layer_sizes=(10,8),max_iter=50),\n",
    "        MLPClassifier(hidden_layer_sizes=(8,32,32,8),max_iter=50),\n",
    "        MLPClassifier(hidden_layer_sizes=(64,8,8),max_iter=50),\n",
    "        MLPClassifier(hidden_layer_sizes=(10,),max_iter=50),\n",
    "        MLPClassifier(hidden_layer_sizes=(128,),max_iter=50),\n",
    "        MLPClassifier(hidden_layer_sizes=(16,16,128),max_iter=50,early_stopping=True,learning_rate='adaptive'),\n",
    "        MLPClassifier(hidden_layer_sizes=(10,),max_iter=50),\n",
    "        MLPClassifier(hidden_layer_sizes=(10,),max_iter=50),\n",
    "        MLPClassifier(hidden_layer_sizes=(10,),max_iter=50),\n",
    "        MLPClassifier(hidden_layer_sizes=(10,),max_iter=50),\n",
    "        MLPClassifier(hidden_layer_sizes=(10,64,64,64,16),max_iter=30,early_stopping=True,alpha=0.1),\n",
    "        MLPClassifier(hidden_layer_sizes=(10,),max_iter=50,learning_rate='adaptive'),\n",
    "        MLPClassifier(hidden_layer_sizes=(10,),max_iter=50),\n",
    "        MLPClassifier(hidden_layer_sizes=(128,),max_iter=50),\n",
    "        MLPClassifier(hidden_layer_sizes=(10,32,10),max_iter=50),\n",
    "        MLPClassifier(hidden_layer_sizes=(10,20,10),max_iter=50),\n",
    "        MLPClassifier(hidden_layer_sizes=(128,10),max_iter=50),\n",
    "        MLPClassifier(hidden_layer_sizes=(64,10),max_iter=50),\n",
    "        MLPClassifier(hidden_layer_sizes=(128,),max_iter=50,early_stopping=True,learning_rate='adaptive'),\n",
    "        MLPClassifier(hidden_layer_sizes=(100,10),max_iter=30,early_stopping=True),\n",
    "        MLPClassifier(hidden_layer_sizes=(10,),max_iter=50),\n",
    "        MLPClassifier(hidden_layer_sizes=(10,),max_iter=50),\n",
    "        MLPClassifier(hidden_layer_sizes=(10,),max_iter=50),\n",
    "        MLPClassifier(hidden_layer_sizes=(10,10),max_iter=50,learning_rate='adaptive'),\n",
    "        MLPClassifier(hidden_layer_sizes=(10,),max_iter=50),\n",
    "        MLPClassifier(hidden_layer_sizes=(128,32,32),max_iter=50,early_stopping=True,learning_rate='adaptive',alpha=0.1),\n",
    "        MLPClassifier(hidden_layer_sizes=(10,),max_iter=50),\n",
    "        MLPClassifier(hidden_layer_sizes=(32,8),max_iter=50,alpha=0.1),\n",
    "        MLPClassifier(hidden_layer_sizes=(12,12),max_iter=50),\n",
    "        MLPClassifier(hidden_layer_sizes=(4,8,8),max_iter=50),\n",
    "        MLPClassifier(hidden_layer_sizes=(10,8,8),max_iter=50),\n",
    "        MLPClassifier(hidden_layer_sizes=(8,32,32),max_iter=50,early_stopping=True,learning_rate='adaptive'),\n",
    "        MLPClassifier(hidden_layer_sizes=(100,),max_iter=50,learning_rate='adaptive'),\n",
    "        MLPClassifier(hidden_layer_sizes=(10,32,32,10),max_iter=50,early_stopping=True),\n",
    "        MLPClassifier(hidden_layer_sizes=(8,32,32),max_iter=50,early_stopping=True,learning_rate='adaptive'),\n",
    "        MLPClassifier(hidden_layer_sizes=(100,),max_iter=50),\n",
    "        MLPClassifier(hidden_layer_sizes=(256,),max_iter=50),\n",
    "        MLPClassifier(hidden_layer_sizes=(32,32),max_iter=50),\n",
    "        MLPClassifier(hidden_layer_sizes=(10,32),max_iter=100),\n",
    "        MLPClassifier(hidden_layer_sizes=(10,),max_iter=50),\n",
    "        MLPClassifier(hidden_layer_sizes=(16,32,32),max_iter=50,early_stopping=True,learning_rate='adaptive'),\n",
    "        MLPClassifier(hidden_layer_sizes=(16,),max_iter=50),\n",
    "        MLPClassifier(hidden_layer_sizes=(32,16),max_iter=50),\n",
    "        MLPClassifier(hidden_layer_sizes=(32,32),max_iter=50),\n",
    "        MLPClassifier(hidden_layer_sizes=(32,32),max_iter=100),\n",
    "        MLPClassifier(hidden_layer_sizes=(16,16,10),max_iter=50),\n",
    "        MLPClassifier(hidden_layer_sizes=(256,10),max_iter=50,early_stopping=True),\n",
    "        MLPClassifier(hidden_layer_sizes=(32,128,128,16),max_iter=100,early_stopping=True,learning_rate='adaptive'),\n",
    "        MLPClassifier(hidden_layer_sizes=(128,),max_iter=50,early_stopping=True,learning_rate='adaptive'),\n",
    "        MLPClassifier(hidden_layer_sizes=(16,128),max_iter=50,early_stopping=True),\n",
    "        MLPClassifier(hidden_layer_sizes=(64,32),max_iter=50,early_stopping=True,learning_rate='adaptive'),\n",
    "        MLPClassifier(hidden_layer_sizes=(64,64),max_iter=50,early_stopping=True,learning_rate='adaptive'),\n",
    "        MLPClassifier(hidden_layer_sizes=(32,),max_iter=50,learning_rate='adaptive'),\n",
    "        MLPClassifier(hidden_layer_sizes=(32,),max_iter=50),\n",
    "        MLPClassifier(hidden_layer_sizes=(10,32),max_iter=50),\n",
    "        MLPClassifier(hidden_layer_sizes=(128,),max_iter=100,learning_rate='adaptive'),\n",
    "        MLPClassifier(hidden_layer_sizes=(16,),max_iter=50),\n",
    "        MLPClassifier(hidden_layer_sizes=(32,),max_iter=30),\n",
    "        MLPClassifier(hidden_layer_sizes=(10,),max_iter=30),\n",
    "        MLPClassifier(hidden_layer_sizes=(64,10),max_iter=50,early_stopping=True,learning_rate='adaptive'),\n",
    "        MLPClassifier(hidden_layer_sizes=(128,),max_iter=50,early_stopping=True),\n",
    "        MLPClassifier(hidden_layer_sizes=(10,),max_iter=50,learning_rate='adaptive'),\n",
    "        MLPClassifier(hidden_layer_sizes=(32,16,16),max_iter=50,early_stopping=True,learning_rate='adaptive'),\n",
    "        MLPClassifier(hidden_layer_sizes=(128,),max_iter=50,early_stopping=True,learning_rate='adaptive'),\n",
    "        MLPClassifier(hidden_layer_sizes=(16,32,64,),max_iter=50,early_stopping=True,learning_rate='adaptive')\n",
    "]\n",
    "print(linear_regression(X1, Y1, X2, Y2, models, XTest, YTest))\n",
    "print(lasso_reg(X1, Y1, X2, Y2, models, XTest, YTest))"
   ]
  },
  {
   "cell_type": "code",
   "execution_count": null,
   "metadata": {},
   "outputs": [],
   "source": [
    "# Lasso (0.7678550349669907, 0.8247353244511797) > (0.76729769967911, 0.30869423640507976, array([[37123,  6634],      [ 1858,  1896]]))"
   ]
  }
 ],
 "metadata": {
  "kernelspec": {
   "display_name": "Python 3",
   "language": "python",
   "name": "python3"
  },
  "language_info": {
   "codemirror_mode": {
    "name": "ipython",
    "version": 3
   },
   "file_extension": ".py",
   "mimetype": "text/x-python",
   "name": "python",
   "nbconvert_exporter": "python",
   "pygments_lexer": "ipython3",
   "version": "3.9.6 (default, May  7 2023, 23:32:44) \n[Clang 14.0.3 (clang-1403.0.22.14.1)]"
  },
  "orig_nbformat": 4,
  "vscode": {
   "interpreter": {
    "hash": "31f2aee4e71d21fbe5cf8b01ff0e069b9275f58929596ceb00d14d90e3e16cd6"
   }
  }
 },
 "nbformat": 4,
 "nbformat_minor": 2
}
