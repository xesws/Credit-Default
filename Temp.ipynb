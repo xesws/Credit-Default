{
 "cells": [
  {
   "cell_type": "code",
   "execution_count": 3,
   "metadata": {},
   "outputs": [],
   "source": [
    "import numpy as np\n",
    "\n",
    "class Graph:\n",
    "    def __init__(self):\n",
    "        self.nodes = []\n",
    "        self.edges = []\n",
    "\n",
    "    def add_node(self, node):\n",
    "        self.nodes.append(node)\n",
    "\n",
    "    def add_edge(self, node1, node2):\n",
    "        node1.add_neighbor(node2)\n",
    "        node2.add_neighbor(node1)\n",
    "        self.edges.append((node1, node2))\n",
    "\n",
    "class Node:\n",
    "    def __init__(self, data):\n",
    "        self.data = data\n",
    "        self.neighbors = []\n",
    "        self.matrix = np.array([np.random.randint(0,10, size=10000) for _ in range(10000)])\n",
    "\n",
    "    def add_neighbor(self, node):\n",
    "        self.neighbors.append(node)\n"
   ]
  },
  {
   "cell_type": "code",
   "execution_count": 7,
   "metadata": {},
   "outputs": [
    {
     "data": {
      "text/plain": [
       "[<__main__.Node at 0x10f5468b0>,\n",
       " <__main__.Node at 0x10f540f70>,\n",
       " <__main__.Node at 0x10f540190>,\n",
       " <__main__.Node at 0x10f540790>,\n",
       " <__main__.Node at 0x10f540400>,\n",
       " <__main__.Node at 0x10f540580>,\n",
       " <__main__.Node at 0x10f540b20>,\n",
       " <__main__.Node at 0x10f546cd0>,\n",
       " <__main__.Node at 0x10f546100>,\n",
       " <__main__.Node at 0x10f546370>,\n",
       " <__main__.Node at 0x10f546070>,\n",
       " <__main__.Node at 0x10f5465b0>,\n",
       " <__main__.Node at 0x10f546250>,\n",
       " <__main__.Node at 0x10f55a280>,\n",
       " <__main__.Node at 0x10f55a370>,\n",
       " <__main__.Node at 0x10f55a550>,\n",
       " <__main__.Node at 0x10f55a7f0>,\n",
       " <__main__.Node at 0x10f55a5b0>,\n",
       " <__main__.Node at 0x10f55a820>,\n",
       " <__main__.Node at 0x10f55a8e0>,\n",
       " <__main__.Node at 0x10f55a8b0>,\n",
       " <__main__.Node at 0x10f55a9d0>]"
      ]
     },
     "execution_count": 7,
     "metadata": {},
     "output_type": "execute_result"
    }
   ],
   "source": [
    "graph = Graph()\n",
    "\n",
    "node = lambda i : Node(i)\n",
    "[node(k) for k in range(22)]"
   ]
  },
  {
   "cell_type": "code",
   "execution_count": null,
   "metadata": {},
   "outputs": [],
   "source": []
  }
 ],
 "metadata": {
  "kernelspec": {
   "display_name": "Python 3",
   "language": "python",
   "name": "python3"
  },
  "language_info": {
   "codemirror_mode": {
    "name": "ipython",
    "version": 3
   },
   "file_extension": ".py",
   "mimetype": "text/x-python",
   "name": "python",
   "nbconvert_exporter": "python",
   "pygments_lexer": "ipython3",
   "version": "3.9.6 (default, Sep 26 2022, 11:37:49) \n[Clang 14.0.0 (clang-1400.0.29.202)]"
  },
  "orig_nbformat": 4,
  "vscode": {
   "interpreter": {
    "hash": "31f2aee4e71d21fbe5cf8b01ff0e069b9275f58929596ceb00d14d90e3e16cd6"
   }
  }
 },
 "nbformat": 4,
 "nbformat_minor": 2
}
